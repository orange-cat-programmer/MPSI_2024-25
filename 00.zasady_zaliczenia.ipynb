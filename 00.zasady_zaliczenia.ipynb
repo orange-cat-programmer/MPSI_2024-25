{
 "cells": [
  {
   "cell_type": "markdown",
   "metadata": {},
   "source": [
    "---\n",
    "## <span style=\"color:red\">Zasady zaliczenia przedmiotu</span>\n",
    "---\n",
    "### Ocena z ćwiczeń\n",
    "\n",
    "Na ocenę z ćwiczeń będą miały wpływ następujące czynniki:\n",
    "1. Zadania domowe (30%)\n",
    "2. Kolokwia (40%)\n",
    "3. Projekty (30%)\n",
    "4. Aktywność na ćwiczeniach (15%)\n",
    "\n",
    "\n",
    "#### Zadania domowe\n",
    "1. W trakcie zajęć studenci otrzymają do wypełnienia notebook z ćwiczeniami. Notebook z danych zajęć musi być uzupełniony najpóźniej przed rozpoczęciem kolejnych zajęć. Przed kolejnymi zajęciami Studenci deklarują, które z zadanych zadań rozwiązali poprawnie w udostępnionym docsie. \n",
    "2. W przypadku ćwiczeń tablicowych studenci otrzymają w wyprzedzeniem listę zadań opublikowaną w repozytorium przedmiotu oraz na Pegazie.   \n",
    "3. Na początku każdych zajęć prowadząca będzie prosić o przedstawienie i omówienie danego zadania, które zostało zadane na poprzednich zajęciach. W przypadku niezrozumienia przez studenta fragmentu lub całości kodu, istnieje możliwość odjęcia punktów. \n",
    "4. Za każdy poprawnie uzupełniony notebook można dostać maksymalnie 10 punktów.\n",
    "\n",
    "Osoby dołączające do zajęć w późniejszym terminie muszą liczyć się z faktem, iż nie mogą otrzymać punktów za zaległe zadania.\n",
    "\n",
    "#### Kolokwia\n",
    "W trakcie semestru planowane są trzy kolokwia. Pod uwagę do oceny końcowej brane będą pod uwagę najlepsze dwie oceny z kolokwiów. Termin planowanego kolokwium będzie zapowiedziany z conajmniej 2 tygodniowym wyprzedzeniem. \n",
    "\n",
    "#### Projekty\n",
    "W ramach zaliczenia przedmiotu każda grupa (lub osoba) będzie pracować nad jednym zbiorem danych. Każda grupa ma za zadanie opracować konkretne rozwiązanie bazujące na tym zbiorze danych. Z uwagi na charakter projektu obowiązywać będą różne dla każdej z osób terminy.  \n",
    "Projekt będzie obejmować m.in.:  \n",
    "- **Analizę danych** – wstępne przetworzenie i eksplorację zbioru.  \n",
    "- **Dobór metod** – zastosowanie odpowiednich algorytmów matematycznych i sztucznej inteligencji.  \n",
    "- **Implementację** – stworzenie działającego rozwiązania na bazie danych.  \n",
    "- **Ewaluację** – ocenę jakości rozwiązania oraz wnioski. \n",
    "\n",
    "Szczegółowe wymagania oraz kryteria oceny zostaną omówione na ćwiczeniach. \n",
    "\n",
    "#### Aktywność na ćwiczeniach\n",
    "1. Podczas ćwiczeń tablicowych za każde poprawnie rozwiązane zadanie student otrzyma 1 punkt. \n",
    "2. Na ćwiczeniach dodatkowo punktowana będzie aktywność w formie przygotowania zajęć. Przygotowywać zajęcia można samodzielnie lub w grupach 2 osobowych. Przygotowanie zajęć musi obejmować następujące elementy:\n",
    "- przygotowanie prezentacji (ok. 30 min) wprowadzającej omawiane zagadnienie,\n",
    "- przygotowanie kilku zadań do samodzielnego rozwiązania przez pozostałych studentów,\n",
    "- przedstawienie poprawnych rozwiązań,\n",
    "- przeprowadzenie mini-kolokwium (3 zadania) na następnych ćwiczeniach. Zadania na mini-kolokwium muszą być tak sformułowane, aby możliwe było ich rozwiązanie w trakcie 30 min. \n",
    "\n",
    "Każde mini-kolowium będzie ocenione przez prowadzącego/prowadzących dane ćwiczenia. Maksymalnie za każde z mini-kolowium można przyznać 3 punkty (po 1 za każde poprawnie rozwiązanie zadanie). \n",
    "\n",
    "Za samodzielne przygotowanie zajęć i przeprowadzenie mini-kolokwium można uzyskać 13 punktów. \n",
    "Za przygotowanie zajęć i przeprowadzenie mini-kolokwium w grupie 2-osobowej można uzyskać po 8 punktów dla każdego z prowadzących. \n",
    "\n",
    "---\n",
    "Ocena z ćwiczeń będzie obliczana zgodnie z klasyczną skalą ocen, tj.: \n",
    "\n",
    "* [0-50) %: 2\n",
    "* [50-60) %: 3\n",
    "* [60-70) %: 3,5\n",
    "* [70-80) %: 4\n",
    "* [80-90) %: 4,5\n",
    "* [90-100) %: 5\n",
    "---"
   ]
  },
  {
   "cell_type": "markdown",
   "metadata": {},
   "source": [
    "Tematy ćwiczeń, które można poprowadzić:\n",
    "1. Rozkłady danych, histogramy, gęstość rozkładu \n",
    "2. Algorytm KNN\n",
    "3. Perceptron\n",
    "4. Multilayer perceptron\n",
    "5. Podział na train/valid/test, metryki oceny: accuracy, mse\n",
    "6. Sieci konwolucyjne "
   ]
  }
 ],
 "metadata": {
  "kernelspec": {
   "display_name": "Python 3 (ipykernel)",
   "language": "python",
   "name": "python3"
  },
  "language_info": {
   "codemirror_mode": {
    "name": "ipython",
    "version": 3
   },
   "file_extension": ".py",
   "mimetype": "text/x-python",
   "name": "python",
   "nbconvert_exporter": "python",
   "pygments_lexer": "ipython3",
   "version": "3.10.16"
  }
 },
 "nbformat": 4,
 "nbformat_minor": 4
}
