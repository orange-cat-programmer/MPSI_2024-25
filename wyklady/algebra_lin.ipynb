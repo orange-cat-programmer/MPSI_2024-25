{
  "cells": [
    {
      "cell_type": "code",
      "execution_count": 1,
      "id": "6e1aa603-94b4-4496-8dae-c66508bdf420",
      "metadata": {
        "id": "6e1aa603-94b4-4496-8dae-c66508bdf420"
      },
      "outputs": [],
      "source": [
        "import numpy as np\n",
        "import matplotlib.pyplot as plt"
      ]
    },
    {
      "cell_type": "markdown",
      "id": "f906b354-999c-4d32-8815-7e1f55d1db23",
      "metadata": {
        "id": "f906b354-999c-4d32-8815-7e1f55d1db23"
      },
      "source": [
        "## Elementy algebry liniowej (trochę przypomnienie)\n",
        "\n",
        "Wektory"
      ]
    },
    {
      "cell_type": "code",
      "execution_count": 3,
      "id": "4daa42cf-4f71-42cc-947c-81a29154f8c5",
      "metadata": {
        "colab": {
          "base_uri": "https://localhost:8080/"
        },
        "id": "4daa42cf-4f71-42cc-947c-81a29154f8c5",
        "outputId": "45fd83c3-4c64-4e36-9b2f-a0f739b6cac2"
      },
      "outputs": [
        {
          "name": "stdout",
          "output_type": "stream",
          "text": [
            "[0. 0.]\n",
            "v= [1 2]\n",
            "5*v= [ 5 10]\n",
            "v+w= [3 2]\n",
            "\u003Cv,w\u003E= 2\n",
            "odległość v od w= 2.23606797749979\n"
          ]
        }
      ],
      "source": [
        "# wektory\n",
        "n=2\n",
        "# wektor zerowy\n",
        "v=np.zeros(n)\n",
        "print(v)\n",
        "\n",
        "# zdefiniowanie wektora przez podanie współczynników\n",
        "v=np.array([1,2])\n",
        "print(\"v=\",v)\n",
        "\n",
        "# wektory możemy mnożyć przez skalary\n",
        "print(\"5*v=\",5*v)\n",
        "\n",
        "# wektory możemy do siebie dodawać\n",
        "w=np.array([2,0])\n",
        "print(\"v+w=\",v+w)\n",
        "\n",
        "\n",
        "# iloczyn skalarny \u003Cv,x\u003E=v_1x_1+\\ldots+v_nx_n, oznaczam też jako v^Tx\n",
        "print(\"\u003Cv,w\u003E=\",np.dot(v,w))\n",
        "# normę (odległość od zera z tw. pitagorasa) to (v_1^2+..+v_n^2)^0.5\n",
        "norm = np.linalg.norm(v)\n",
        "norm = np.sum(v**2) ** 0.5\n",
        "norm = np.dot(v,v)**0.5\n",
        "\n",
        "# odległość wektorów v,w to\n",
        "print(\"odległość v od w=\",np.linalg.norm(v-w))"
      ]
    },
    {
      "cell_type": "code",
      "execution_count": 5,
      "id": "bd6f6DwFBlGS",
      "metadata": {
        "colab": {
          "base_uri": "https://localhost:8080/"
        },
        "id": "bd6f6DwFBlGS",
        "outputId": "33d399ae-b4c2-4f18-dace-21d04ac50c35"
      },
      "outputs": [
        {
          "name": "stdout",
          "output_type": "stream",
          "text": [
            "z= [1 2 2 0]\n",
            "z[0]= 1\n"
          ]
        }
      ],
      "source": [
        "# połącznie dwóch wektorów\n",
        "z=np.concatenate((v,w))\n",
        "print(\"z=\",z)\n",
        "\n",
        "# odwołanie się do którejś współrzędnej\n",
        "# numerujemy od zera\n",
        "print(\"z[0]=\",z[0])\n"
      ]
    },
    {
      "cell_type": "markdown",
      "id": "3f03a09a-7323-4660-9bc5-2226bc8930bc",
      "metadata": {
        "id": "3f03a09a-7323-4660-9bc5-2226bc8930bc"
      },
      "source": [
        "## Własności iloczynu skalarnego:\n",
        "* $\\langle x,x\\rangle \\geq 0$ i równy zero tylko jak $v=0$\n",
        "* $\\langle x,y \\rangle=\\langle y,x \\rangle$\n",
        "* $\\langle t x,y \\rangle=t \\langle x,y \\rangle$\n",
        "* $\\langle x,y+z \\rangle=\\langle x,y \\rangle+\\langle  x,z \\rangle$\n",
        "\n",
        "Norma (odległość od zera jest definiowana):\n",
        "$$\n",
        "\\|x\\|=\\sqrt{\\langle x,x\\rangle}\n",
        "$$\n",
        "\n",
        "TWIERDZENIE. Norma spełnia nierówność trójkąta:\n",
        "$$\n",
        "\\|x+y\\| \\leq \\|x\\|+\\|y\\|.\n",
        "$$\n",
        "\n",
        "Nierówność Cauchy'ego: $\\langle x,y \\rangle \\leq \\|x\\| \\cdot \\|y\\|$. Wiemy, że $\\langle x+t y, x+ty \\rangle \\geq 0$, to znaczy, że $\\Delta \\leq 0$, ale $\\Delta=\\langle x,y \\rangle^2-\\|x\\|^2 \\|y\\|^2$.\n",
        "\n",
        "Cosinus (mierzy współliniowość):\n",
        "$$\n",
        "cos(v,w)=\\frac{\\langle v,w \\rangle}{\\|x\\| \\|y\\|} \\in [-1,1]\n",
        "$$\n",
        "Pozwala zdefiniować kąt między wektorami.\n",
        "Podobieństwo cosinusowe, to moduł, jest jeden jak współliniowe."
      ]
    },
    {
      "cell_type": "code",
      "execution_count": null,
      "id": "6cf8dbe6-1772-45f7-ac28-9d598bc9d6b5",
      "metadata": {
        "colab": {
          "base_uri": "https://localhost:8080/",
          "height": 528
        },
        "id": "6cf8dbe6-1772-45f7-ac28-9d598bc9d6b5",
        "outputId": "77b00785-c945-49ad-b67f-10bf62f6378e"
      },
      "outputs": [
        {
          "data": {
            "image/png": "[encoded data removed]",
            "text/plain": [
              "\u003CFigure size 600x600 with 1 Axes\u003E"
            ]
          },
          "metadata": {

          },
          "output_type": "display_data"
        }
      ],
      "source": [
        "\n",
        "def visualize_halfspace(v):\n",
        "    \"\"\"\n",
        "    Wizualizuje obszar {x : v^T x \u003E 0} na płaszczyźnie.\n",
        "    \"\"\"\n",
        "\n",
        "    # Tworzenie siatki punktów na płaszczyźnie\n",
        "    x = np.linspace(-10, 10, 400)\n",
        "    y = np.linspace(-10, 10, 400)\n",
        "    xx, yy = np.meshgrid(x, y)\n",
        "\n",
        "    # Obliczanie wartości v^T x dla każdego punktu na siatce\n",
        "    zz = v[0] * xx + v[1] * yy\n",
        "\n",
        "    # Wizualizacja\n",
        "    plt.figure(figsize=(6, 6))\n",
        "    plt.contourf(xx, yy, zz, levels=[-np.inf, 0, np.inf], colors=['red', 'blue'], alpha=0.5)\n",
        "    plt.axhline(0, color='black', linewidth=0.5, linestyle='--')\n",
        "    plt.axvline(0, color='black', linewidth=0.5, linestyle='--')\n",
        "\n",
        "    # Wektor v na wykresie\n",
        "    plt.quiver(0, 0, v[0], v[1], angles='xy', scale_units='xy', scale=1, color='green', label='Wektor v')\n",
        "\n",
        "    plt.legend()\n",
        "    plt.grid()\n",
        "    plt.show()\n",
        "\n",
        "# Przykładowe użycie\n",
        "v = [1, 2]  # Wektor definiujący obszar\n",
        "visualize_halfspace(v)\n"
      ]
    },
    {
      "cell_type": "markdown",
      "id": "-dSRH2ClbWTM",
      "metadata": {
        "id": "-dSRH2ClbWTM"
      },
      "source": [
        "**Macierze**\n",
        "\n",
        "Macierz $[a_{ij}]_{i=1..n,j=1..m}$.\n",
        "\n",
        "Przykład macierzy $2 \\times 3$:\n",
        "$$\n",
        "A=\\begin{bmatrix}\n",
        "a_{11} & a_{12} & a_{13} \\\\\n",
        "a_{21} & a_{22} & a_{23}\n",
        "\\end{bmatrix}\n",
        "$$\n",
        "\n",
        "Podstawowe typy macierzy:\n",
        "* macierz kwadratowa, czyli o wymiarach $n \\times n$\n",
        "* wektor poziomy, czyli macierz o wymiarach $1 \\times n$\n",
        "* wektor pionowy, czyli macierz o wymiarach $n \\times 1$\n",
        "\n",
        "Operacje na macierzach\n",
        "*   można mnozyć przez skalary\n",
        "*   można dodawać macierze o tym samym wymiarze\n",
        "* można mnożyć jeżeli się zgdzają odpowiednie wymiary (środkowy), czyli\n",
        "$$\n",
        "macierz(k \\times l) \\cdot macierz(l \\times n)\n",
        "$$\n",
        "\n"
      ]
    },
    {
      "cell_type": "code",
      "execution_count": 7,
      "id": "kgXqpKRe-cDN",
      "metadata": {
        "colab": {
          "base_uri": "https://localhost:8080/"
        },
        "id": "kgXqpKRe-cDN",
        "outputId": "998b3781-ec09-40ef-c783-2c973211dd5e"
      },
      "outputs": [
        {
          "name": "stdout",
          "output_type": "stream",
          "text": [
            "[1 2 3]\n",
            "\n",
            " \n",
            "\n",
            "[[1 2 3]\n",
            " [4 5 6]]\n",
            "\n",
            " \n",
            "\n",
            "[[[1 1 1]\n",
            "  [1 1 1]]\n",
            "\n",
            " [[2 2 2]\n",
            "  [2 2 2]]]\n"
          ]
        }
      ],
      "source": [
        "x = np.array([1,2,3]) # tablica jednowymiarowa\n",
        "A = np.array([[1,2,3] , [4,5,6]]) # tablica dwuwymiarowa\n",
        "B = np.array( [[[1,1,1],[1,1,1]], [[2,2,2],[2,2,2]]]) # wielowymiarowa\n",
        "\n",
        "print(x)\n",
        "print(\"\\n \\n\")\n",
        "print(A)\n",
        "print(\"\\n \\n\")\n",
        "print(B)"
      ]
    },
    {
      "cell_type": "markdown",
      "id": "sSEEucos-uVM",
      "metadata": {
        "id": "sSEEucos-uVM"
      },
      "source": [
        "Przy tworzeniu tablicy istnieje możliwość zadeklarowania jej typu:"
      ]
    },
    {
      "cell_type": "code",
      "execution_count": null,
      "id": "_USlvY6W-rjW",
      "metadata": {
        "colab": {
          "base_uri": "https://localhost:8080/"
        },
        "id": "_USlvY6W-rjW",
        "outputId": "47cc0264-18b1-4e11-9700-0f78bf25122c"
      },
      "outputs": [
        {
          "name": "stdout",
          "output_type": "stream",
          "text": [
            "[[1.+0.j 0.+0.j]\n",
            " [0.+0.j 1.+0.j]]\n"
          ]
        }
      ],
      "source": [
        "z = np.array( [[1,0], [0,1]], dtype=complex) # tablica liczb zespolonych\n",
        "print(z)"
      ]
    },
    {
      "cell_type": "code",
      "execution_count": null,
      "id": "HOCuvfEB-rwh",
      "metadata": {
        "id": "HOCuvfEB-rwh"
      },
      "outputs": [],
      "source": []
    },
    {
      "cell_type": "markdown",
      "id": "O-frSJnC_G33",
      "metadata": {
        "id": "O-frSJnC_G33"
      },
      "source": [
        "Do tworzenia tablicy jednowymiarowej (wektora) składającego się z elementów z danego zakresu używamy polecenia **arange(start, stop, krok)**:"
      ]
    },
    {
      "cell_type": "code",
      "execution_count": null,
      "id": "ME2sOoej_G33",
      "metadata": {
        "id": "ME2sOoej_G33",
        "outputId": "6ba8e6d5-a147-49a4-9d7b-19b3d375b26c"
      },
      "outputs": [
        {
          "name": "stdout",
          "output_type": "stream",
          "text": [
            "[0 1 2 3 4 5 6 7 8 9]\n",
            " \n",
            "[0 2 4 6 8]\n",
            " \n",
            "[0.  0.5 1.  1.5 2.  2.5 3.  3.5 4.  4.5 5.  5.5 6.  6.5 7.  7.5 8.  8.5\n",
            " 9.  9.5]\n"
          ]
        }
      ],
      "source": [
        "print(np.arange(10), end='\\n \\n')\n",
        "print(np.arange(0, 10, 2), end='\\n \\n')\n",
        "print(np.arange(0., 10, 0.5))"
      ]
    },
    {
      "cell_type": "markdown",
      "id": "KvFisrAT_G33",
      "metadata": {
        "id": "KvFisrAT_G33"
      },
      "source": [
        "Jeśli chcemy wygenerować tablicę o określonej liczbie z danego przedziału, używamy funkcji **linspace**:"
      ]
    },
    {
      "cell_type": "code",
      "execution_count": null,
      "id": "Q_kAfZaK_G34",
      "metadata": {
        "id": "Q_kAfZaK_G34",
        "outputId": "6cb83670-fddc-4706-910c-44047f79e37e"
      },
      "outputs": [
        {
          "name": "stdout",
          "output_type": "stream",
          "text": [
            "[ 0.  5. 10.]\n",
            " \n",
            "[0.   0.25 0.5  0.75 1.  ]\n"
          ]
        },
        {
          "name": "stderr",
          "output_type": "stream",
          "text": [
            "C:\\ProgramData\\Anaconda3\\lib\\site-packages\\ipykernel_launcher.py:1: DeprecationWarning: object of type \u003Cclass 'float'\u003E cannot be safely interpreted as an integer.\n",
            "  \"\"\"Entry point for launching an IPython kernel.\n"
          ]
        }
      ],
      "source": [
        "print(np.linspace(0., 10., 3.), end='\\n \\n')\n",
        "print(np.linspace(0., 1, 5) )"
      ]
    },
    {
      "cell_type": "markdown",
      "id": "KXVwiqPB_G34",
      "metadata": {
        "id": "KXVwiqPB_G34"
      },
      "source": [
        "Biblioteka Numpy oferuje wiele możliwości budowania typowych tablic:"
      ]
    },
    {
      "cell_type": "code",
      "execution_count": 9,
      "id": "aKr9tuMq_G34",
      "metadata": {
        "id": "aKr9tuMq_G34",
        "outputId": "319d7250-dcc1-4c57-adf4-b1098994ff8a"
      },
      "outputs": [
        {
          "name": "stdout",
          "output_type": "stream",
          "text": [
            "[[1. 1. 1.]\n",
            " [1. 1. 1.]\n",
            " [1. 1. 1.]] \n",
            "\n",
            "[[0. 0.]\n",
            " [0. 0.]\n",
            " [0. 0.]] \n",
            "\n",
            "[[1. 0. 0. 0.]\n",
            " [0. 1. 0. 0.]\n",
            " [0. 0. 1. 0.]\n",
            " [0. 0. 0. 1.]]\n"
          ]
        }
      ],
      "source": [
        "print(np.ones((3,3)), '\\n') # dwuwymiarowa tablica (3x3) wypełniona jedynkami\n",
        "print(np.zeros((3,2)), '\\n') # dwuwymiarowa tablica (3x2) wypełniona zerami\n",
        "print(np.eye(4)) # macierz jednostkowa 4x4"
      ]
    },
    {
      "cell_type": "markdown",
      "id": "IFoch4Ti_G34",
      "metadata": {
        "id": "IFoch4Ti_G34"
      },
      "source": [
        "Korzystając z powyższych funkcji możemy w łatwy sposób tworzyć dowolne macierze, zmieniając ich rozmiary."
      ]
    },
    {
      "cell_type": "code",
      "execution_count": null,
      "id": "s5ZJ6Taw_G34",
      "metadata": {
        "id": "s5ZJ6Taw_G34",
        "outputId": "4f42276f-c813-4f09-8304-8b7096f5a5cd"
      },
      "outputs": [
        {
          "name": "stdout",
          "output_type": "stream",
          "text": [
            "[[ 0  1  2]\n",
            " [ 3  4  5]\n",
            " [ 6  7  8]\n",
            " [ 9 10 11]\n",
            " [12 13 14]] \n",
            "\n",
            "[[0.         0.07142857 0.14285714]\n",
            " [0.21428571 0.28571429 0.35714286]\n",
            " [0.42857143 0.5        0.57142857]\n",
            " [0.64285714 0.71428571 0.78571429]\n",
            " [0.85714286 0.92857143 1.        ]]\n"
          ]
        }
      ],
      "source": [
        "print(np.arange(15).reshape(5,3), '\\n')\n",
        "print(np.linspace(0., 1, 15).reshape(5,3))"
      ]
    },
    {
      "cell_type": "markdown",
      "id": "dxlvU3Z8_G34",
      "metadata": {
        "id": "dxlvU3Z8_G34"
      },
      "source": [
        "# Operacje na indeksach tablicy\n",
        "Żeby odwołać się do konkretnej wartości tablicy należy użyć **[]** z odpowiednim indeksem (pamiętamy, że w Pythonie zaczynamy indeksować od 0)."
      ]
    },
    {
      "cell_type": "code",
      "execution_count": null,
      "id": "6YMG2sdB_G34",
      "metadata": {
        "id": "6YMG2sdB_G34",
        "outputId": "c90532be-7501-4710-eb27-e9035dc31658"
      },
      "outputs": [
        {
          "name": "stdout",
          "output_type": "stream",
          "text": [
            "[ 0  1  2  3  4  5  6  7  8  9 10 11 12 13 14] \n",
            "\n",
            "3 \n",
            "\n",
            "[[ 0  1  2  3]\n",
            " [ 4  5  6  7]\n",
            " [ 8  9 10 11]\n",
            " [12 13 14 15]\n",
            " [16 17 18 19]] \n",
            "\n",
            "11\n",
            "11 \n",
            "\n",
            "[ 8  9 10 11] \n",
            "\n",
            "[ 2  6 10 14 18]\n"
          ]
        }
      ],
      "source": [
        "x = np.arange(15)\n",
        "print(x, '\\n')\n",
        "print(x[3], '\\n')\n",
        "\n",
        "A = np.arange(20).reshape(5,4)\n",
        "print(A, '\\n')\n",
        "print(A[2, 3])\n",
        "print(A[2][3], '\\n') # równoważnie\n",
        "print(A[2], '\\n') # trzeci wiersz\n",
        "print(A[:, 2]) # trzecia kolumna"
      ]
    },
    {
      "cell_type": "markdown",
      "id": "9pCZ5ix-_G34",
      "metadata": {
        "id": "9pCZ5ix-_G34"
      },
      "source": [
        "Aby wyświetlić fragment tablicy od  $n-1$  do  $m-1$  elementów używamy składni: **tablica[n:m]**, analogicznie aby wyświetlić elementy tablicy pomiędzy  $n-1$ , a  $m-1$  przesuwając się o wartość  $k$  używamy składni **tablica[n:m:k]**.\n"
      ]
    },
    {
      "cell_type": "code",
      "execution_count": null,
      "id": "1Ac9tgt8_G34",
      "metadata": {
        "id": "1Ac9tgt8_G34",
        "outputId": "d34f22a4-bce0-4f45-ba2f-d683f9e29b2a"
      },
      "outputs": [
        {
          "name": "stdout",
          "output_type": "stream",
          "text": [
            "[ 0  1  2  3  4  5  6  7  8  9 10 11 12 13 14] \n",
            "\n",
            "[ 3  4  5  6  7  8  9 10]\n",
            "[3 5 7 9] \n",
            "\n",
            "[[ 8  9 10 11]\n",
            " [12 13 14 15]] \n",
            "\n",
            "[[ 2  3]\n",
            " [ 6  7]\n",
            " [10 11]\n",
            " [14 15]\n",
            " [18 19]] \n",
            "\n",
            "[[ 2  3]\n",
            " [ 6  7]\n",
            " [10 11]\n",
            " [14 15]\n",
            " [18 19]]\n"
          ]
        }
      ],
      "source": [
        "x = np.arange(15)\n",
        "print(x, '\\n')\n",
        "print(x[3:11])\n",
        "print(x[3:11:2], '\\n')\n",
        "\n",
        "A = np.arange(20).reshape(5,4)\n",
        "print(A[2:4], '\\n') # wiersze od trzeciego do czwartego\n",
        "print(A[:,2:4], '\\n') # trzecia i czwarta kolumnę\n",
        "print(A[:,[2,3]]) # równoważnie"
      ]
    },
    {
      "cell_type": "markdown",
      "id": "5v-0O5Xu_G35",
      "metadata": {
        "id": "5v-0O5Xu_G35"
      },
      "source": [
        "Jak widać z powyższych przykładów, przecinek w nawiasach **[]** rozdziela poszczególne wymiary tablic."
      ]
    },
    {
      "cell_type": "code",
      "execution_count": null,
      "id": "_O24hnRq_G35",
      "metadata": {
        "id": "_O24hnRq_G35",
        "outputId": "4db2f2cf-9496-4b94-af27-e0a442cc3d3b"
      },
      "outputs": [
        {
          "name": "stdout",
          "output_type": "stream",
          "text": [
            "[5 6 7] \n",
            "\n",
            "[[4 5]\n",
            " [8 9]] \n",
            "\n",
            "[4 6]\n"
          ]
        }
      ],
      "source": [
        "print(A[1,1:5], '\\n') # elementy z drugiego wiersza i od drugiej do piątej kolumny\n",
        "print(A[1:3, :2], '\\n') # elementy od drugiego do trzeciego wiersza,\n",
        "                 # znajdujące się w kolumnach od pierwszej do drugiej\n",
        "print(A[1,0:5:2]) # elementy drugiego wiersza i kolumny od pierwszej do piątej co dwie"
      ]
    },
    {
      "cell_type": "markdown",
      "id": "7QmDQGUa_G35",
      "metadata": {
        "id": "7QmDQGUa_G35"
      },
      "source": [
        "Tablice można też budować w oparciu o już istniejące:"
      ]
    },
    {
      "cell_type": "code",
      "execution_count": null,
      "id": "W8Y8DB8U_G35",
      "metadata": {
        "id": "W8Y8DB8U_G35",
        "outputId": "04c6ea12-329d-4693-f6d6-022f8cdec220"
      },
      "outputs": [
        {
          "name": "stdout",
          "output_type": "stream",
          "text": [
            "[[ 0  1  2  3]\n",
            " [ 4  5  6  7]\n",
            " [ 8  9 10 11]\n",
            " [12 13 14 15]\n",
            " [16 17 18 19]] \n",
            "\n",
            "[[10 11]\n",
            " [14 15]]\n"
          ]
        }
      ],
      "source": [
        "A = np.arange(20).reshape(5,4)\n",
        "print(A, '\\n')\n",
        "\n",
        "B = A[2:4, 2:]\n",
        "print(B)"
      ]
    },
    {
      "cell_type": "markdown",
      "id": "bn38ROQt_G35",
      "metadata": {
        "id": "bn38ROQt_G35"
      },
      "source": [
        "# Zmiana rozmiaru, kształtu tablicy\n",
        "Do zmiany rozmiaru tablicy już utworzonej służy funkcja: reshape. Operacja ta nie zmieni zawartości oryginalnej tablicy, pokaże jedynie jej elementy w zadanej postaci."
      ]
    },
    {
      "cell_type": "code",
      "execution_count": null,
      "id": "215NIvn2_G35",
      "metadata": {
        "id": "215NIvn2_G35",
        "outputId": "1b8455d9-255c-42a9-f6a0-892581fc27e1"
      },
      "outputs": [
        {
          "name": "stdout",
          "output_type": "stream",
          "text": [
            "[0 1 2 3 4 5 6 7] \n",
            "\n",
            "[[0 1 2 3]\n",
            " [4 5 6 7]] \n",
            "\n",
            "[0 1 2 3 4 5 6 7]\n"
          ]
        }
      ],
      "source": [
        "A = np.arange(8)\n",
        "print(A,'\\n')\n",
        "print(A.reshape((2, 4)), '\\n')\n",
        "print(A)"
      ]
    },
    {
      "cell_type": "markdown",
      "id": "Bk9Sqtiy_G35",
      "metadata": {
        "id": "Bk9Sqtiy_G35"
      },
      "source": [
        "Aby zmienić kształt tablicy za pomocą funkcji reshape możemy zrobić tak:"
      ]
    },
    {
      "cell_type": "code",
      "execution_count": null,
      "id": "9r5ZfBsi_G35",
      "metadata": {
        "id": "9r5ZfBsi_G35",
        "outputId": "45c51a31-9d2d-4695-e055-b00666045a99"
      },
      "outputs": [
        {
          "name": "stdout",
          "output_type": "stream",
          "text": [
            "[0 1 2 3 4 5 6 7] \n",
            "\n",
            "[[0 1 2 3]\n",
            " [4 5 6 7]]\n"
          ]
        }
      ],
      "source": [
        "A = np.arange(8)\n",
        "print(A,'\\n')\n",
        "A = A.reshape((2, 4))\n",
        "print(A)"
      ]
    },
    {
      "cell_type": "markdown",
      "id": "6wH-hj7B_G36",
      "metadata": {
        "id": "6wH-hj7B_G36"
      },
      "source": [
        "lub użyć funkcję **resize**:"
      ]
    },
    {
      "cell_type": "code",
      "execution_count": null,
      "id": "GqREIhk7_G36",
      "metadata": {
        "id": "GqREIhk7_G36",
        "outputId": "4e98814b-40c3-429e-8894-1ed2c988045c"
      },
      "outputs": [
        {
          "name": "stdout",
          "output_type": "stream",
          "text": [
            "[0 1 2 3 4 5 6 7] \n",
            "\n",
            "[[0 1 2 3]\n",
            " [4 5 6 7]]\n"
          ]
        }
      ],
      "source": [
        "A = np.arange(8)\n",
        "print(A,'\\n')\n",
        "A.resize(2, 4)\n",
        "# print A.resize(2, 4), '\\n'\n",
        "print(A)"
      ]
    },
    {
      "cell_type": "markdown",
      "id": "vPG8ukP__G36",
      "metadata": {
        "id": "vPG8ukP__G36"
      },
      "source": [
        "Do sprawdzenia wymiaru tablicy służy funkcja **shape**:"
      ]
    },
    {
      "cell_type": "code",
      "execution_count": null,
      "id": "YOdliDr5_G36",
      "metadata": {
        "id": "YOdliDr5_G36",
        "outputId": "1770d90e-be23-4de0-ad75-1f9664d3534d"
      },
      "outputs": [
        {
          "name": "stdout",
          "output_type": "stream",
          "text": [
            "(5, 4) \n",
            "\n",
            "5 \n",
            "\n",
            "4 \n",
            "\n",
            "20\n"
          ]
        }
      ],
      "source": [
        "A = np.arange(20).reshape(5,4)\n",
        "print(A.shape, '\\n') # wymiar tablicy\n",
        "print(A.shape[0], '\\n') # pierwszy wymiar\n",
        "print(A.shape[1], '\\n') # drugi wymiar\n",
        "print(A.size) # liczba wszystkich elementów w tablicy"
      ]
    },
    {
      "cell_type": "markdown",
      "id": "Nu50DGOx_G36",
      "metadata": {
        "id": "Nu50DGOx_G36"
      },
      "source": [
        "Transpozycja macierzy:"
      ]
    },
    {
      "cell_type": "code",
      "execution_count": null,
      "id": "c7pGKJEO_G36",
      "metadata": {
        "id": "c7pGKJEO_G36",
        "outputId": "2a669928-9f25-456c-d304-350f9fd192e7"
      },
      "outputs": [
        {
          "name": "stdout",
          "output_type": "stream",
          "text": [
            "[[0 1 2 3]\n",
            " [4 5 6 7]] \n",
            "\n",
            "[[0 4]\n",
            " [1 5]\n",
            " [2 6]\n",
            " [3 7]] \n",
            "\n",
            "[[0 4]\n",
            " [1 5]\n",
            " [2 6]\n",
            " [3 7]]\n"
          ]
        }
      ],
      "source": [
        "A = np.arange(8).reshape(2,4)\n",
        "print(A, '\\n')\n",
        "print(A.T, '\\n')\n",
        "print(np.transpose(A))"
      ]
    },
    {
      "cell_type": "markdown",
      "id": "YnvrIolU_G36",
      "metadata": {
        "id": "YnvrIolU_G36"
      },
      "source": [
        "Podobnie jak przy funkcji reshape aby zachować wynik transpozycji macierzy musimy go przypisać do nowej zmiennej."
      ]
    },
    {
      "cell_type": "code",
      "execution_count": null,
      "id": "0PNdGBM9_G36",
      "metadata": {
        "id": "0PNdGBM9_G36",
        "outputId": "5986cff1-de8b-48a4-e0c6-c288e8a7c8f6"
      },
      "outputs": [
        {
          "name": "stdout",
          "output_type": "stream",
          "text": [
            "[[0 1 2 3]\n",
            " [4 5 6 7]] \n",
            "\n",
            "[[0 4]\n",
            " [1 5]\n",
            " [2 6]\n",
            " [3 7]]\n"
          ]
        }
      ],
      "source": [
        "print(A, '\\n')\n",
        "A = A.T\n",
        "print(A)"
      ]
    },
    {
      "cell_type": "markdown",
      "id": "qjNGlWHh_G36",
      "metadata": {
        "id": "qjNGlWHh_G36"
      },
      "source": [
        "Podobnie jest z poleceniem **swapaxes(tablica, oś1, oś2)**, które wyświetli zmienione wiersze z kolumnami dla tablicy dwuwymiarowej. Dla wielowymiarowych tablic zmieni ono elementy dla zadanych osi."
      ]
    },
    {
      "cell_type": "code",
      "execution_count": null,
      "id": "_9Yiwyn1_G36",
      "metadata": {
        "id": "_9Yiwyn1_G36",
        "outputId": "1f089d87-f7cf-4dca-e2a2-4630faee670c"
      },
      "outputs": [
        {
          "name": "stdout",
          "output_type": "stream",
          "text": [
            "[[1 2 3]] \n",
            "\n",
            "[[1]\n",
            " [2]\n",
            " [3]] \n",
            "\n",
            "[[[0 1]\n",
            "  [2 3]]\n",
            "\n",
            " [[4 5]\n",
            "  [6 7]]] \n",
            "\n",
            "[[[0 4]\n",
            "  [2 6]]\n",
            "\n",
            " [[1 5]\n",
            "  [3 7]]]\n"
          ]
        }
      ],
      "source": [
        "x = np.array([[1,2,3]])\n",
        "print(x, '\\n')\n",
        "print(np.swapaxes(x,0,1), '\\n')\n",
        "\n",
        "x = np.array([[[0,1],[2,3]],[[4,5],[6,7]]])\n",
        "print(x, '\\n')\n",
        "print(np.swapaxes(x, 0, 2))"
      ]
    },
    {
      "cell_type": "markdown",
      "id": "yOshc7Zq_G37",
      "metadata": {
        "id": "yOshc7Zq_G37"
      },
      "source": [
        "Aby zmienić tablicę na jednowymiarową, możemy użyć polecenia:"
      ]
    },
    {
      "cell_type": "code",
      "execution_count": null,
      "id": "pPwMC45w_G37",
      "metadata": {
        "id": "pPwMC45w_G37",
        "outputId": "b87667c8-4a23-42c4-f0be-5068f0d1e3d0"
      },
      "outputs": [
        {
          "name": "stdout",
          "output_type": "stream",
          "text": [
            "[[0 1 2 3]\n",
            " [4 5 6 7]] \n",
            "\n",
            "[0 1 2 3 4 5 6 7] \n",
            "\n",
            "[0 1 2 3 4 5 6 7]\n"
          ]
        }
      ],
      "source": [
        "A = np.arange(8).reshape(2,4)\n",
        "print(A, '\\n')\n",
        "print(np.ravel(A), '\\n')\n",
        "print(A.reshape(-1,))"
      ]
    },
    {
      "cell_type": "markdown",
      "id": "sepJOMCY_G37",
      "metadata": {
        "id": "sepJOMCY_G37"
      },
      "source": [
        "# Podstawowe operacje na tablicach\n",
        "\n",
        "  * dodawanie:"
      ]
    },
    {
      "cell_type": "code",
      "execution_count": null,
      "id": "fv-bigI9_G3-",
      "metadata": {
        "id": "fv-bigI9_G3-",
        "outputId": "65917398-8c5f-4bf4-8cf1-4e028d317a92"
      },
      "outputs": [
        {
          "name": "stdout",
          "output_type": "stream",
          "text": [
            "[1 5 8 5 9]\n",
            "[1 5 8 5 9] \n",
            "\n",
            "[2 5 7 3 6] \n",
            "\n",
            "[[15 17 19]\n",
            " [21 23 25]\n",
            " [27 29 31]\n",
            " [33 35 37]\n",
            " [39 41 43]]\n",
            "[[15 17 19]\n",
            " [21 23 25]\n",
            " [27 29 31]\n",
            " [33 35 37]\n",
            " [39 41 43]] \n",
            "\n",
            "[[20 21 22]\n",
            " [23 24 25]\n",
            " [26 27 28]\n",
            " [29 30 31]\n",
            " [32 33 34]] \n",
            "\n",
            "[[15 16 17]\n",
            " [18 19 20]\n",
            " [21 22 23]\n",
            " [24 25 26]\n",
            " [27 28 29]] \n",
            "\n",
            "[1 2 3] \n",
            "\n",
            "[[16 18 20]\n",
            " [19 21 23]\n",
            " [22 24 26]\n",
            " [25 27 29]\n",
            " [28 30 32]]\n"
          ]
        }
      ],
      "source": [
        "x = np.array([1,4,6,2,5])\n",
        "v = np.arange(5)\n",
        "print(x+v)\n",
        "print(np.add(x, v), '\\n') # równoważnie\n",
        "print(x+1, '\\n')\n",
        "\n",
        "A = np.arange(15, 30).reshape((5, 3))\n",
        "B = np.arange(15).reshape((5, 3))\n",
        "print(A+B)\n",
        "print(np.add(A, B), '\\n')\n",
        "print(A+5, '\\n')\n",
        "\n",
        "x = np.array([1,2,3])\n",
        "print(A, '\\n')\n",
        "print(x, '\\n')\n",
        "print(np.add(A, x)) # dodawanie do każdego wiersza wektora x"
      ]
    },
    {
      "cell_type": "markdown",
      "id": "Y-9Z5Qxq_G3-",
      "metadata": {
        "id": "Y-9Z5Qxq_G3-"
      },
      "source": [
        "* odejmowanie:"
      ]
    },
    {
      "cell_type": "code",
      "execution_count": null,
      "id": "UwZGyHlJ_G3-",
      "metadata": {
        "id": "UwZGyHlJ_G3-",
        "outputId": "af15c1a9-3b58-4097-a88f-d673a031e395"
      },
      "outputs": [
        {
          "name": "stdout",
          "output_type": "stream",
          "text": [
            "[ 1  3  4 -1  1]\n",
            "[ 1  3  4 -1  1] \n",
            "\n",
            "[0 3 5 1 4]\n",
            "[[15 15 15]\n",
            " [15 15 15]\n",
            " [15 15 15]\n",
            " [15 15 15]\n",
            " [15 15 15]]\n",
            "[[15 15 15]\n",
            " [15 15 15]\n",
            " [15 15 15]\n",
            " [15 15 15]\n",
            " [15 15 15]] \n",
            "\n",
            "[[14 15 16]\n",
            " [17 18 19]\n",
            " [20 21 22]\n",
            " [23 24 25]\n",
            " [26 27 28]] \n",
            "\n",
            "[[14 14 14]\n",
            " [17 17 17]\n",
            " [20 20 20]\n",
            " [23 23 23]\n",
            " [26 26 26]]\n"
          ]
        }
      ],
      "source": [
        "x = np.array([1,4,6,2,5])\n",
        "v = np.arange(5)\n",
        "print(x-v)\n",
        "print(np.subtract(x, v), '\\n') # równoważnie\n",
        "print(x-1)\n",
        "\n",
        "A = np.arange(15, 30).reshape((5, 3))\n",
        "B = np.arange(15).reshape((5, 3))\n",
        "print(A-B)\n",
        "print(np.subtract(A, B), '\\n')\n",
        "print(A-1, '\\n')\n",
        "\n",
        "x = np.array([1,2,3])\n",
        "print(np.subtract(A, x)) # odjęcie od każdego wiersza wektora x"
      ]
    },
    {
      "cell_type": "markdown",
      "id": "-3eaLiLr_G3_",
      "metadata": {
        "id": "-3eaLiLr_G3_"
      },
      "source": [
        "* mnożenie:"
      ]
    },
    {
      "cell_type": "code",
      "execution_count": null,
      "id": "9T78bc6P_G3_",
      "metadata": {
        "id": "9T78bc6P_G3_",
        "outputId": "200def22-35be-4d44-9eee-daaa3aedc366"
      },
      "outputs": [
        {
          "name": "stdout",
          "output_type": "stream",
          "text": [
            "[ 5 20 30 10 25] \n",
            "\n",
            "42 \n",
            "\n",
            "[ 0  4 12  6 20] \n",
            "\n",
            "[[ 5 15]\n",
            " [ 0 30]] \n",
            "\n",
            "[[ 22   0]\n",
            " [ 48 -12]] \n",
            "\n",
            "[[ -2  18]\n",
            " [  0 -12]]\n"
          ]
        }
      ],
      "source": [
        "x = np.array([1,4,6,2,5])\n",
        "v = np.arange(5)\n",
        "print(x*5, '\\n')\n",
        "print(np.dot(x,v), '\\n') # iloczyn skalarny\n",
        "print(x*v, '\\n' )# to nie, mnożony jest element przez element!\n",
        "\n",
        "A = np.array([[1, 3], [0, 6]])\n",
        "print(A*5, '\\n')\n",
        "\n",
        "B = np.array([[-2, 6], [8, -2]])\n",
        "print(np.dot(A, B), '\\n')\n",
        "print(A*B) # to nie, mnożony jest element przez element!"
      ]
    },
    {
      "cell_type": "markdown",
      "id": "fgcfNpbU_G3_",
      "metadata": {
        "id": "fgcfNpbU_G3_"
      },
      "source": [
        "NumPy ma możliwość deklarowania macierzy, różnią się one w tym środowisku od tablic tym, że operacja mnożenia nie dotyczy mnożenia elementów, tylko klasycznego mnożenia macierzy:"
      ]
    },
    {
      "cell_type": "code",
      "execution_count": null,
      "id": "d83SmIBs_G3_",
      "metadata": {
        "id": "d83SmIBs_G3_",
        "outputId": "ce359de1-b6c7-4860-b728-90113fd324c4"
      },
      "outputs": [
        {
          "name": "stdout",
          "output_type": "stream",
          "text": [
            "[[17  1]\n",
            " [28  1]] \n",
            "\n",
            "[[17  1]\n",
            " [28  1]]\n"
          ]
        }
      ],
      "source": [
        "A = np.matrix( ((2,3), (3, 5)) )\n",
        "B = np.matrix( ((1,2), (5, -1)) )\n",
        "\n",
        "print(A * B, '\\n')\n",
        "print(np.dot(A, B))"
      ]
    },
    {
      "cell_type": "markdown",
      "id": "JotmxKqT_G3_",
      "metadata": {
        "id": "JotmxKqT_G3_"
      },
      "source": [
        "  * potęgowanie:"
      ]
    },
    {
      "cell_type": "code",
      "execution_count": null,
      "id": "ksQy94nB_G3_",
      "metadata": {
        "id": "ksQy94nB_G3_",
        "outputId": "aaca6997-03b6-469c-9c6a-3debe3588d58"
      },
      "outputs": [
        {
          "name": "stdout",
          "output_type": "stream",
          "text": [
            "[1 4 6 2 5] \n",
            "\n",
            "[ 1 16 36  4 25]\n",
            "[ 1 16 36  4 25] \n",
            "\n",
            "[[0 1 2]\n",
            " [3 4 5]\n",
            " [6 7 8]] \n",
            "\n",
            "[[ 0  1  4]\n",
            " [ 9 16 25]\n",
            " [36 49 64]] \n",
            "\n",
            "[[ 0  1  4]\n",
            " [ 9 16 25]\n",
            " [36 49 64]]\n"
          ]
        }
      ],
      "source": [
        "x = np.array([1,4,6,2,5])\n",
        "print(x, '\\n')\n",
        "\n",
        "print(x**2)\n",
        "print(np.power(x, 2), '\\n') # równoważnie\n",
        "\n",
        "A = np.arange(9).reshape((3, 3))\n",
        "print(A, '\\n')\n",
        "print(A**2, '\\n') # kwadrat elementów tablicy\n",
        "print(np.power(A, 2)) # równoważnie"
      ]
    },
    {
      "cell_type": "markdown",
      "id": "21CL_Umm_G3_",
      "metadata": {
        "id": "21CL_Umm_G3_"
      },
      "source": [
        "Więcej funkcji można znaleźć tutaj: [https://docs.scipy.org/doc/numpy/reference/routines.math.html]."
      ]
    },
    {
      "cell_type": "markdown",
      "id": "805wmmjt_G3_",
      "metadata": {
        "id": "805wmmjt_G3_"
      },
      "source": [
        "## Porównania elementów tablic"
      ]
    },
    {
      "cell_type": "code",
      "execution_count": null,
      "id": "-hn_WVrM_G3_",
      "metadata": {
        "id": "-hn_WVrM_G3_",
        "outputId": "f2e0d485-786e-4e12-e390-c404fa9d43b1"
      },
      "outputs": [
        {
          "name": "stdout",
          "output_type": "stream",
          "text": [
            "[[False False False]\n",
            " [False False False]\n",
            " [False False False]\n",
            " [False False False]\n",
            " [False False False]] \n",
            "\n",
            "[[ True  True  True]\n",
            " [ True  True  True]\n",
            " [ True  True  True]\n",
            " [ True  True  True]\n",
            " [ True  True  True]] \n",
            "\n",
            "[[False False False]\n",
            " [False False False]\n",
            " [False False False]\n",
            " [False False False]\n",
            " [ True False False]] \n",
            "\n",
            "True \n",
            "\n",
            "False\n"
          ]
        }
      ],
      "source": [
        "A = np.arange(5, 20).reshape((5, 3))\n",
        "B = np.arange(15).reshape((5, 3))\n",
        "\n",
        "print(A \u003C B, '\\n')\n",
        "print(A == A, '\\n')\n",
        "print(A == 17, '\\n')\n",
        "print(np.any( A \u003E 17 ), '\\n') # prawdziwe, jeśli każdy element z osobna spełnia warunek\n",
        "print(np.all( A \u003E 17 )) # prawdziwe jeśli wszystkie elementy spełniają warunek"
      ]
    },
    {
      "cell_type": "markdown",
      "id": "GemYBDUd_G3_",
      "metadata": {
        "id": "GemYBDUd_G3_"
      },
      "source": [
        "## Łączenie i dzielenie tablic\n",
        "Biblioteka \u003Ci\u003ENumPy\u003C/i\u003E daje nam narzędzia dzięki, którym możemy łączyć i dzielić tablice. Zaczniemy od omówienia problemu łączenia tablic:"
      ]
    },
    {
      "cell_type": "code",
      "execution_count": null,
      "id": "JIRpPl9z_G3_",
      "metadata": {
        "id": "JIRpPl9z_G3_",
        "outputId": "c29ff92d-83a2-41dc-c94b-320dd31a748a"
      },
      "outputs": [
        {
          "name": "stdout",
          "output_type": "stream",
          "text": [
            "[[1 2]\n",
            " [3 4]] \n",
            "\n",
            "[[5 6]] \n",
            "\n",
            "[[1 2]\n",
            " [3 4]\n",
            " [5 6]] \n",
            "\n",
            "[[1 2]\n",
            " [3 4]\n",
            " [5 6]] \n",
            "\n",
            "[[1 2 5]\n",
            " [3 4 6]] \n",
            "\n",
            "[[1 2 5]\n",
            " [3 4 6]]\n"
          ]
        }
      ],
      "source": [
        "x = np.array([[1, 2], [3, 4]])\n",
        "y = np.array([[5, 6]])\n",
        "\n",
        "print(x, '\\n')\n",
        "print(y, '\\n')\n",
        "\n",
        "# łączenie wierszowe\n",
        "print(np.concatenate((x, y), axis=0), '\\n')\n",
        "print(np.vstack((x,y)), '\\n')\n",
        "\n",
        "# łączenie kolumnowe\n",
        "print(np.concatenate((x,y.T), axis=1), '\\n')\n",
        "print(np.hstack((x,y.T)))"
      ]
    },
    {
      "cell_type": "markdown",
      "id": "piJMNEhE_G4A",
      "metadata": {
        "id": "piJMNEhE_G4A"
      },
      "source": [
        "## Wybrane metody z algebry linowej\n",
        "Do części funkcji typowych dla algebry liniowej możemy się odwołać po zaimportowaniu biblioteki **linalg** będącej integralną częścią biblioteki NumPy."
      ]
    },
    {
      "cell_type": "code",
      "execution_count": null,
      "id": "yNP7xOzK_G4A",
      "metadata": {
        "id": "yNP7xOzK_G4A"
      },
      "outputs": [],
      "source": [
        "import numpy.linalg as alg"
      ]
    },
    {
      "cell_type": "markdown",
      "id": "T7swh0iy_G4A",
      "metadata": {
        "id": "T7swh0iy_G4A"
      },
      "source": [
        "Można tam znaleźć funkcję obliczającą:\n",
        "\n",
        "* macierz odwrotną:"
      ]
    },
    {
      "cell_type": "code",
      "execution_count": null,
      "id": "LB05qJCL_G4A",
      "metadata": {
        "id": "LB05qJCL_G4A",
        "outputId": "e69fdda9-9f90-49c5-83a5-820697157d89"
      },
      "outputs": [
        {
          "name": "stdout",
          "output_type": "stream",
          "text": [
            "[[-2.   1. ]\n",
            " [ 1.5 -0.5]] \n",
            "\n",
            "[[1.00000000e+00 1.11022302e-16]\n",
            " [0.00000000e+00 1.00000000e+00]]\n"
          ]
        }
      ],
      "source": [
        "A = np.array([[1., 2.], [3., 4.]])\n",
        "invA = alg.inv(A)\n",
        "print(invA, '\\n')\n",
        "print(np.dot(A, invA))"
      ]
    },
    {
      "cell_type": "markdown",
      "id": "O0HkO8eZAFiP",
      "metadata": {
        "id": "O0HkO8eZAFiP"
      },
      "source": [
        "macierz transponowana - zamieniamy wiersze z kolumnami:"
      ]
    },
    {
      "cell_type": "code",
      "execution_count": null,
      "id": "pq7Tfj9DAJ7s",
      "metadata": {
        "colab": {
          "base_uri": "https://localhost:8080/"
        },
        "id": "pq7Tfj9DAJ7s",
        "outputId": "ab934440-8e36-4540-f223-0ad7be69401c"
      },
      "outputs": [
        {
          "name": "stdout",
          "output_type": "stream",
          "text": [
            "[[ 0  1  2  3  4  5]\n",
            " [ 6  7  8  9 10 11]]\n",
            "[[ 0  6]\n",
            " [ 1  7]\n",
            " [ 2  8]\n",
            " [ 3  9]\n",
            " [ 4 10]\n",
            " [ 5 11]]\n"
          ]
        }
      ],
      "source": [
        "A=np.arange(12).reshape((2,6))\n",
        "\n",
        "print(A)\n",
        "print(A.T)"
      ]
    },
    {
      "cell_type": "markdown",
      "id": "MAMxE069_G4A",
      "metadata": {
        "id": "MAMxE069_G4A"
      },
      "source": [
        "  * wyznacznik:"
      ]
    },
    {
      "cell_type": "code",
      "execution_count": null,
      "id": "cf1GdwYv_G4A",
      "metadata": {
        "id": "cf1GdwYv_G4A",
        "outputId": "3b4b6c71-99f3-42eb-9070-7a3bb2695e8a"
      },
      "outputs": [
        {
          "name": "stdout",
          "output_type": "stream",
          "text": [
            "[[1. 2.]\n",
            " [3. 4.]] \n",
            "\n",
            "-2.0000000000000004\n"
          ]
        }
      ],
      "source": [
        "print(A, '\\n')\n",
        "print(alg.det(A))"
      ]
    },
    {
      "cell_type": "markdown",
      "id": "t6QT9Xl-_G4A",
      "metadata": {
        "id": "t6QT9Xl-_G4A"
      },
      "source": [
        "  * ślad:"
      ]
    },
    {
      "cell_type": "code",
      "execution_count": null,
      "id": "LJIBJ92w_G4A",
      "metadata": {
        "id": "LJIBJ92w_G4A",
        "outputId": "97e81d66-2967-468a-8bde-73a11243d1d5"
      },
      "outputs": [
        {
          "name": "stdout",
          "output_type": "stream",
          "text": [
            "[[1. 2.]\n",
            " [3. 4.]] \n",
            "\n",
            "5.0\n"
          ]
        }
      ],
      "source": [
        "print(A, '\\n')\n",
        "print(np.trace(A))"
      ]
    },
    {
      "cell_type": "markdown",
      "id": "CjEKg3e__G4A",
      "metadata": {
        "id": "CjEKg3e__G4A"
      },
      "source": [
        "  * normę dla macierz lub wektora:"
      ]
    },
    {
      "cell_type": "code",
      "execution_count": null,
      "id": "mKNy8q4L_G4B",
      "metadata": {
        "id": "mKNy8q4L_G4B",
        "outputId": "10ed8849-3883-4e69-e934-f8049a75c410"
      },
      "outputs": [
        {
          "name": "stdout",
          "output_type": "stream",
          "text": [
            "5.477225575051661 \n",
            "\n",
            "5.477225575051661 \n",
            "\n",
            "7.0 \n",
            "\n",
            "[3.16227766 4.47213595] \n",
            "\n",
            "[2.23606798 5.        ] \n",
            "\n"
          ]
        }
      ],
      "source": [
        "print(alg.norm(A), '\\n') # Euklidesowa\n",
        "print(alg.norm(A, 'fro'), '\\n') # Frobeniusa\n",
        "print(alg.norm(A, np.inf), '\\n') # maksimum\n",
        "\n",
        "print(alg.norm(A, axis=0), '\\n') # wierszy\n",
        "print(alg.norm(A, axis=1), '\\n') # kolumn"
      ]
    },
    {
      "cell_type": "markdown",
      "id": "gmwP7ULx_G4B",
      "metadata": {
        "id": "gmwP7ULx_G4B"
      },
      "source": [
        "  * rozwiązywanie układów równań:"
      ]
    },
    {
      "cell_type": "code",
      "execution_count": null,
      "id": "GG4Mqrk3_G4B",
      "metadata": {
        "id": "GG4Mqrk3_G4B",
        "outputId": "29bb8ebe-cba2-4b56-dda4-f6f5e9d64d9f"
      },
      "outputs": [
        {
          "name": "stdout",
          "output_type": "stream",
          "text": [
            "[2.33333333 0.66666667]\n"
          ]
        }
      ],
      "source": [
        "# 4*x_1 + x_2 = 10\n",
        "# 3*x_1 = 7\n",
        "A = np.array([[4,1], [3,0]])\n",
        "b = np.array([10,7])\n",
        "print(np.linalg.solve(A, b))"
      ]
    },
    {
      "cell_type": "markdown",
      "id": "s3lxH-3DdeOB",
      "metadata": {
        "id": "s3lxH-3DdeOB"
      },
      "source": [
        "### Algorytm mnożenia macierzy\n",
        "\n",
        "Załóżmy, że mamy dwie macierze:  \n",
        "- $A$ o wymiarach $m \\times n$  \n",
        "- $B$ o wymiarach $n \\times p$.  \n",
        "\n",
        "**Warunek:** Mnożenie jest możliwe, jeśli liczba kolumn w $ A $ (czyli $ n $) jest równa liczbie wierszy w $ B $.\n",
        "\n",
        "Wynik mnożenia $ C = A \\cdot B $ to macierz $ C $ o wymiarach $ m \\times p $. Element $ c_{ij} $ w macierzy $ C $ oblicza się według wzoru:\n",
        "\n",
        "$\n",
        "c_{ij} = \\sum_{k=1}^{n} a_{ik} \\cdot b_{kj}\n",
        "$\n",
        "\n",
        "Oznacza to, że każdy element $ c_{ij} $ jest sumą iloczynów odpowiednich elementów z $ i $-tego wiersza macierzy $ A $ i $ j $-tej kolumny macierzy $ B $.\n",
        "\n",
        "---\n",
        "\n",
        "### Algorytm krok po kroku\n",
        "\n",
        "1. **Inicjalizacja:** Utwórz pustą macierz $ C $ o wymiarach $ m \\times p $.\n",
        "2. **Iteracja po wierszach i kolumnach:**  \n",
        "   Dla każdego wiersza $ i $ w $ A $ i każdej kolumny $ j $ w $ B $:\n",
        "   - Oblicz $ c_{ij} $ jako sumę iloczynów $ a_{ik} \\cdot b_{kj} $, gdzie $ k $ iteruje od 1 do $ n $.\n",
        "3. **Zapisanie wyników:** Wypełnij macierz $ C $ obliczonymi wartościami.\n",
        "\n",
        "---\n",
        "\n",
        "### Przykład\n",
        "Dane macierze:  \n",
        "$\n",
        "A =\n",
        "\\begin{bmatrix}\n",
        "1 & 2 \\\\\n",
        "3 & 4\n",
        "\\end{bmatrix}, \\quad\n",
        "B =\n",
        "\\begin{bmatrix}\n",
        "5 & 6 \\\\\n",
        "7 & 8\n",
        "\\end{bmatrix}\n",
        "$\n",
        "\n",
        "Obliczamy elementy $ C $:  \n",
        "$\n",
        "c_{11} = (1 \\cdot 5) + (2 \\cdot 7) = 19, \\quad c_{12} = (1 \\cdot 6) + (2 \\cdot 8) = 22\n",
        "$  \n",
        "$\n",
        "c_{21} = (3 \\cdot 5) + (4 \\cdot 7) = 43, \\quad c_{22} = (3 \\cdot 6) + (4 \\cdot 8) = 50\n",
        "$\n",
        "\n",
        "Wynik:  \n",
        "$\n",
        "C =\n",
        "\\begin{bmatrix}\n",
        "19 & 22 \\\\\n",
        "43 & 50\n",
        "\\end{bmatrix}\n",
        "$\n",
        "\n",
        "---\n",
        "\n",
        "### Złożoność obliczeniowa\n",
        "\n",
        "Algorytm ma trzy główne pętle:\n",
        "1. Po $ m $ wierszach macierzy $ A $,\n",
        "2. Po $ p $ kolumnach macierzy $ B $,\n",
        "3. Po $ n $ elementach w wierszu $ A $ i kolumnie $ B $.\n",
        "\n",
        "Każdy element $ c_{ij} $ wymaga $ n $ operacji mnożenia i dodawania. Łączna liczba operacji to $ m \\cdot n \\cdot p $.  \n",
        "**Złożoność czasowa:** $ O(m \\cdot n \\cdot p) $.\n",
        "\n",
        "Istnieją szybsze podejścia.\n",
        "\n",
        "Algorytm Strassena $(O(n^{\\log_2 7}) ≈ O(n^{2.81}))$\n",
        "Redukuje liczbę mnożeń poprzez sprytne rozkładanie macierzy na mniejsze bloki.\n",
        "Kluczowa idea: Wymaga 7 mnożeń zamiast 8 dla macierzy\n",
        "\n",
        "W przypadku użycia GPU zrównolegla się mnożenia."
      ]
    },
    {
      "cell_type": "markdown",
      "id": "bQrFcmNaWiNN",
      "metadata": {
        "id": "bQrFcmNaWiNN"
      },
      "source": [
        "# Problem optymalnego wyboru nawiasowania dla mnożenia macierzy\n",
        "\n",
        "## Opis problemu\n",
        "Dla ciągu macierzy $A_1, A_2, \\dots, A_n$, chcemy znaleźć sposób ich nawiasowania (kolejności mnożenia), który minimalizuje łączną liczbę operacji mnożenia skalarnych.\n",
        "\n",
        "---\n",
        "\n",
        "## Wejście\n",
        "Ciąg $n$ macierzy o wymiarach:\n",
        "$$\n",
        "p_0 \\times p_1, \\, p_1 \\times p_2, \\, \\dots, \\, p_{n-1} \\times p_n\n",
        "$$\n",
        "\n",
        "## Wyjście\n",
        "- Minimalna liczba mnożeń skalarnych potrzebna do obliczenia iloczynu macierzy.\n",
        "- Optymalna kolejność nawiasowania.\n",
        "\n",
        "---\n",
        "\n",
        "Ogólnie problem trudny do rozwiązania bez sprawdzania wszystkich możliwości (użycie programowania dynamicznego).\n",
        "\n",
        "Natomias jeżeli $A_1$ jest wektorem poziomym lub $A_n$ jest wektorem pionowym, to można zaproponować sensowne mnożenie (niekoniecznie optymalne).\n",
        "\n",
        "**Zadanie**\n",
        "Zaproponuj rozwiązanie, i wylicz ile operacji wymaga.\n",
        "\n"
      ]
    },
    {
      "cell_type": "code",
      "execution_count": null,
      "id": "f03c3026-0197-4efc-9c22-7b4612293d86",
      "metadata": {
        "id": "f03c3026-0197-4efc-9c22-7b4612293d86",
        "outputId": "89ad31cd-6880-4727-cbe0-910b3e6a29a0"
      },
      "outputs": [
        {
          "name": "stdout",
          "output_type": "stream",
          "text": [
            "[[1 2]\n",
            " [2 3]\n",
            " [0 1]]\n",
            "[[1 2 0]\n",
            " [2 3 1]]\n",
            "[[ 5  8  2]\n",
            " [ 8 13  3]\n",
            " [ 2  3  1]]\n",
            "[[1 2]]\n",
            "[[-1]\n",
            " [ 1]]\n",
            "[[2]]\n"
          ]
        }
      ],
      "source": [
        "# macierze\n",
        "A=np.array([[1,2],[2,3],[0,1]])\n",
        "print(A)\n",
        "#macierz transponowana\n",
        "print(A.T)\n",
        "\n",
        "# mnożenie macierzowe\n",
        "print(A@A.T)\n",
        "\n",
        "#wektor poziomy\n",
        "v=np.array([[1,2]])\n",
        "print(v)\n",
        "\n",
        "#wektor piopnowy (dla mnie domyślny)\n",
        "w=np.array([[-1],[1]])\n",
        "print(w)\n",
        "\n",
        "# iloczyn skalarny wektorów v,x inaczej (dla wektorów poziomych) to v^Tx, tu norma\n",
        "print(w.T@w)\n",
        "# nie do końca, bo tutaj nie jest rozumiany jako skalar\n"
      ]
    },
    {
      "cell_type": "markdown",
      "id": "Jlp0bWzyYh_R",
      "metadata": {
        "id": "Jlp0bWzyYh_R"
      },
      "source": [
        "## Rozwiązanie (Dynamiczne programowanie)\n",
        "\n",
        "### Reprezentacja problemu\n",
        "- Tworzymy tablicę $m[i][j]$, gdzie $m[i][j]$ oznacza minimalny koszt pomnożenia macierzy $A_i$ do $A_j$.\n",
        "- Nie obliczamy rzeczywistych wyników mnożenia, tylko liczbę operacji potrzebnych do ich wykonania.\n",
        "\n",
        "### Rekurencyjna zależność\n",
        "Dla każdego podproblemu $i \\leq k \u003C j$:\n",
        "$$\n",
        "m[i][j] = \\min_{i \\leq k \u003C j} \\big( m[i][k] + m[k+1][j] + p_{i-1} \\cdot p_k \\cdot p_j \\big)\n",
        "$$\n",
        "Gdzie:\n",
        "- $m[i][k]$: Koszt pomnożenia macierzy od $A_i$ do $A_k$,\n",
        "- $m[k+1][j]$: Koszt pomnożenia macierzy od $A_{k+1}$ do $A_j$,\n",
        "- $p_{i-1} \\cdot p_k \\cdot p_j$: Koszt scalania dwóch wynikowych macierzy.\n",
        "\n",
        "---\n",
        "\n",
        "### Kroki algorytmu\n",
        "1. Rozważamy podproblemy o rosnącej długości (od jednego do \\(n\\) macierzy).\n",
        "2. Iteracyjnie wypełniamy tablicę \\(m[i][j]\\) dla wszystkich możliwych zakresów \\(i\\) do \\(j\\).\n",
        "\n",
        "---\n",
        "\n",
        "## Złożoność obliczeniowa\n",
        "- Algorytm działa w czasie \\(O(n^3)\\), ponieważ:\n",
        "  - Analizujemy wszystkie podproblemy (\\(O(n^2)\\)).\n",
        "  - Dla każdego podproblemu obliczamy minimalny koszt spośród \\(O(n)\\) podziałów.\n"
      ]
    },
    {
      "cell_type": "markdown",
      "id": "5t0lJyBsZmWN",
      "metadata": {
        "id": "5t0lJyBsZmWN"
      },
      "source": [
        "**Zadanie** Zaimplementować ten algorytm. Policzyć ręcznie dla prostych przykładów."
      ]
    },
    {
      "cell_type": "code",
      "execution_count": null,
      "id": "032badfd-f3b8-4847-8b16-2abbe66695b8",
      "metadata": {
        "id": "032badfd-f3b8-4847-8b16-2abbe66695b8",
        "outputId": "22f11a39-41b2-45cd-e27e-41df99f2df77"
      },
      "outputs": [
        {
          "data": {
            "image/png": "[encoded data removed]",
            "text/plain": [
              "\u003CFigure size 300x300 with 1 Axes\u003E"
            ]
          },
          "metadata": {

          },
          "output_type": "display_data"
        }
      ],
      "source": [
        "# Przykładowa macierz skalarna\n",
        "matrix = np.random.rand(20, 10) # Losowe wartośći z zakresu 0-1\n",
        "#print(matrix)\n",
        "# Wizualizacja macierzy jako obrazu\n",
        "plt.figure(figsize=(3, 3))\n",
        "plt.imshow(matrix, cmap='gray',interpolation='nearest')\n",
        "plt.show()\n",
        "\n"
      ]
    },
    {
      "cell_type": "markdown",
      "id": "1cfe6d73-5756-4915-888d-2f824c051f1d",
      "metadata": {
        "id": "1cfe6d73-5756-4915-888d-2f824c051f1d"
      },
      "source": [
        "## funkcje macierzowe"
      ]
    },
    {
      "cell_type": "code",
      "execution_count": 19,
      "id": "c6566214-2062-46df-991b-2a3e8b7d8c98",
      "metadata": {
        "id": "c6566214-2062-46df-991b-2a3e8b7d8c98",
        "outputId": "3252ea84-4f9e-48ac-ed35-bf5ec7956b5f"
      },
      "outputs": [
        {
          "data": {
            "text/plain": [
              "array([[0.88388286, 0.68661176, 0.79986077, 0.37183879, 0.45557718],\n",
              "       [2.26378505, 1.71087979, 1.33397097, 1.42681574, 1.48734894],\n",
              "       [1.09156137, 0.50171861, 0.71463044, 0.44935713, 0.89755009],\n",
              "       [1.90682813, 1.29468385, 1.10365975, 1.13050742, 1.35573412]])"
            ]
          },
          "execution_count": 19,
          "metadata": {

          },
          "output_type": "execute_result"
        }
      ],
      "source": [
        "A=np.random.rand(4, 3)\n",
        "B=np.random.rand(3, 5)\n",
        "A.T\n",
        "A@B"
      ]
    },
    {
      "cell_type": "markdown",
      "id": "9415803e-bda9-4de0-b6be-2246ca004026",
      "metadata": {
        "id": "9415803e-bda9-4de0-b6be-2246ca004026"
      },
      "source": [
        "Prymitywne mnożenie macierzy wielkości $n$ to $O(n^4)$, ale za dużo. Można w $O(n^3)$.\n",
        "\n",
        "Mnożenie macierzowe jest łączne, czyli nie zależy od nawiasów. Jak powinno się mnożyć, gdy na końcu mamy wektor poziomo."
      ]
    },
    {
      "cell_type": "markdown",
      "id": "efbf5173-3305-45dc-b528-5409aafdec1c",
      "metadata": {
        "id": "efbf5173-3305-45dc-b528-5409aafdec1c"
      },
      "source": [
        "## macierze kwadratowe: wyznacznik\n",
        "\n",
        "dla macierzy kwadratowej $A$ bardzo ważną informację pełni wyznacznik - $det(A)$, a mianowicie moduł określa zmianę pola, a znak czy następuje lustrzane odbicie"
      ]
    },
    {
      "cell_type": "code",
      "execution_count": null,
      "id": "ff5c6a05-a092-4869-bbea-5507350b951c",
      "metadata": {
        "colab": {
          "base_uri": "https://localhost:8080/",
          "height": 562
        },
        "id": "ff5c6a05-a092-4869-bbea-5507350b951c",
        "outputId": "a55d3f76-7b0a-4bb6-e9aa-c18eb892c887"
      },
      "outputs": [
        {
          "data": {
            "image/png": "[encoded data removed]",
            "text/plain": [
              "\u003CFigure size 600x600 with 1 Axes\u003E"
            ]
          },
          "metadata": {

          },
          "output_type": "display_data"
        },
        {
          "name": "stdout",
          "output_type": "stream",
          "text": [
            "det= 1.9999999999999998\n"
          ]
        }
      ],
      "source": [
        "import numpy as np\n",
        "import matplotlib.pyplot as plt\n",
        "\n",
        "# Zdefiniuj macierz transformacji A (np. rotacja i skalowanie)\n",
        "A = np.array([[1.5, 0.5],\n",
        "              [0.5, 1.5]])\n",
        "\n",
        "# Zdefiniuj wierzchołki kwadratu jednostkowego\n",
        "square = np.array([[0, 0],\n",
        "                   [1, 0],\n",
        "                   [1, 1],\n",
        "                   [0, 1]])\n",
        "\n",
        "# Dodaj pierwszy wierzchołek, aby zamknąć kwadrat\n",
        "square = np.vstack([square, square[0]])\n",
        "\n",
        "# Zastosuj macierz transformacji na punkty kwadratu\n",
        "transformed_square = square @ A.T  # Macierz A.T dla transponowanej macierzy\n",
        "\n",
        "# Kolory dla boków (4 boki)\n",
        "colors = ['blue', 'green', 'red', 'purple']\n",
        "\n",
        "# Tworzenie wykresu\n",
        "plt.figure(figsize=(6, 6))\n",
        "\n",
        "# Rysuj oryginalny kwadrat\n",
        "for i in range(4):\n",
        "    plt.plot([square[i, 0], square[(i + 1) % 4, 0]],\n",
        "             [square[i, 1], square[(i + 1) % 4, 1]],\n",
        "             color=colors[i], linewidth=3)\n",
        "\n",
        "# Rysuj przekształcony kwadrat\n",
        "for i in range(4):\n",
        "    plt.plot([transformed_square[i, 0], transformed_square[(i + 1) % 4, 0]],\n",
        "             [transformed_square[i, 1], transformed_square[(i + 1) % 4, 1]],\n",
        "             color=colors[i], linewidth=3, linestyle='--')\n",
        "\n",
        "# Ustawienia osi\n",
        "plt.xlim(-3, 3)\n",
        "plt.ylim(-3, 3)\n",
        "plt.gca().set_aspect('equal', adjustable='box')\n",
        "plt.title('Przekształcenie kwadratu jednostkowego')\n",
        "plt.grid(True)\n",
        "\n",
        "# Pokaż wykres\n",
        "plt.show()\n",
        "print(\"det=\",np.linalg.det(A))"
      ]
    },
    {
      "cell_type": "markdown",
      "id": "c841eda1-3d8e-447a-a127-d3c9dd47064a",
      "metadata": {
        "id": "c841eda1-3d8e-447a-a127-d3c9dd47064a"
      },
      "source": [
        "# TENSORY"
      ]
    },
    {
      "cell_type": "code",
      "execution_count": null,
      "id": "a7369e71-55fd-47ad-b5d9-af06e45fe777",
      "metadata": {
        "id": "a7369e71-55fd-47ad-b5d9-af06e45fe777",
        "outputId": "7d997c23-c184-4723-e28e-60b11a0eec4e"
      },
      "outputs": [
        {
          "data": {
            "image/png": "[encoded data removed]",
            "text/plain": [
              "\u003CFigure size 900x300 with 3 Axes\u003E"
            ]
          },
          "metadata": {

          },
          "output_type": "display_data"
        },
        {
          "data": {
            "image/png": "[encoded data removed]",
            "text/plain": [
              "\u003CFigure size 300x300 with 1 Axes\u003E"
            ]
          },
          "metadata": {

          },
          "output_type": "display_data"
        }
      ],
      "source": [
        "# Losowy tensor 3-wymiarowy (20x20x3) dla kanałów RGB\n",
        "tensor = np.random.rand(20, 20, 3)\n",
        "\n",
        "# Wizualizacja kanałów RGB jako osobne obrazy\n",
        "fig, axes = plt.subplots(1, 3, figsize=(9, 3))\n",
        "fig.suptitle(\"Wizualizacja kanałów RGB\")\n",
        "channels = ['Red', 'Green', 'Blue']\n",
        "for i in range(3):\n",
        "    axes[i].imshow(tensor[:, :, i], cmap='gray', interpolation='nearest')\n",
        "    axes[i].set_title(f\"Kanał {channels[i]}\")\n",
        "    axes[i].axis('off')\n",
        "plt.show()\n",
        "\n",
        "# Wizualizacja tensora jako obraz RGB\n",
        "plt.figure(figsize=(3, 3))\n",
        "plt.imshow(tensor, interpolation='nearest')\n",
        "plt.title(\"Wizualizacja tensora jako obraz RGB\")\n",
        "plt.xlabel(\"Kolumny\")\n",
        "plt.ylabel(\"Wiersze\")\n",
        "plt.show()"
      ]
    },
    {
      "cell_type": "code",
      "execution_count": null,
      "id": "526c5e9c-de71-4215-b953-936bfdcd9cea",
      "metadata": {
        "id": "526c5e9c-de71-4215-b953-936bfdcd9cea"
      },
      "outputs": [],
      "source": []
    },
    {
      "cell_type": "markdown",
      "id": "d7acc583-048e-4ed0-87f7-a2b3a82b1cce",
      "metadata": {
        "id": "d7acc583-048e-4ed0-87f7-a2b3a82b1cce"
      },
      "source": [
        "Tensory\n",
        "\n",
        "MUZYKA - tensor 1 wymiarowy (jeżeli jedno pasmo), jak stereo to 2 wymiary\n",
        "\n",
        "OBRAZY HIPERSPEKTRALNE (tensory 3 wymiarowa, ale ostatni ma więcej niż 3)\n",
        "https://en.wikipedia.org/wiki/Hyperspectral_imaging\n",
        "\n",
        "FILMY -- TENSOR 4 WYMIAROWY (4 wymiar to czas)\n",
        "\n",
        "FILMY 3D (TOMOGRAFIA KOMPUTEROWA) TENSOR 5 WYMIAROWY\n",
        "\n"
      ]
    },
    {
      "cell_type": "code",
      "execution_count": null,
      "id": "29984bef-bb4d-40dc-9c86-10e5b10c3c7b",
      "metadata": {
        "colab": {
          "base_uri": "https://localhost:8080/",
          "height": 428
        },
        "id": "29984bef-bb4d-40dc-9c86-10e5b10c3c7b",
        "outputId": "e9d0df8e-bb66-4ae5-a272-88d5a5756ff2"
      },
      "outputs": [
        {
          "data": {
            "image/png": "[encoded data removed]",
            "text/plain": [
              "\u003CFigure size 640x480 with 1 Axes\u003E"
            ]
          },
          "metadata": {

          },
          "output_type": "display_data"
        }
      ],
      "source": [
        "# pip install ffmpeg\n",
        "\n",
        "import numpy as np\n",
        "import matplotlib.pyplot as plt\n",
        "import matplotlib.animation as animation\n",
        "\n",
        "# Tworzymy przykładowy tensor o wymiarach (czas, wysokość, szerokość, RGB)\n",
        "# widzimy, że tensor czterowymiarowy\n",
        "tensor = np.random.rand(50, 64, 64, 3)  # 50 klatek, 64x64 piksele, 3 kanały RGB\n",
        "\n",
        "# Tworzymy figurę do wizualizacji\n",
        "fig, ax = plt.subplots()\n",
        "\n",
        "# Funkcja do wyświetlania klatki\n",
        "def update(frame):\n",
        "    ax.clear()  # Czyszczenie poprzedniego obrazu\n",
        "    ax.imshow(tensor[frame])  # Pokazujemy obraz z odpowiedniej klatki\n",
        "    ax.set_title(f\"Klatka: {frame+1}\")  # Tytuł z numerem klatki\n",
        "    ax.axis('off')  # Ukrycie osi\n",
        "\n",
        "# Tworzymy animację\n",
        "ani = animation.FuncAnimation(fig, update, frames=range(tensor.shape[0]), interval=100, repeat=False)\n",
        "\n",
        "# Zapisujemy animację do pliku MP4\n",
        "ani.save('animation.mp4', writer='ffmpeg', fps=10)\n"
      ]
    },
    {
      "cell_type": "code",
      "execution_count": null,
      "id": "a14435b6-6374-4868-9ffd-2983beb4788d",
      "metadata": {
        "id": "a14435b6-6374-4868-9ffd-2983beb4788d"
      },
      "outputs": [],
      "source": []
    }
  ],
  "metadata": {
    "colab": {
      "provenance": []
    },
    "kernelspec": {
      "display_name": "Python [conda env:base] *",
      "language": "python",
      "name": "conda-base-py"
    },
    "language_info": {
      "codemirror_mode": {
        "name": "ipython",
        "version": 3
      },
      "file_extension": ".py",
      "mimetype": "text/x-python",
      "name": "python",
      "nbconvert_exporter": "python",
      "pygments_lexer": "ipython3",
      "version": "3.12.7"
    }
  },
  "nbformat": 4,
  "nbformat_minor": 5
}