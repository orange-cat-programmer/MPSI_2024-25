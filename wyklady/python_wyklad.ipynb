{
  "cells": [
    {
      "cell_type": "code",
      "execution_count": null,
      "id": "6895236c-8fea-4284-9ce5-d68b7451f864",
      "metadata": {
        "id": "6895236c-8fea-4284-9ce5-d68b7451f864"
      },
      "outputs": [],
      "source": [
        "# wczytywanie bibliotek\n",
        "\n",
        "import numpy as np\n",
        "import matplotlib.pyplot as plt"
      ]
    },
    {
      "cell_type": "markdown",
      "id": "afdda6a1-2467-486e-afce-d46987b7ad7e",
      "metadata": {
        "id": "afdda6a1-2467-486e-afce-d46987b7ad7e"
      },
      "source": [
        "## Operacje"
      ]
    },
    {
      "cell_type": "code",
      "execution_count": null,
      "id": "9178ce62-cfb9-4169-a4e3-6e5fc4999015",
      "metadata": {
        "colab": {
          "base_uri": "https://localhost:8080/"
        },
        "id": "9178ce62-cfb9-4169-a4e3-6e5fc4999015",
        "executionInfo": {
          "status": "ok",
          "timestamp": 1737016102860,
          "user_tz": -60,
          "elapsed": 340,
          "user": {
            "displayName": "Jacek Tabor",
            "userId": "05839850900345853405"
          }
        },
        "outputId": "b6ca80d1-554d-41b1-b147-724797673a95"
      },
      "outputs": [
        {
          "output_type": "execute_result",
          "data": {
            "text/plain": [
              "4"
            ]
          },
          "metadata": {

          },
          "execution_count": 2
        }
      ],
      "source": [
        "2+2"
      ]
    },
    {
      "cell_type": "code",
      "execution_count": null,
      "id": "db51352f-1741-46da-9091-0bd5b5decaa4",
      "metadata": {
        "colab": {
          "base_uri": "https://localhost:8080/"
        },
        "id": "db51352f-1741-46da-9091-0bd5b5decaa4",
        "executionInfo": {
          "status": "ok",
          "timestamp": 1737016104143,
          "user_tz": -60,
          "elapsed": 2,
          "user": {
            "displayName": "Jacek Tabor",
            "userId": "05839850900345853405"
          }
        },
        "outputId": "12030e55-e586-41d2-ac13-5bbcb6ebe37f"
      },
      "outputs": [
        {
          "output_type": "execute_result",
          "data": {
            "text/plain": [
              "32"
            ]
          },
          "metadata": {

          },
          "execution_count": 3
        }
      ],
      "source": [
        "2**5"
      ]
    },
    {
      "cell_type": "code",
      "execution_count": null,
      "id": "c1bee7ce-7bde-45e8-8389-48ad9691985b",
      "metadata": {
        "colab": {
          "base_uri": "https://localhost:8080/"
        },
        "id": "c1bee7ce-7bde-45e8-8389-48ad9691985b",
        "executionInfo": {
          "status": "ok",
          "timestamp": 1737016105344,
          "user_tz": -60,
          "elapsed": 217,
          "user": {
            "displayName": "Jacek Tabor",
            "userId": "05839850900345853405"
          }
        },
        "outputId": "eed01e48-618d-43ce-dea8-1c8306ce6b22"
      },
      "outputs": [
        {
          "output_type": "execute_result",
          "data": {
            "text/plain": [
              "0.36787944117144233"
            ]
          },
          "metadata": {

          },
          "execution_count": 4
        }
      ],
      "source": [
        "np.exp(-1)"
      ]
    },
    {
      "cell_type": "code",
      "execution_count": null,
      "id": "309556a4-2fb4-4d83-8725-14ae750b7fe1",
      "metadata": {
        "colab": {
          "base_uri": "https://localhost:8080/"
        },
        "id": "309556a4-2fb4-4d83-8725-14ae750b7fe1",
        "executionInfo": {
          "status": "ok",
          "timestamp": 1737016106632,
          "user_tz": -60,
          "elapsed": 227,
          "user": {
            "displayName": "Jacek Tabor",
            "userId": "05839850900345853405"
          }
        },
        "outputId": "5572b56e-2521-40c4-91cd-08dff7510eff"
      },
      "outputs": [
        {
          "output_type": "execute_result",
          "data": {
            "text/plain": [
              "1.3333333333333333"
            ]
          },
          "metadata": {

          },
          "execution_count": 5
        }
      ],
      "source": [
        "4/3"
      ]
    },
    {
      "cell_type": "code",
      "execution_count": null,
      "id": "fb838200-20b4-41e1-9d52-1febff57551c",
      "metadata": {
        "colab": {
          "base_uri": "https://localhost:8080/"
        },
        "id": "fb838200-20b4-41e1-9d52-1febff57551c",
        "executionInfo": {
          "status": "ok",
          "timestamp": 1737016108043,
          "user_tz": -60,
          "elapsed": 201,
          "user": {
            "displayName": "Jacek Tabor",
            "userId": "05839850900345853405"
          }
        },
        "outputId": "a2f44247-70a1-47b8-e73d-56f227a15789"
      },
      "outputs": [
        {
          "output_type": "execute_result",
          "data": {
            "text/plain": [
              "1"
            ]
          },
          "metadata": {

          },
          "execution_count": 6
        }
      ],
      "source": [
        "4//3"
      ]
    },
    {
      "cell_type": "code",
      "execution_count": null,
      "id": "c7863cbe-4ce1-4bb6-926b-2a41d4ab5ffe",
      "metadata": {
        "colab": {
          "base_uri": "https://localhost:8080/"
        },
        "id": "c7863cbe-4ce1-4bb6-926b-2a41d4ab5ffe",
        "executionInfo": {
          "status": "ok",
          "timestamp": 1737016109329,
          "user_tz": -60,
          "elapsed": 210,
          "user": {
            "displayName": "Jacek Tabor",
            "userId": "05839850900345853405"
          }
        },
        "outputId": "228cca12-a1eb-4049-960f-159e4e9dbe65"
      },
      "outputs": [
        {
          "output_type": "execute_result",
          "data": {
            "text/plain": [
              "inf"
            ]
          },
          "metadata": {

          },
          "execution_count": 7
        }
      ],
      "source": [
        "np.infty/10"
      ]
    },
    {
      "cell_type": "markdown",
      "id": "33735ed4-d1a3-47b1-9242-1589f7bb5e7c",
      "metadata": {
        "id": "33735ed4-d1a3-47b1-9242-1589f7bb5e7c"
      },
      "source": [
        "## Zmienne i wektory"
      ]
    },
    {
      "cell_type": "code",
      "execution_count": null,
      "id": "812d1a38-09eb-4d31-9399-143b89296eda",
      "metadata": {
        "colab": {
          "base_uri": "https://localhost:8080/"
        },
        "id": "812d1a38-09eb-4d31-9399-143b89296eda",
        "executionInfo": {
          "status": "ok",
          "timestamp": 1737016111495,
          "user_tz": -60,
          "elapsed": 218,
          "user": {
            "displayName": "Jacek Tabor",
            "userId": "05839850900345853405"
          }
        },
        "outputId": "63da51ce-b8b0-4505-be2d-24b13434a918"
      },
      "outputs": [
        {
          "output_type": "stream",
          "name": "stdout",
          "text": [
            "25\n"
          ]
        }
      ],
      "source": [
        "x=5\n",
        "print(x**2)"
      ]
    },
    {
      "cell_type": "code",
      "execution_count": null,
      "id": "d06f8c26-c534-4663-afdb-c63ae050f787",
      "metadata": {
        "id": "d06f8c26-c534-4663-afdb-c63ae050f787"
      },
      "outputs": [],
      "source": [
        "v=np.array([1,2,3])"
      ]
    },
    {
      "cell_type": "code",
      "execution_count": null,
      "id": "5c60f22b-12cd-4230-8f36-f9e0c7641432",
      "metadata": {
        "colab": {
          "base_uri": "https://localhost:8080/"
        },
        "id": "5c60f22b-12cd-4230-8f36-f9e0c7641432",
        "executionInfo": {
          "status": "ok",
          "timestamp": 1737016114187,
          "user_tz": -60,
          "elapsed": 204,
          "user": {
            "displayName": "Jacek Tabor",
            "userId": "05839850900345853405"
          }
        },
        "outputId": "d76f857b-0074-451a-b074-d63f6403c1e7"
      },
      "outputs": [
        {
          "output_type": "execute_result",
          "data": {
            "text/plain": [
              "dtype('int64')"
            ]
          },
          "metadata": {

          },
          "execution_count": 10
        }
      ],
      "source": [
        "v.dtype"
      ]
    },
    {
      "cell_type": "markdown",
      "id": "66413efc-df88-45e5-8790-f802c6bfa8c7",
      "metadata": {
        "id": "66413efc-df88-45e5-8790-f802c6bfa8c7"
      },
      "source": [
        "## Mutowalne i niemutowalne typy danych\n",
        "\n",
        "\u003E Dodaj cytat blokowy\n",
        "\n"
      ]
    },
    {
      "cell_type": "code",
      "execution_count": null,
      "id": "e84b0d81-a924-40dc-bd7d-22e3d3d54fac",
      "metadata": {
        "id": "e84b0d81-a924-40dc-bd7d-22e3d3d54fac"
      },
      "outputs": [],
      "source": [
        "w=v\n",
        "\n",
        "z=np.zeros(3)\n",
        "z=v\n",
        "\n",
        "q=v.copy()"
      ]
    },
    {
      "cell_type": "code",
      "execution_count": null,
      "id": "fe1e35de-72e5-42f9-92d7-719cbb248e41",
      "metadata": {
        "colab": {
          "base_uri": "https://localhost:8080/"
        },
        "id": "fe1e35de-72e5-42f9-92d7-719cbb248e41",
        "executionInfo": {
          "status": "ok",
          "timestamp": 1737016118834,
          "user_tz": -60,
          "elapsed": 198,
          "user": {
            "displayName": "Jacek Tabor",
            "userId": "05839850900345853405"
          }
        },
        "outputId": "1a4df0e2-70b4-4ec8-de28-5a7586af7938"
      },
      "outputs": [
        {
          "output_type": "stream",
          "name": "stdout",
          "text": [
            "[1 2 3]\n",
            "[1 2 3]\n",
            "[1 2 3]\n"
          ]
        }
      ],
      "source": [
        "print(w)\n",
        "print(z)\n",
        "print(q)"
      ]
    },
    {
      "cell_type": "code",
      "execution_count": null,
      "id": "3cb76950-9743-440f-aee3-795143935ce6",
      "metadata": {
        "id": "3cb76950-9743-440f-aee3-795143935ce6"
      },
      "outputs": [],
      "source": [
        "w[1]=0"
      ]
    },
    {
      "cell_type": "code",
      "execution_count": null,
      "id": "a2ab6615-4604-42ef-abd4-13906ff08707",
      "metadata": {
        "colab": {
          "base_uri": "https://localhost:8080/"
        },
        "id": "a2ab6615-4604-42ef-abd4-13906ff08707",
        "executionInfo": {
          "status": "ok",
          "timestamp": 1737016121286,
          "user_tz": -60,
          "elapsed": 178,
          "user": {
            "displayName": "Jacek Tabor",
            "userId": "05839850900345853405"
          }
        },
        "outputId": "7b7dea7a-5eb7-423e-bd85-62b18fbac797"
      },
      "outputs": [
        {
          "output_type": "stream",
          "name": "stdout",
          "text": [
            "[1 0 3]\n",
            "[1 0 3]\n",
            "[1 0 3]\n",
            "[1 2 3]\n"
          ]
        }
      ],
      "source": [
        "print(w)\n",
        "print(v)\n",
        "print(z)\n",
        "print(q)"
      ]
    },
    {
      "cell_type": "code",
      "execution_count": null,
      "id": "73230fd3-abc1-48a5-a5ad-e7c35b8dd048",
      "metadata": {
        "colab": {
          "base_uri": "https://localhost:8080/"
        },
        "id": "73230fd3-abc1-48a5-a5ad-e7c35b8dd048",
        "executionInfo": {
          "status": "ok",
          "timestamp": 1737016122782,
          "user_tz": -60,
          "elapsed": 203,
          "user": {
            "displayName": "Jacek Tabor",
            "userId": "05839850900345853405"
          }
        },
        "outputId": "114059ba-7c45-483e-c6d5-a2c160333b7f"
      },
      "outputs": [
        {
          "output_type": "stream",
          "name": "stdout",
          "text": [
            "True\n",
            "False\n"
          ]
        }
      ],
      "source": [
        "v = np.array([1, 2, 3])\n",
        "w = v  # Przypisanie\n",
        "u = v.copy()  # Kopiowanie\n",
        "\n",
        "print(v is w)  # True, bo w i v wskazują na ten sam obiekt\n",
        "print(v is u)  # False, bo u jest kopią, a więc innym obiektem"
      ]
    },
    {
      "cell_type": "markdown",
      "id": "209552a3-634d-4f2c-810a-6b24d63ef52f",
      "metadata": {
        "id": "209552a3-634d-4f2c-810a-6b24d63ef52f"
      },
      "source": [
        "### W Pythonie, przypisanie za pomocą operatora = nie tworzy nowego obiektu w pamięci, tylko przypisuje zmiennej referencję (wskaźnik) do istniejącego obiektu. To zachowanie zależy od typu obiektu. Poniżej przedstawiono szczegóły dla różnych typów:"
      ]
    },
    {
      "cell_type": "markdown",
      "id": "5ebdba8c-3b6b-4ddd-83a0-979da70aa487",
      "metadata": {
        "id": "5ebdba8c-3b6b-4ddd-83a0-979da70aa487"
      },
      "source": [
        "**1. Niemutowalne typy danych**\n",
        "Dla niemutowalnych typów danych (np. liczby, łańcuchy, krotki), przypisanie tworzy nową zmienną wskazującą na ten sam obiekt."
      ]
    },
    {
      "cell_type": "code",
      "execution_count": null,
      "id": "53bf17ad-33a0-4c84-b206-7b785c5c6f8e",
      "metadata": {
        "id": "53bf17ad-33a0-4c84-b206-7b785c5c6f8e",
        "outputId": "8f6f133f-b9c9-4719-cb1d-d93d83688bb0"
      },
      "outputs": [
        {
          "name": "stdout",
          "output_type": "stream",
          "text": [
            "True\n",
            "False\n"
          ]
        }
      ],
      "source": [
        "a = 10\n",
        "b = a  # b wskazuje na ten sam obiekt co a\n",
        "print(a is b)  # True\n",
        "\n",
        "a = 20  # Zmieniono wartość a, teraz a wskazuje na nowy obiekt\n",
        "print(a is b)  # False"
      ]
    },
    {
      "cell_type": "markdown",
      "id": "5bccacec-9338-4a24-89e7-cf90f491b86b",
      "metadata": {
        "id": "5bccacec-9338-4a24-89e7-cf90f491b86b"
      },
      "source": [
        "Dlaczego?\n",
        "\n",
        "Wartości niemutowalne nie mogą być zmienione w miejscu, więc przy każdej modyfikacji tworzony jest nowy obiekt.\n",
        "Typy niemutowalne w Pythonie:\n",
        "* Liczby (int, float, complex).\n",
        "* Łańcuchy znaków (str).\n",
        "* Krotki (tuple).\n",
        "* Typy frozenset i bytes.\n"
      ]
    },
    {
      "cell_type": "markdown",
      "id": "06f428b8-dfb8-4c13-875b-ee6def437d63",
      "metadata": {
        "id": "06f428b8-dfb8-4c13-875b-ee6def437d63"
      },
      "source": [
        "**2. Mutowalne typy danych**\n",
        "Dla mutowalnych typów danych (np. listy, słowniki, zbiory, obiekty klas), przypisanie za pomocą = powoduje, że obie zmienne wskazują na ten sam obiekt."
      ]
    },
    {
      "cell_type": "code",
      "execution_count": null,
      "id": "2994f77a-36ba-44e5-9018-b01db97564b6",
      "metadata": {
        "id": "2994f77a-36ba-44e5-9018-b01db97564b6",
        "outputId": "423f3d98-129e-4d37-bbab-92d8a48d15b8"
      },
      "outputs": [
        {
          "name": "stdout",
          "output_type": "stream",
          "text": [
            "True\n",
            "[99, 2, 3]\n"
          ]
        }
      ],
      "source": [
        "a = [1, 2, 3]\n",
        "b = a  # b wskazuje na ten sam obiekt co a\n",
        "print(a is b)  # True\n",
        "\n",
        "b[0] = 99  # Zmiana w b wpływa także na a\n",
        "print(a)  # [99, 2, 3]"
      ]
    },
    {
      "cell_type": "markdown",
      "id": "00ae8c2e-40c8-424f-9c27-980a432952fd",
      "metadata": {
        "id": "00ae8c2e-40c8-424f-9c27-980a432952fd"
      },
      "source": [
        "Dlaczego?\n",
        "\n",
        "Typy mutowalne mogą być zmieniane w miejscu, więc obie zmienne widzą te same zmiany.\n",
        "Typy mutowalne w Pythonie:\n",
        "* Listy (list).\n",
        "* Słowniki (dict).\n",
        "* Zbiory (set).\n",
        "* Tablice NumPy.\n",
        "* Obiekty klas."
      ]
    },
    {
      "cell_type": "markdown",
      "id": "7d147c29-3e2c-4ada-955a-c0cbab2ccb1f",
      "metadata": {
        "id": "7d147c29-3e2c-4ada-955a-c0cbab2ccb1f"
      },
      "source": [
        "Specjalne przypadki: **Interning**\n",
        "\n",
        "Dla niektórych typów niemutowalnych (np. małe liczby całkowite, krótkie łańcuchy znaków), Python stosuje mechanizm interningu, co oznacza, że pewne obiekty są współdzielone w pamięci dla optymalizacji."
      ]
    },
    {
      "cell_type": "code",
      "execution_count": null,
      "id": "b3f75d88-04e9-48a4-b953-281eb33286f5",
      "metadata": {
        "colab": {
          "base_uri": "https://localhost:8080/"
        },
        "id": "b3f75d88-04e9-48a4-b953-281eb33286f5",
        "executionInfo": {
          "status": "ok",
          "timestamp": 1737016376216,
          "user_tz": -60,
          "elapsed": 193,
          "user": {
            "displayName": "Jacek Tabor",
            "userId": "05839850900345853405"
          }
        },
        "outputId": "7289d163-8bf7-43c3-bf64-64bf18c2f0ab"
      },
      "outputs": [
        {
          "output_type": "stream",
          "name": "stdout",
          "text": [
            "True\n",
            "False\n"
          ]
        }
      ],
      "source": [
        "a = 10\n",
        "b = 10\n",
        "print(a is b)  # True, bo małe liczby całkowite są internowane\n",
        "\n",
        "# ale jakakolwiek modyfikacja to niszczy\n",
        "b+=1\n",
        "print(a is b)"
      ]
    },
    {
      "cell_type": "markdown",
      "id": "f57e1e14-0581-4f74-8ef5-6b24d57e134a",
      "metadata": {
        "id": "f57e1e14-0581-4f74-8ef5-6b24d57e134a"
      },
      "source": [
        "## Przykłady mutowalnych typów danych"
      ]
    },
    {
      "cell_type": "code",
      "execution_count": null,
      "id": "df081ba8-f6e9-46b0-8d33-50c509a2a6b8",
      "metadata": {
        "colab": {
          "base_uri": "https://localhost:8080/"
        },
        "id": "df081ba8-f6e9-46b0-8d33-50c509a2a6b8",
        "executionInfo": {
          "status": "ok",
          "timestamp": 1737016401112,
          "user_tz": -60,
          "elapsed": 215,
          "user": {
            "displayName": "Jacek Tabor",
            "userId": "05839850900345853405"
          }
        },
        "outputId": "813d6dcb-e94a-42a3-c003-762066315821"
      },
      "outputs": [
        {
          "output_type": "stream",
          "name": "stdout",
          "text": [
            "[99, 2, 3, 4]\n",
            "[1, 3]\n"
          ]
        }
      ],
      "source": [
        "# listy\n",
        "\n",
        "my_list = [1, 2, 3]\n",
        "my_list[0] = 99  # Modyfikacja elementu\n",
        "my_list.append(4)  # Dodanie nowego elementu\n",
        "print(my_list)\n",
        "\n",
        "list1=[1]\n",
        "list2=[3]\n",
        "# dodawanie list je łączy\n",
        "print(list1+list2)"
      ]
    },
    {
      "cell_type": "code",
      "execution_count": null,
      "id": "878a3811-f919-471f-87eb-1932f4b48c3f",
      "metadata": {
        "colab": {
          "base_uri": "https://localhost:8080/"
        },
        "id": "878a3811-f919-471f-87eb-1932f4b48c3f",
        "executionInfo": {
          "status": "ok",
          "timestamp": 1737016410645,
          "user_tz": -60,
          "elapsed": 194,
          "user": {
            "displayName": "Jacek Tabor",
            "userId": "05839850900345853405"
          }
        },
        "outputId": "1c7c7975-f1a2-400f-eddd-0874b4fc545e"
      },
      "outputs": [
        {
          "output_type": "stream",
          "name": "stdout",
          "text": [
            "{1, 3, 4}\n"
          ]
        }
      ],
      "source": [
        "# zbiory\n",
        "my_set = {2, 2, 3, 1}\n",
        "my_set.add(4)  # Dodanie nowego elementu\n",
        "my_set.remove(2)  # Usunięcie elementu\n",
        "print(my_set)"
      ]
    },
    {
      "cell_type": "code",
      "execution_count": null,
      "id": "ef9d6970-bef3-4b5b-900d-ba13b67437de",
      "metadata": {
        "colab": {
          "base_uri": "https://localhost:8080/"
        },
        "id": "ef9d6970-bef3-4b5b-900d-ba13b67437de",
        "executionInfo": {
          "status": "ok",
          "timestamp": 1737016413469,
          "user_tz": -60,
          "elapsed": 194,
          "user": {
            "displayName": "Jacek Tabor",
            "userId": "05839850900345853405"
          }
        },
        "outputId": "993a50f0-acc4-4488-a49b-72073ad34c59"
      },
      "outputs": [
        {
          "output_type": "stream",
          "name": "stdout",
          "text": [
            "{'key1': 'new_value', 'key2': 'value2', 'key3': 'value3'}\n"
          ]
        }
      ],
      "source": [
        "#słowniki\n",
        "my_dict = {\"key1\": \"value1\", \"key2\": \"value2\"}\n",
        "my_dict[\"key3\"] = \"value3\"  # Dodanie nowej pary klucz-wartość\n",
        "my_dict[\"key1\"] = \"new_value\"  # Zmiana istniejącej wartości\n",
        "print(my_dict)"
      ]
    },
    {
      "cell_type": "markdown",
      "id": "f239a2ac-dfc3-4211-9e1f-73ef903a69d4",
      "metadata": {
        "id": "f239a2ac-dfc3-4211-9e1f-73ef903a69d4"
      },
      "source": [
        "## Pętle, instrukcje warunkowe"
      ]
    },
    {
      "cell_type": "code",
      "execution_count": null,
      "id": "3a15b2fb-0014-4887-b68b-ff9ac81ac4d7",
      "metadata": {
        "id": "3a15b2fb-0014-4887-b68b-ff9ac81ac4d7",
        "outputId": "32c65bf3-ffef-4f89-d3f0-177520daf435"
      },
      "outputs": [
        {
          "name": "stdout",
          "output_type": "stream",
          "text": [
            "Pętla for:\n",
            "Iteracja 0\n",
            "Iteracja 1\n",
            "Iteracja 2\n",
            "Iteracja 3\n",
            "Iteracja 4\n",
            "\n",
            "Pętla while:\n",
            "x = 0\n",
            "x = 1\n",
            "x = 2\n",
            "\n",
            "Instrukcje warunkowe:\n",
            "10 jest większe od 5\n",
            "\n",
            "Dodawanie wektorów za pomocą NumPy:\n",
            "wektor a: [1 2 3]\n",
            "wektor b: [4 5 6]\n",
            "suma: [5 7 9]\n"
          ]
        }
      ],
      "source": [
        "# --- Wprowadzenie do pętli ---\n",
        "print(\"Pętla for:\")\n",
        "for i in range(5):\n",
        "    print(f\"Iteracja {i}\")\n",
        "\n",
        "\"\"\"\n",
        "Litera f przed łańcuchem tekstowym w Pythonie oznacza \"f-string\", czyli formatowany string.\n",
        "Dzięki niej można łatwo wstawiać wartości zmiennych, wyrażeń lub wyników funkcji bezpośrednio do tekstu,\n",
        "używając nawiasów klamrowych {}.\n",
        "\"\"\"\n",
        "\n",
        "\n",
        "print(\"\\nPętla while:\")\n",
        "x = 0\n",
        "while x \u003C 3:\n",
        "    print(f\"x = {x}\")\n",
        "    x += 1\n",
        "\n",
        "# --- Instrukcje warunkowe ---\n",
        "print(\"\\nInstrukcje warunkowe:\")\n",
        "y = 10\n",
        "if y \u003E 5:\n",
        "    print(f\"{y} jest większe od 5\")\n",
        "elif y == 5:\n",
        "    print(f\"{y} jest równe 5\")\n",
        "else:\n",
        "    print(f\"{y} jest mniejsze od 5\")\n",
        "\n",
        "# --- Operacje na wektorach z NumPy ---\n",
        "print(\"\\nDodawanie wektorów za pomocą NumPy:\")\n",
        "a = np.array([1, 2, 3])\n",
        "b = np.array([4, 5, 6])\n",
        "c = a + b\n",
        "print(f\"wektor a: {a}\")\n",
        "print(f\"wektor b: {b}\")\n",
        "print(f\"suma: {c}\")\n",
        "\n"
      ]
    },
    {
      "cell_type": "markdown",
      "source": [],
      "metadata": {
        "id": "OIMWHTs7L8WR"
      },
      "id": "OIMWHTs7L8WR"
    },
    {
      "cell_type": "markdown",
      "source": [
        "***Zadanie.*** Napisz program rozwiązujący funkcję kwadrotową."
      ],
      "metadata": {
        "id": "P29vM2tVknGL"
      },
      "id": "P29vM2tVknGL"
    },
    {
      "cell_type": "markdown",
      "metadata": {
        "id": "NXCxHBXc_G4I"
      },
      "source": [
        "# Pierwszy wykres"
      ],
      "id": "NXCxHBXc_G4I"
    },
    {
      "cell_type": "code",
      "execution_count": null,
      "metadata": {
        "id": "_cERR20u_G4I",
        "outputId": "98e6a7a2-6c28-4539-a252-5dfa33f196f0",
        "colab": {
          "base_uri": "https://localhost:8080/",
          "height": 430
        },
        "executionInfo": {
          "status": "ok",
          "timestamp": 1737183240297,
          "user_tz": -60,
          "elapsed": 568,
          "user": {
            "displayName": "Jacek Tabor",
            "userId": "05839850900345853405"
          }
        }
      },
      "outputs": [
        {
          "output_type": "display_data",
          "data": {
            "text/plain": [
              "\u003CFigure size 640x480 with 1 Axes\u003E"
            ],
            "image/png": "[encoded data removed]"
          },
          "metadata": {

          }
        }
      ],
      "source": [
        "plt.plot([1, 5, 2, 7, 3, 1]) # wartości funkcji\n",
        "plt.show()"
      ],
      "id": "_cERR20u_G4I"
    },
    {
      "cell_type": "code",
      "execution_count": null,
      "metadata": {
        "id": "7fmxVOom_G4J",
        "outputId": "fd6c8157-4803-4cd5-8014-11d29d1b280e"
      },
      "outputs": [
        {
          "data": {
            "image/png": "[encoded data removed]",
            "text/plain": [
              "\u003CFigure size 432x288 with 1 Axes\u003E"
            ]
          },
          "metadata": {
            "needs_background": "light"
          },
          "output_type": "display_data"
        }
      ],
      "source": [
        "plt.plot([1, 2, 4, 7], [-1, 3, -2, 10])\n",
        "plt.show()"
      ],
      "id": "7fmxVOom_G4J"
    },
    {
      "cell_type": "markdown",
      "metadata": {
        "id": "MUSBDvcn_G4J"
      },
      "source": [
        "Własności wykresów\n",
        "Za pomocą specjalnych poleceń można też zmieniać właściwości wykresów, takie jak np.: rodzaj linii, kolor, czy też symbole punktów.\n",
        "Rodzaje linii:\n",
        "  \n",
        "  * **\\-** - ciągła,\n",
        "  * **:** - punktowa,\n",
        "  * **-.** - kropka-kreska,\n",
        "  * **--** - kreskowana.\n",
        "\n",
        "Kolory:\n",
        "\n",
        "  * **y** - yellow,\n",
        "  * **m** - magenta,\n",
        "  * **c** - cyan,\n",
        "  * **r** - red,\n",
        "  * **g** - green,\n",
        "  * **b** - blue,\n",
        "  * **w** - white,\n",
        "  * **k** - black.\n",
        "\n",
        "Symbole:\n",
        "\n",
        "  * **.** - punkt,\n",
        "  * **o** - kółko,\n",
        "  * **x** - x,\n",
        "  * **\\+** - plus,\n",
        "  * ** \\* ** - gwiazdka,\n",
        "  * **s** - kwadraty,\n",
        "  * **d** - romb,\n",
        "  * **v** - trójkąt w dół,\n",
        "  * **^** - trójkąt w górę,\n",
        "  * **\u003C** - trójkąt w lewo,\n",
        "  * **\\\u003E** - trójkąt w prawo,\n",
        "  * **p** - pięciokąt,\n",
        "  * **h** - sześciokąt."
      ],
      "id": "MUSBDvcn_G4J"
    },
    {
      "cell_type": "code",
      "execution_count": null,
      "metadata": {
        "id": "jeYEc9-E_G4J",
        "outputId": "039a731a-a0f7-4a0e-f341-8453d560cc24",
        "colab": {
          "base_uri": "https://localhost:8080/",
          "height": 430
        },
        "executionInfo": {
          "status": "ok",
          "timestamp": 1737183260005,
          "user_tz": -60,
          "elapsed": 304,
          "user": {
            "displayName": "Jacek Tabor",
            "userId": "05839850900345853405"
          }
        }
      },
      "outputs": [
        {
          "output_type": "display_data",
          "data": {
            "text/plain": [
              "\u003CFigure size 640x480 with 1 Axes\u003E"
            ],
            "image/png": "[encoded data removed]"
          },
          "metadata": {

          }
        }
      ],
      "source": [
        "import numpy as np\n",
        "\n",
        "x = np.arange(0., 5., 0.2)\n",
        "\n",
        "plt.plot(x, x, 'r--', x, x**2, 'bs', x, x**3, 'g^')\n",
        "plt.show()"
      ],
      "id": "jeYEc9-E_G4J"
    },
    {
      "cell_type": "code",
      "execution_count": null,
      "metadata": {
        "id": "--kp3Ojj_G4J",
        "outputId": "7746eb25-9da2-4581-cb66-0fe5030e2b02",
        "colab": {
          "base_uri": "https://localhost:8080/",
          "height": 435
        },
        "executionInfo": {
          "status": "ok",
          "timestamp": 1737183275246,
          "user_tz": -60,
          "elapsed": 300,
          "user": {
            "displayName": "Jacek Tabor",
            "userId": "05839850900345853405"
          }
        }
      },
      "outputs": [
        {
          "output_type": "display_data",
          "data": {
            "text/plain": [
              "\u003CFigure size 640x480 with 1 Axes\u003E"
            ],
            "image/png": "[encoded data removed]"
          },
          "metadata": {

          }
        }
      ],
      "source": [
        "x = [1,2,3,4]\n",
        "y = [20, 21, 20.5, 20.8]\n",
        "\n",
        "plt.plot(x, y, linestyle=\"dashed\", marker=\"o\", color=\"green\")\n",
        "\n",
        "# ustawienie granic osi X,\n",
        "plt.xlim(0.5,4.5)\n",
        "plt.ylim(19.8,21.2)\n",
        "\n",
        "plt.show()"
      ],
      "id": "--kp3Ojj_G4J"
    },
    {
      "cell_type": "code",
      "execution_count": null,
      "metadata": {
        "id": "xo9TRwUS_G4J",
        "outputId": "3858531c-1a19-4be1-84e4-c77c0062c56d"
      },
      "outputs": [
        {
          "data": {
            "image/png": "[encoded data removed]",
            "text/plain": [
              "\u003CFigure size 432x288 with 1 Axes\u003E"
            ]
          },
          "metadata": {
            "needs_background": "light"
          },
          "output_type": "display_data"
        }
      ],
      "source": [
        "x = np.linspace(0, 20, 1000)\n",
        "y1 = np.sin(x)\n",
        "y2 = np.cos(x)\n",
        "\n",
        "# rozmiar czcionki\n",
        "plt.rc(\"font\", size=10)\n",
        "\n",
        "# dodanie legendy\n",
        "plt.plot(x, y1, '-b', label=r'$\\sin(x)$')\n",
        "plt.plot(x, y2, '-r', label='cosine')\n",
        "plt.legend(loc='upper right') # pozycja legendy\n",
        "# plt.legend(loc='upper left', frameon=False)\n",
        "plt.ylim(-1.5, 2.0)\n",
        "\n",
        "plt.title(\"Dwa wykresy\", size=20)\n",
        "\n",
        "plt.show()"
      ],
      "id": "xo9TRwUS_G4J"
    },
    {
      "cell_type": "code",
      "execution_count": null,
      "id": "42bd2e13-2039-47ac-a84d-3e40a8906cae",
      "metadata": {
        "id": "42bd2e13-2039-47ac-a84d-3e40a8906cae",
        "outputId": "2410d70f-0c3c-4d2e-8c24-28b16104dab8"
      },
      "outputs": [
        {
          "data": {
            "image/png": "[encoded data removed]",
            "text/plain": [
              "\u003CFigure size 800x400 with 1 Axes\u003E"
            ]
          },
          "metadata": {

          },
          "output_type": "display_data"
        }
      ],
      "source": [
        "# --- Rysunki ---\n",
        "# Rysunek 1: Wykres funkcji y = x^2\n",
        "x = np.linspace(-10, 10, 100)\n",
        "y = x**2\n",
        "plt.figure(figsize=(8, 4))\n",
        "plt.plot(x, y, label=\"y = x^2\", color=\"blue\")\n",
        "plt.axhline(0, color=\"black\", linewidth=0.5, linestyle=\"--\")\n",
        "plt.axvline(0, color=\"black\", linewidth=0.5, linestyle=\"--\")\n",
        "plt.title(\"Wykres funkcji y = x^2\")\n",
        "plt.xlabel(\"x\")\n",
        "plt.ylabel(\"y\")\n",
        "plt.legend()\n",
        "plt.grid()\n",
        "plt.show()\n",
        "\n"
      ]
    },
    {
      "cell_type": "markdown",
      "id": "d3c86aea-4695-4520-b3d4-c907f9038dca",
      "metadata": {
        "id": "d3c86aea-4695-4520-b3d4-c907f9038dca"
      },
      "source": [
        "## Funkcje"
      ]
    },
    {
      "cell_type": "code",
      "execution_count": null,
      "id": "607c9fdd-33f1-4d88-af48-95d4ea1a63e9",
      "metadata": {
        "id": "607c9fdd-33f1-4d88-af48-95d4ea1a63e9",
        "outputId": "3408af63-4163-48c3-cb5e-78498cfab962"
      },
      "outputs": [
        {
          "name": "stdout",
          "output_type": "stream",
          "text": [
            "Cześć, Ania!\n",
            "Cześć, Kuba!\n"
          ]
        }
      ],
      "source": [
        "# Definicja funkcji\n",
        "def greet(name):\n",
        "    \"\"\"Funkcja wypisuje powitanie z podanym imieniem.\"\"\"\n",
        "    print(f\"Cześć, {name}!\")\n",
        "\n",
        "# Wywołanie funkcji\n",
        "greet(\"Ania\")\n",
        "greet(\"Kuba\")"
      ]
    },
    {
      "cell_type": "code",
      "execution_count": null,
      "id": "1ff6ecbc-fd52-4299-9547-1666583d1899",
      "metadata": {
        "id": "1ff6ecbc-fd52-4299-9547-1666583d1899",
        "outputId": "08e2dacc-570d-4b4f-dbd6-16859f667597"
      },
      "outputs": [
        {
          "name": "stdin",
          "output_type": "stream",
          "text": [
            "Podaj liczbę rzeczywistą, dla której chcesz obliczyć funkcję Gamma:  11.2\n"
          ]
        },
        {
          "name": "stdout",
          "output_type": "stream",
          "text": [
            "Wartość funkcji Gamma dla argumentu 11.2: 5819090.083978558\n"
          ]
        }
      ],
      "source": [
        "from scipy.special import gamma\n",
        "\n",
        "# funkcja Gamma Eulara Gamma(n)=(n-1)!\n",
        "def gamma_function():\n",
        "    \"\"\"Wczytuje liczbę rzeczywistą od użytkownika i zwraca wartość funkcji Gamma.\"\"\"\n",
        "    try:\n",
        "        # Wczytaj liczbę rzeczywistą\n",
        "        x = float(input(\"Podaj liczbę rzeczywistą, dla której chcesz obliczyć funkcję Gamma: \"))\n",
        "        # Oblicz wartość funkcji Gamma\n",
        "        result = gamma(x)\n",
        "        print(f\"Wartość funkcji Gamma dla argumentu {x}: {result}\")\n",
        "    except ValueError:\n",
        "        print(\"Proszę podać poprawną liczbę rzeczywistą.\")\n",
        "    except Exception as e:\n",
        "        print(f\"Wystąpił błąd: {e}\")\n",
        "\n",
        "# Wywołanie funkcji\n",
        "gamma_function()"
      ]
    },
    {
      "cell_type": "code",
      "execution_count": null,
      "id": "d9432b8f-d51f-403c-b3cb-753089185af4",
      "metadata": {
        "id": "d9432b8f-d51f-403c-b3cb-753089185af4",
        "outputId": "586b41ea-ea9b-4142-ca27-d802bcdb5aba"
      },
      "outputs": [
        {
          "name": "stdin",
          "output_type": "stream",
          "text": [
            "Podaj funkcję, której pochodną chcesz obliczyć (np. 'x**2 + 3*x + 5'):  cos(x**7)\n"
          ]
        },
        {
          "name": "stdout",
          "output_type": "stream",
          "text": [
            "Pochodna funkcji cos(x**7) to: -7*x**6*sin(x**7)\n"
          ]
        }
      ],
      "source": [
        "from sympy import symbols, diff, sympify\n",
        "\n",
        "def calculate_derivative():\n",
        "    \"\"\"Wczytuje funkcję od użytkownika i oblicza jej symboliczną pochodną.\"\"\"\n",
        "    try:\n",
        "        # Definiujemy zmienną symbolicznie\n",
        "        x = symbols('x')\n",
        "\n",
        "        # Wczytanie funkcji jako string\n",
        "        func_str = input(\"Podaj funkcję, której pochodną chcesz obliczyć (np. 'x**2 + 3*x + 5'): \")\n",
        "\n",
        "        # Konwersja stringa na funkcję symboliczną\n",
        "        func = sympify(func_str)\n",
        "\n",
        "        # Obliczanie pochodnej\n",
        "        derivative = diff(func, x)\n",
        "\n",
        "        # Wyświetlenie wyniku\n",
        "        print(f\"Pochodna funkcji {func} to: {derivative}\")\n",
        "    except Exception as e:\n",
        "        print(f\"Wystąpił błąd: {e}\")\n",
        "\n",
        "# Wywołanie funkcji\n",
        "calculate_derivative()\n"
      ]
    },
    {
      "cell_type": "markdown",
      "id": "50f77828-64f6-4434-9c16-fe35b186d93b",
      "metadata": {
        "id": "50f77828-64f6-4434-9c16-fe35b186d93b"
      },
      "source": [
        "## Klasy"
      ]
    },
    {
      "cell_type": "code",
      "execution_count": null,
      "id": "d0a1b877-3a11-4137-bb54-21e1daa88117",
      "metadata": {
        "id": "d0a1b877-3a11-4137-bb54-21e1daa88117",
        "outputId": "ba285413-dc5d-4719-d20a-4e2c614f3bbd"
      },
      "outputs": [
        {
          "name": "stdout",
          "output_type": "stream",
          "text": [
            "BankAccount(owner='Jan Kowalski', balance=1000.00)\n",
            "Wpłacono 500.00. Nowe saldo: 1500.00\n",
            "Wypłacono 300.00. Nowe saldo: 1200.00\n",
            "Niewystarczające środki na koncie.\n"
          ]
        }
      ],
      "source": [
        "class BankAccount:\n",
        "    def __init__(self, owner, balance=0):\n",
        "        \"\"\"\n",
        "        Inicjalizuje konto bankowe z podanym właścicielem i początkowym saldem.\n",
        "        :param owner: Imię właściciela konta.\n",
        "        :param balance: Początkowe saldo (domyślnie 0).\n",
        "        \"\"\"\n",
        "        self.owner = owner\n",
        "        self.balance = balance\n",
        "\n",
        "    def deposit(self, amount):\n",
        "        \"\"\"\n",
        "        Dodaje środki do konta.\n",
        "        :param amount: Kwota do wpłacenia.\n",
        "        \"\"\"\n",
        "        if amount \u003C= 0:\n",
        "            print(\"Kwota wpłaty musi być większa od zera.\")\n",
        "        else:\n",
        "            self.balance += amount\n",
        "            print(f\"Wpłacono {amount:.2f}. Nowe saldo: {self.balance:.2f}\")\n",
        "\n",
        "    def withdraw(self, amount):\n",
        "        \"\"\"\n",
        "        Pobiera środki z konta, jeśli saldo jest wystarczające.\n",
        "        :param amount: Kwota do wypłacenia.\n",
        "        \"\"\"\n",
        "        if amount \u003E self.balance:\n",
        "            print(\"Niewystarczające środki na koncie.\")\n",
        "        elif amount \u003C= 0:\n",
        "            print(\"Kwota wypłaty musi być większa od zera.\")\n",
        "        else:\n",
        "            self.balance -= amount\n",
        "            print(f\"Wypłacono {amount:.2f}. Nowe saldo: {self.balance:.2f}\")\n",
        "\n",
        "    def __repr__(self):\n",
        "        \"\"\"\n",
        "        Zwraca reprezentację tekstową konta.\n",
        "        \"\"\"\n",
        "        return f\"BankAccount(owner='{self.owner}', balance={self.balance:.2f})\"\n",
        "\n",
        "\n",
        "# Przykład użycia\n",
        "konto = BankAccount(\"Jan Kowalski\", 1000)\n",
        "print(konto)\n",
        "\n",
        "konto.deposit(500)\n",
        "konto.withdraw(300)\n",
        "konto.withdraw(1500)  # Próba wypłaty większej niż saldo\n"
      ]
    },
    {
      "cell_type": "markdown",
      "id": "f01002bf-1782-425b-84c5-3d427c7d4272",
      "metadata": {
        "id": "f01002bf-1782-425b-84c5-3d427c7d4272"
      },
      "source": [
        "## ZADANIE\n",
        "\n",
        "### Stwórz klasę samochód, która pozwala na określenie koloru, roku produkcji, ilości kół (domyślnie 4), prędkości, zmniejszenia, zwiększenia prędkości\n"
      ]
    },
    {
      "cell_type": "markdown",
      "id": "63f49762-b81b-4c94-9103-dcc59f5cf41c",
      "metadata": {
        "id": "63f49762-b81b-4c94-9103-dcc59f5cf41c"
      },
      "source": [
        "poniżej definiuję klasę, która koduje liczby rzeczywiste jako część całkowita i reszta"
      ]
    },
    {
      "cell_type": "code",
      "execution_count": null,
      "id": "181f0139-d040-430a-9f47-778fa93c31b2",
      "metadata": {
        "id": "181f0139-d040-430a-9f47-778fa93c31b2",
        "outputId": "cecc2091-20ba-4527-813c-dcff78667f83"
      },
      "outputs": [
        {
          "name": "stdout",
          "output_type": "stream",
          "text": [
            "a: RealNumber(whole=3, fraction=0.7500000000)\n",
            "b: RealNumber(whole=4, fraction=0.2500000000)\n",
            "c: RealNumber(whole=2, fraction=0.0000000000)\n",
            "a + b: RealNumber(whole=8, fraction=0.0000000000)\n",
            "a - c: RealNumber(whole=1, fraction=0.7500000000)\n",
            "a * b: RealNumber(whole=15, fraction=0.9375000000)\n",
            "a / b: RealNumber(whole=0, fraction=0.8823529412)\n",
            "a jako float: 3.75\n",
            "b jako int: 4\n"
          ]
        }
      ],
      "source": [
        "class RealNumber:\n",
        "    def __init__(self, whole: int, fraction: float = 0.0):\n",
        "        if not (0 \u003C= fraction \u003C 1):\n",
        "            raise ValueError(\"Fractional part must be in the range [0, 1).\")\n",
        "        self.whole = whole\n",
        "        self.fraction = fraction\n",
        "\n",
        "    @classmethod\n",
        "    def from_float(cls, value: float):\n",
        "        whole = int(value)\n",
        "        fraction = value - whole\n",
        "        return cls(whole, fraction)\n",
        "\n",
        "    @classmethod\n",
        "    def from_int(cls, value: int):\n",
        "        return cls(value, 0.0)\n",
        "\n",
        "    def to_float(self):\n",
        "        return self.whole + self.fraction\n",
        "\n",
        "    def to_int(self):\n",
        "        return self.whole  # Truncate the fractional part\n",
        "\n",
        "    def __add__(self, other):\n",
        "        if isinstance(other, RealNumber):\n",
        "            result = self.to_float() + other.to_float()\n",
        "        else:\n",
        "            result = self.to_float() + float(other)\n",
        "        return RealNumber.from_float(result)\n",
        "\n",
        "    def __sub__(self, other):\n",
        "        if isinstance(other, RealNumber):\n",
        "            result = self.to_float() - other.to_float()\n",
        "        else:\n",
        "            result = self.to_float() - float(other)\n",
        "        return RealNumber.from_float(result)\n",
        "\n",
        "    def __mul__(self, other):\n",
        "        if isinstance(other, RealNumber):\n",
        "            result = self.to_float() * other.to_float()\n",
        "        else:\n",
        "            result = self.to_float() * float(other)\n",
        "        return RealNumber.from_float(result)\n",
        "\n",
        "    def __truediv__(self, other):\n",
        "        if isinstance(other, RealNumber):\n",
        "            if other.to_float() == 0:\n",
        "                raise ZeroDivisionError(\"Division by zero is not allowed.\")\n",
        "            result = self.to_float() / other.to_float()\n",
        "        else:\n",
        "            if float(other) == 0:\n",
        "                raise ZeroDivisionError(\"Division by zero is not allowed.\")\n",
        "            result = self.to_float() / float(other)\n",
        "        return RealNumber.from_float(result)\n",
        "\n",
        "    def __repr__(self):\n",
        "        return f\"RealNumber(whole={self.whole}, fraction={self.fraction:.10f})\"\n",
        "\n",
        "# Przykłady użycia\n",
        "a = RealNumber(3, 0.75)         # Reprezentacja liczby 3.75\n",
        "b = RealNumber.from_float(4.25)  # Utworzenie z float\n",
        "c = RealNumber.from_int(2)       # Utworzenie z int\n",
        "\n",
        "print(\"a:\", a)\n",
        "print(\"b:\", b)\n",
        "print(\"c:\", c)\n",
        "print(\"a + b:\", a + b)\n",
        "print(\"a - c:\", a - c)\n",
        "print(\"a * b:\", a * b)\n",
        "print(\"a / b:\", a / b)\n",
        "print(\"a jako float:\", a.to_float())\n",
        "print(\"b jako int:\", b.to_int())\n"
      ]
    },
    {
      "cell_type": "markdown",
      "id": "0e5253b3-f7d1-4728-8531-c5efa0a574a4",
      "metadata": {
        "id": "0e5253b3-f7d1-4728-8531-c5efa0a574a4"
      },
      "source": [
        "## ZADANIE\n",
        "\n",
        "### zmienić powyższą klasę, by\n",
        "* dodawanie było wykonywane przez $(m1+r1)+(m2+r2)=m1+m2+[r1+r2]$, gdzie jeżeli $r1+r2\u003E1$, to zapisujemy $1+(r1+r2-1)$ i $1$\n",
        "dodajemy do części całkowitej\n",
        "* analogicznie odejmowanie\n",
        "* mnożenie było wykonywane przez $(m1+r1)*(m2+r2)=m1*m2+[m1*r2+m2*r1+r1*r2]$, gdzie z tej drugiej\n",
        "cześci wyciągamy część całkowitą (dodajemy do m1*m2) i resztę\n",
        "\n"
      ]
    },
    {
      "cell_type": "code",
      "execution_count": null,
      "id": "cf3cfbc1-cd9d-4091-8fed-db2e1fa365e8",
      "metadata": {
        "id": "cf3cfbc1-cd9d-4091-8fed-db2e1fa365e8"
      },
      "outputs": [],
      "source": []
    }
  ],
  "metadata": {
    "kernelspec": {
      "display_name": "Python [conda env:base] *",
      "language": "python",
      "name": "conda-base-py"
    },
    "language_info": {
      "codemirror_mode": {
        "name": "ipython",
        "version": 3
      },
      "file_extension": ".py",
      "mimetype": "text/x-python",
      "name": "python",
      "nbconvert_exporter": "python",
      "pygments_lexer": "ipython3",
      "version": "3.12.7"
    },
    "colab": {
      "provenance": []
    }
  },
  "nbformat": 4,
  "nbformat_minor": 5
}