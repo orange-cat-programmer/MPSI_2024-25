{
 "cells": [
  {
   "cell_type": "markdown",
   "metadata": {},
   "source": [
    "## Lab 4: Hello Python!\n",
    "\n",
    "Spis treści:\n",
    "1. Klasy"
   ]
  },
  {
   "cell_type": "code",
   "execution_count": 13,
   "metadata": {},
   "outputs": [],
   "source": [
    "class Person():\n",
    "    # this method is called constructor\n",
    "    def __init__(self, name: str, age: int, interests, favourite_animal=\"dog\") -> None: # note that we do not put any type constraints on interest argument\n",
    "        self.name = name\n",
    "        self.age = age\n",
    "        self.interests = interests\n",
    "        self.favourite_animal = favourite_animal\n",
    "\n",
    "    def return_age(self):\n",
    "        return self.age\n",
    "    \n",
    "    def introduction(self):\n",
    "        greeting = \"Hello, my name is \" + self.name + \". I work at the JU. \"\n",
    "        greeting = greeting + \"\\t My fav animal is \"\n",
    "        greeting += self.favourite_animal\n",
    "        greeting += \".\\nFrom new line: And I'm \" + str(self.return_age()) + \". \"\n",
    "        greeting += f\"Again I'm {self.return_age()}\" # no need of str here\n",
    "        return greeting"
   ]
  },
  {
   "cell_type": "code",
   "execution_count": 14,
   "metadata": {},
   "outputs": [],
   "source": [
    "magd = Person(\"magda\", 25, [\"bike\", \"ml\", \"poker\"], \"octopus\")"
   ]
  },
  {
   "cell_type": "code",
   "execution_count": 15,
   "metadata": {},
   "outputs": [
    {
     "name": "stdout",
     "output_type": "stream",
     "text": [
      "Hello, my name is magda. I work at the JU. \t My fav animal is octopus.\n",
      "From new line: And I'm 25. Again I'm 25\n"
     ]
    }
   ],
   "source": [
    "print(magd.introduction())"
   ]
  },
  {
   "cell_type": "code",
   "execution_count": 16,
   "metadata": {},
   "outputs": [
    {
     "name": "stdout",
     "output_type": "stream",
     "text": [
      "My interests are: gaming, hiking.\n"
     ]
    }
   ],
   "source": [
    "def list_interests(self):\n",
    "    return f\"My interests are: {', '.join(self.interests)}.\"\n",
    "\n",
    "Person.list_interests = list_interests  # Dodanie metody do klasy\n",
    "p1 = Person(\"Bob\", 30, [\"gaming\", \"hiking\"])\n",
    "print(p1.list_interests())\n"
   ]
  },
  {
   "cell_type": "code",
   "execution_count": 17,
   "metadata": {},
   "outputs": [
    {
     "name": "stdout",
     "output_type": "stream",
     "text": [
      "dog\n"
     ]
    }
   ],
   "source": [
    "p2 = Person(\"Charlie\", 28, [\"coding\", \"music\"])\n",
    "print(p2.favourite_animal)  # Co zostanie wyświetlone?\n"
   ]
  },
  {
   "cell_type": "code",
   "execution_count": 12,
   "metadata": {},
   "outputs": [
    {
     "name": "stdout",
     "output_type": "stream",
     "text": [
      "Hello, my name is Amanda. I work at the JU. \t My fav animal is dog.\n",
      "From new line: And I'm 40. Again I'm 40\n"
     ]
    }
   ],
   "source": [
    "def increase_age(self, years: int):\n",
    "    self.age += years\n",
    "\n",
    "Person.increase_age = increase_age\n",
    "\n",
    "p3 = Person(\"Amanda\", 35, [\"travel\", \"photography\"])\n",
    "p3.increase_age(5)\n",
    "print(p3.introduction())  # Sprawdź, czy wiek się zmienił\n"
   ]
  },
  {
   "cell_type": "markdown",
   "metadata": {},
   "source": [
    "Zad.1. Stwórz klasę `Licznik`, która ma atrybut wartość (domyślnie 0) oraz metody `zwieksz()` i `zmniejsz()`, które zwiększają lub zmniejszają wartość o 1. Dodaj metodę `pobierz_wartość()`, zwracającą aktualną wartość."
   ]
  },
  {
   "cell_type": "code",
   "execution_count": 6,
   "metadata": {
    "ExecuteTime": {
     "end_time": "2025-03-13T15:01:47.565761Z",
     "start_time": "2025-03-13T15:01:47.559754Z"
    }
   },
   "outputs": [
    {
     "name": "stdout",
     "output_type": "stream",
     "text": [
      "1\n",
      "0\n"
     ]
    }
   ],
   "source": [
    "class Counter():\n",
    "    value = 0\n",
    "    def __init__(self, value=0):\n",
    "        self.value = value\n",
    "    def increase(self):\n",
    "        self.value += 1\n",
    "    def decrease(self):\n",
    "        self.value -= 1\n",
    "    def print_value(self):\n",
    "        print(self.value)\n",
    "kitty = Counter(1)\n",
    "kitty.print_value()\n",
    "print(Counter.value)"
   ]
  },
  {
   "cell_type": "markdown",
   "metadata": {},
   "source": [
    "Zad.2. Stwórz klasy `Karta` (przechowującą kolor i wartość), `Talia` (52 karty, możliwość tasowania) oraz `Gracz` (ręka z 5 kartami). Napisz metodę do sprawdzania, czy gracz ma pokera, fulla lub parę."
   ]
  },
  {
   "cell_type": "code",
   "execution_count": null,
   "metadata": {},
   "outputs": [],
   "source": []
  },
  {
   "cell_type": "markdown",
   "metadata": {},
   "source": [
    "Zad. 3. Zaprojektuj klasę `Zadanie` (z priorytetem, nazwą i statusem), a następnie klasę `KolejkaZadan`, która pozwala dodawać, usuwać i pobierać zadanie o najwyższym priorytecie."
   ]
  },
  {
   "cell_type": "code",
   "execution_count": 8,
   "metadata": {
    "ExecuteTime": {
     "end_time": "2025-03-13T15:23:25.690391Z",
     "start_time": "2025-03-13T15:23:25.675387Z"
    }
   },
   "outputs": [],
   "source": [
    "class Task():\n",
    "    def __init__(self, priority, name, status):\n",
    "        self.priority = priority \n",
    "        self.name = name\n",
    "        self.status = status\n",
    "    \n",
    "class TaskManager():\n",
    "    def __init__(self):\n",
    "        self.tasks = []\n",
    "    def add(self, priority, name, status):\n",
    "        task = Task(priority, name, status)\n",
    "        self.tasks.append(task)\n",
    "    def delete(self, name):\n",
    "        for task in self.tasks:\n",
    "            if task.name == name:\n",
    "                self.tasks.remove(task)\n",
    "    def highest_priority(self):\n",
    "        return max(self.tasks, key=lambda task: task.priority)\n",
    "        \n",
    "    "
   ]
  },
  {
   "cell_type": "markdown",
   "metadata": {},
   "source": [
    "Zad. 4. Zaimplementuj klasę `PionekSzachowy` z atrybutami koloru i pozycji (np. \"E2\"). Dodaj metodę `mozliwe_ruchy()`, zwracającą listę dostępnych ruchów zgodnych z zasadami szachów."
   ]
  },
  {
   "cell_type": "code",
   "execution_count": null,
   "metadata": {},
   "outputs": [],
   "source": [
    "class Pawn():\n",
    "    def __init__(self, colour, position)\n",
    "        self.colour = colour\n",
    "        self.position = position\n",
    "    def possible_moves(self):\n",
    "        return "
   ]
  },
  {
   "cell_type": "markdown",
   "metadata": {},
   "source": [
    "Zad. 5. Napisz klasę `Proces` (id, użycie CPU, stan – aktywne, zatrzymane, zakończone). Następnie klasę `MenadzerProcesow`, który pozwala na tworzenie, usuwanie i monitorowanie procesów."
   ]
  },
  {
   "cell_type": "code",
   "execution_count": 9,
   "metadata": {
    "ExecuteTime": {
     "end_time": "2025-03-13T15:26:04.678799Z",
     "start_time": "2025-03-13T15:26:04.662794Z"
    }
   },
   "outputs": [],
   "source": [
    "class Proces():\n",
    "    def __init__(self, id, cpu, stan):\n",
    "        self.id = id \n",
    "        self.cpu = cpu\n",
    "        self.stan = stan\n",
    "    \n",
    "class Menadzer_Procesow():\n",
    "    def __init__(self):\n",
    "        self.procesy = []\n",
    "    \n",
    "    def add_process(self, id, cpu, stan):\n",
    "        p = Proces(id, cpu, stan)\n",
    "        self.procesy.append(p)\n",
    "    \n",
    "    def delete_process(self, id):\n",
    "        self.procesy = [p for p in self.procesy if p.id == id]\n",
    "    \n",
    "    def print_process(self, id):\n",
    "        for p in self.procesy:\n",
    "            if p.id == id:\n",
    "                print(p.id, end=' ')\n",
    "                print(p.cpu, end=' ')\n",
    "                print(p.stan)\n",
    "        \n",
    "        \n",
    "    "
   ]
  },
  {
   "cell_type": "markdown",
   "metadata": {},
   "source": [
    "Zad. 6. Dana jest klasa `Produkt`, która przechowuje informacje o nazwie i cenie produktu. Obecnie oblicza cenę końcową z podatkiem VAT (23%).\n",
    "\n",
    "1. Zmodyfikuj metodę `oblicz_cene_z_vat()`, aby obsługiwała różne stawki VAT – stawka powinna być podawana jako argument.\n",
    "2. Dodaj nową metodę `rabat()`, która obniży cenę o podany procent."
   ]
  },
  {
   "cell_type": "code",
   "execution_count": null,
   "metadata": {},
   "outputs": [],
   "source": [
    "class Produkt:\n",
    "    def __init__(self, nazwa: str, cena: float):\n",
    "        self.nazwa = nazwa\n",
    "        self.cena = cena\n",
    "\n",
    "    def oblicz_cene_z_vat(self, stawka: float) -> float:\n",
    "        return self.cena * float  # Domyślnie VAT 23%\n",
    "    def rabat(self, procent):\n",
    "        self.cena = self.cena * (100-procent)/100\n",
    "    \n",
    "# your code"
   ]
  },
  {
   "cell_type": "markdown",
   "metadata": {},
   "source": [
    "Zad. 7. Napisz klasę `Point` wraz z potrzebnymi metodami (skorzystaj z poniższego szablonu - uzupełni brakujące definicje). Punkty są traktowane jak wektory zaczepione w początku układu współrzędnych, o końcu w położeniu (x, y). Przedstaw działanie poniższej klasy.\n",
    "\n"
   ]
  },
  {
   "cell_type": "code",
   "execution_count": null,
   "metadata": {},
   "outputs": [],
   "source": [
    "class Point:\n",
    "    \"\"\"Klasa reprezentująca punkty na płaszczyźnie.\"\"\"\n",
    "\n",
    "    def __init__(self, x=0, y=0):  # konstuktor\n",
    "        self.x = x\n",
    "        self.y = y\n",
    "        \n",
    "    def __str__(self):          # zwraca string \"(x, y)\"\n",
    "        return f\"({self.x}, {self.y})\"\n",
    "    def __repr__(self):             # zwraca string \"Point(x, y)\"\n",
    "        \"\"\"Reprezentacja punktu.\"\"\"\n",
    "        return \"Point(%s, %s)\" % (self.x, self.y)        \n",
    "    \n",
    "    def __eq__(self, other): pass   # obsługa point1 == point2\n",
    "        \n",
    "    def __ne__(self, other):        # obsługa point1 != point2\n",
    "        return not self == other\n",
    "    \n",
    "    # Punkty jako wektory 2D.\n",
    "    def __add__(self, other):\n",
    "        result = Point(self.x + other.x, self.y + other.y)\n",
    "        return result\n",
    "    def __sub__(self, other):\n",
    "        result = Point(self.x - other.x, self.y - other.y)\n",
    "        return result\n",
    "    def __mul__(self, other):\n",
    "        return (self.x*other.x) + (self.y*other.y) \n",
    "    \n",
    "    def cross(self, other):         \n",
    "        return self.x * other.y - self.y * other.x\n",
    "    \n",
    "    def length(self):\n",
    "        return math.sqrt(self.x**2 + self.y**2)\n",
    "\n",
    "\n",
    "# your code"
   ]
  }
 ],
 "metadata": {
  "kernelspec": {
   "display_name": "ml",
   "language": "python",
   "name": "python3"
  },
  "language_info": {
   "codemirror_mode": {
    "name": "ipython",
    "version": 3
   },
   "file_extension": ".py",
   "mimetype": "text/x-python",
   "name": "python",
   "nbconvert_exporter": "python",
   "pygments_lexer": "ipython3",
   "version": "3.10.13"
  }
 },
 "nbformat": 4,
 "nbformat_minor": 2
}
