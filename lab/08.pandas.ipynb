{
 "cells": [
  {
   "cell_type": "markdown",
   "metadata": {},
   "source": [
    "## Lab 8: pandas "
   ]
  },
  {
   "cell_type": "markdown",
   "metadata": {},
   "source": [
    "Zad. 1. Dany jest zbiór danych `experiment_results.csv`, który zawiera wyniki eksperymentów. Wczytaj dane do `DataFrame` i wykonaj następujące operacje:\n",
    "\n",
    "1. Sprawdź, ile jest brakujących wartości w każdej kolumnie i uzupełnij je odpowiednią metodą (np. średnią lub medianą, jeśli to wartości liczbowe).\n",
    "2. Usuń duplikaty.\n",
    "3. Przekształć kolumnę `timestamp` na format `datetime` i utwórz nową kolumnę `hour`, zawierającą tylko godzinę przeprowadzenia eksperymentu.\n",
    "4. Zapisz oczyszczony zbiór danych do nowego pliku CSV."
   ]
  },
  {
   "cell_type": "code",
   "execution_count": 12,
   "metadata": {
    "ExecuteTime": {
     "end_time": "2025-04-09T23:11:53.886765Z",
     "start_time": "2025-04-09T23:11:53.847765Z"
    }
   },
   "outputs": [],
   "source": [
    "import pandas as pd\n",
    "\n",
    "df = pd.read_csv('pandas_data/experiment_results.csv')\n",
    "null_counts = df.isnull().sum()\n",
    "def fill_numeric(col):\n",
    "    if col.dtype in ['float64', 'int64']:\n",
    "        return col.fillna(col.mean())\n",
    "    else:\n",
    "        return col\n",
    "df = df.apply(fill_numeric, axis=0)\n",
    "df = df.drop_duplicates()\n",
    "df['timestamp'] = pd.to_datetime(df['timestamp'])\n",
    "df['hour'] = df['timestamp'].apply(lambda x: x.hour)\n",
    "\n",
    "df.to_csv('pandas_data/cleaned_experiment_results.csv')\n"
   ]
  },
  {
   "cell_type": "markdown",
   "metadata": {},
   "source": [
    "Zad. 2. Dany jest `DataFrame` `df` z wynikami testów różnych algorytmów. Każdy wiersz reprezentuje wynik jednego uruchomienia modelu i zawiera kolumny:\n",
    "\n",
    "- `algorithm`: nazwa algorytmu\n",
    "\n",
    "- `accuracy`: dokładność\n",
    "\n",
    "- `precision`: swoistość\n",
    "\n",
    "- `recall`: czułość\n",
    "\n",
    "Oblicz podstawowe statystyki opisowe dla każdej metryki (accuracy, precision, recall). Porównaj wyniki dla różnych algorytmów odpowiadając na pytania:\n",
    "- Który algorytm ma najwyższą średnią dokładność?\n",
    "- Który algorytm ma najmniejszą zmienność wyników (odchylenie standardowe)?"
   ]
  },
  {
   "cell_type": "code",
   "execution_count": 23,
   "metadata": {
    "ExecuteTime": {
     "end_time": "2025-04-09T23:23:47.382126Z",
     "start_time": "2025-04-09T23:23:47.372607Z"
    }
   },
   "outputs": [
    {
     "name": "stdout",
     "output_type": "stream",
     "text": [
      "               accuracy  precision    recall\n",
      "algorithm                                   \n",
      "KNN            0.847976   0.809090  0.733719\n",
      "NeuralNetwork  0.838535   0.797164  0.751965\n",
      "RandomForest   0.849316   0.791740  0.721457\n",
      "SVM            0.854050   0.792475  0.721011\n",
      "SVM\n",
      "NeuralNetwork\n"
     ]
    }
   ],
   "source": [
    "import pandas as pd\n",
    "df = pd.read_csv('pandas_data/test_results.csv')\n",
    "alg = df.groupby('algorithm').mean()\n",
    "best_accuracy = alg.loc[:, 'accuracy'].idxmax()\n",
    "smallest_score_variance = alg.apply(lambda row: row.var(), axis=1).idxmin()\n",
    "print(alg)\n",
    "print(best_accuracy)\n",
    "print(smallest_score_variance)"
   ]
  },
  {
   "cell_type": "markdown",
   "metadata": {},
   "source": [
    "Zad. 3. Masz dane o wydajności modeli ML w różnych dniach (`performance_logs.csv`) z kolumnami:\n",
    "\n",
    "- `date`: data przeprowadzenia testu\n",
    "\n",
    "- `model_name`: nazwa modelu\n",
    "\n",
    "- `accuracy`: dokładność\n",
    "\n",
    "Pogrupuj dane po miesiącach i oblicz średnią dokładność dla każdego miesiąca. Znajdź model, którego dokładność zmieniała się najbardziej w czasie (największa różnica między max i min). Zilustruj accuracy wybranego modelu na wykresie.\n",
    "\n"
   ]
  },
  {
   "cell_type": "code",
   "execution_count": 45,
   "metadata": {
    "ExecuteTime": {
     "end_time": "2025-04-10T00:50:50.165544Z",
     "start_time": "2025-04-10T00:50:50.064432Z"
    }
   },
   "outputs": [
    {
     "name": "stdout",
     "output_type": "stream",
     "text": [
      "       average_accuracy\n",
      "month                  \n",
      "01             0.882904\n",
      "02             0.896853\n",
      "03             0.863672\n",
      "04             0.872242\n",
      "05             0.856888\n",
      "06             0.869832\n",
      "07             0.848410\n",
      "BERT\n",
      "month\n",
      "01    0.875556\n",
      "02    0.918427\n",
      "03    0.895449\n",
      "04    0.885669\n",
      "05    0.833640\n",
      "06    0.880157\n",
      "07    0.865864\n",
      "Name: accuracy, dtype: float64\n"
     ]
    },
    {
     "data": {
      "text/plain": "<matplotlib.collections.PathCollection at 0x1aa88405930>"
     },
     "execution_count": 45,
     "metadata": {},
     "output_type": "execute_result"
    },
    {
     "data": {
      "text/plain": "<Figure size 640x480 with 1 Axes>",
      "image/png": "[encoded data removed]"
     },
     "metadata": {},
     "output_type": "display_data"
    }
   ],
   "source": [
    "import pandas as pd\n",
    "import matplotlib.pyplot as plt\n",
    "\n",
    "df = pd.read_csv('pandas_data/performance_logs.csv')\n",
    "df['month'] = df['date'].apply(lambda x: x.split(\"-\")[1])\n",
    "monthly_accuracy = df.groupby('month').accuracy.mean()\n",
    "monthly_accuracy = monthly_accuracy.reset_index()\n",
    "monthly_accuracy.set_index('month', inplace=True)\n",
    "monthly_accuracy.columns = ['average_accuracy']\n",
    "print(monthly_accuracy)\n",
    "\n",
    "def amplitude(month_df):\n",
    "    aid = month_df.groupby('month').accuracy.mean()\n",
    "    return aid.max() - aid.min()\n",
    "\n",
    "group_by_model = df.groupby('model_name').apply(amplitude, include_groups=False).idxmax()\n",
    "print(group_by_model)\n",
    "\n",
    "months = sorted(df['month'].unique().tolist(), key=lambda x: int(x[1]))\n",
    "print(df[df['model_name'] == 'BERT'].groupby('month').accuracy.mean())\n",
    "plt.scatter(months, df[df['model_name'] == 'BERT'].groupby('month').accuracy.mean().tolist())\n"
   ]
  },
  {
   "cell_type": "markdown",
   "metadata": {},
   "source": [
    "Zad. 4. Masz dwa pliki CSV: `experiments_2024.csv` (zawierający wyniki eksperymentów przeprowadzonych w 2024 roku) i `experiments_metadata.csv` (zawierający dodatkowe informacje o eksperymentach, np. typ danych wejściowych, wersję modelu itp.)\n",
    "\n",
    "Wczytaj oba pliki i połącz je na podstawie kolumny `experiment_id`. Znajdź eksperymenty, w których użyto wersji modelu v2.0, i oblicz średnią dokładność(accuracy) tych eksperymentów. Sprawdź, czy istnieje związek między typem danych wejściowych a dokładnością modeli."
   ]
  },
  {
   "cell_type": "code",
   "execution_count": 66,
   "metadata": {
    "ExecuteTime": {
     "end_time": "2025-04-10T01:12:26.337559Z",
     "start_time": "2025-04-10T01:12:26.308528Z"
    }
   },
   "outputs": [
    {
     "name": "stdout",
     "output_type": "stream",
     "text": [
      "0.8281110637894666\n",
      "0.8281110637894666\n",
      "\n",
      "\n",
      "data_type  model_version\n",
      "audio      v1.0             0.876083\n",
      "           v1.5             0.823796\n",
      "           v2.0             0.838949\n",
      "           v2.5             0.824943\n",
      "image      v1.0             0.829559\n",
      "           v1.5             0.881473\n",
      "           v2.0             0.820563\n",
      "           v2.5             0.859327\n",
      "tabular    v1.0             0.838227\n",
      "           v1.5             0.835450\n",
      "           v2.0             0.842895\n",
      "           v2.5             0.860026\n",
      "text       v1.0             0.835000\n",
      "           v1.5             0.878315\n",
      "           v2.0             0.808806\n",
      "           v2.5             0.845113\n",
      "Name: accuracy, dtype: float64\n"
     ]
    }
   ],
   "source": [
    "import pandas as pd\n",
    "\n",
    "df = pd.read_csv('pandas_data/experiments_2024.csv')\n",
    "df_meta = pd.read_csv('pandas_data/experiments_metadata.csv')\n",
    "\n",
    "df_combined = pd.concat([df, df_meta.drop(['experiment_id'], axis=1)], axis=1)\n",
    "df_combined.set_index('experiment_id', inplace=True)\n",
    "print(df_combined.groupby('model_version').accuracy.mean().loc['v2.0'])\n",
    "print(df_combined[df_combined['model_version'] == 'v2.0']['accuracy'].mean())\n",
    "print('\\n')\n",
    "print(df_combined.groupby(['data_type', 'model_version']).accuracy.mean())"
   ]
  }
 ],
 "metadata": {
  "kernelspec": {
   "display_name": "ml",
   "language": "python",
   "name": "python3"
  },
  "language_info": {
   "codemirror_mode": {
    "name": "ipython",
    "version": 3
   },
   "file_extension": ".py",
   "mimetype": "text/x-python",
   "name": "python",
   "nbconvert_exporter": "python",
   "pygments_lexer": "ipython3",
   "version": "3.10.13"
  }
 },
 "nbformat": 4,
 "nbformat_minor": 2
}
