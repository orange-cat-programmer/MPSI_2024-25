{
 "cells": [
  {
   "cell_type": "markdown",
   "metadata": {},
   "source": [
    "## Lab 3: Hello Python!\n",
    "\n",
    "Spis treści:\n",
    "1. Funkcje cd"
   ]
  },
  {
   "cell_type": "markdown",
   "metadata": {},
   "source": [
    "Zad.1. Napisz funkcję, która oblicza sumę liczb od 1 do $n$ na dwa różne sposoby.\n",
    "Jakie są inne sposoby obliczenia takiej sumy? \n",
    "Która z zaimplementowanych metod jest najszybsza? Która zużywa najmniej pamięci? Jakie są zalety i wady każdego podejścia?\n",
    "Jak upewnić się, że funkcja zwraca poprawne wyniki?"
   ]
  },
  {
   "cell_type": "code",
   "execution_count": 72,
   "metadata": {
    "ExecuteTime": {
     "end_time": "2025-03-13T10:20:52.635226Z",
     "start_time": "2025-03-13T10:20:52.628226Z"
    }
   },
   "outputs": [],
   "source": [
    "def sum_1(n: int) -> int:\n",
    "    return n + sum_1(n - 1)\n",
    "def sum_2(n: int) -> int:\n",
    "    result = 0\n",
    "    for i in range(2, n + 1):\n",
    "        result += i\n",
    "    return result\n",
    "def sum_3(n: int) -> int:\n",
    "    return (n**2 + n)//2"
   ]
  },
  {
   "cell_type": "markdown",
   "metadata": {},
   "source": [
    "Zad.2. Napisz funkcję, która dla podanych trzech parametrów: $n$ (numer elementu ciągu), $a_1$ (wartość pierwszego elementu ciągu - domyślnie 1), $q$ (wartość ilorazu ciągu geometrycznego - domyślnie 2) zwróci $n$-ty element ciągu geometrycznego."
   ]
  },
  {
   "cell_type": "code",
   "execution_count": 73,
   "metadata": {
    "ExecuteTime": {
     "end_time": "2025-03-13T10:20:54.040043Z",
     "start_time": "2025-03-13T10:20:54.027128Z"
    }
   },
   "outputs": [],
   "source": [
    "def geo_val(n:int, a_1:float = 1, q:float = 2):\n",
    "    return a_1 * (q**(n-1))"
   ]
  },
  {
   "cell_type": "markdown",
   "metadata": {},
   "source": [
    "Zad.3. Napisz funkcję `oblicz_pole(figura, *wymiary)`, która przyjmuje nazwę figury (\"kwadrat\", \"prostokąt\", \"koło\") oraz jej wymiary. Funkcja powinna zwracać pole danej figury.\n",
    "Jakie wymiary są wymagane dla każdej figury?\n",
    "Co jeśli użytkownik poda zbyt wiele lub za mało parametrów?\n",
    "Czy dopuszczamy wartości ujemne? Jak wtedy powinna zachować się funkcja?\n",
    "\n",
    "Jak zmodyfikować tą funkcję, aby zwracała róznież obwód figury, jeśli użytkownik tego zażąda?"
   ]
  },
  {
   "cell_type": "code",
   "execution_count": 74,
   "metadata": {
    "ExecuteTime": {
     "end_time": "2025-03-13T10:20:55.369344Z",
     "start_time": "2025-03-13T10:20:55.351343Z"
    }
   },
   "outputs": [],
   "source": [
    "import numpy as np\n",
    "pi = np.pi\n",
    "def oblicz_pole(figura, *wymiary):\n",
    "    match figura:\n",
    "        case \"square\":\n",
    "            if len(wymiary) != 1:\n",
    "                raise ValueError(\"Incorrect number of dimensions for a square\")\n",
    "            else:\n",
    "                return wymiary[0]**2\n",
    "            \n",
    "        case \"rectangle\":\n",
    "            if len(wymiary) != 2:\n",
    "                raise ValueError(\"Incorrect number of dimensions for a rectangle\")\n",
    "            else:\n",
    "                return wymiary[0] * wymiary[1]\n",
    "            \n",
    "        \n",
    "        case \"circle\":\n",
    "            if len(wymiary) != 1:\n",
    "                raise ValueError(\"Incorrect numer of dimensions for a circle\")\n",
    "            else:\n",
    "                return (wymiary[0]**2) * pi\n",
    "        case _:\n",
    "            raise ValueError(\"Wrong name of figure\")"
   ]
  },
  {
   "cell_type": "markdown",
   "metadata": {},
   "source": [
    "Zad. 4. Napisz funkcję `czy_liczba_pierwsza(n)`, która sprawdza, czy liczba $n$ jest liczbą pierwszą. Funkcja powinna zwracać `True`, jeśli liczba jest pierwsza, lub `False` w przeciwnym przypadku."
   ]
  },
  {
   "cell_type": "code",
   "execution_count": 75,
   "metadata": {
    "ExecuteTime": {
     "end_time": "2025-03-13T10:20:56.446912Z",
     "start_time": "2025-03-13T10:20:56.432913Z"
    }
   },
   "outputs": [],
   "source": [
    "def is_prime(n: int) -> bool:\n",
    "    if n <= 1:\n",
    "        return False\n",
    "    itr = 2\n",
    "    while itr*itr <= n:\n",
    "        if n % itr == 0:\n",
    "            return False\n",
    "    return True\n",
    "    "
   ]
  },
  {
   "cell_type": "markdown",
   "metadata": {},
   "source": [
    "Zad. 5. Napisz funkcję, która przyjmuje listę liczb i zwraca wszystkie możliwe permutacje tej listy. Nie używaj itertools.permutations."
   ]
  },
  {
   "cell_type": "code",
   "execution_count": 76,
   "metadata": {
    "ExecuteTime": {
     "end_time": "2025-03-13T10:20:57.617390Z",
     "start_time": "2025-03-13T10:20:57.600391Z"
    }
   },
   "outputs": [],
   "source": [
    "def permutations(a: list[int]) -> list[list[int]]:\n",
    "    s = set(a)\n",
    "    \n",
    "    "
   ]
  },
  {
   "cell_type": "markdown",
   "metadata": {},
   "source": [
    "Zad 6. Napisz funkcję, która oblicza wyznacznik kwadratowej macierzy (determinant) przy użyciu:\n",
    "1. rozwinięcia Laplace’a,\n",
    "2. eliminacji Gaussa (rozkład macierzy na iloczyn macierzy trójkątnej dolnej i trójkątnej górnej),\n",
    "3. funkcji `det`.\n",
    "Przedstaw porównanie metod pod względem złożoności czasowej i wyników dla przykładowych macierzy rozmiarów: $2 \\times 2$ i $200 \\times 200$. "
   ]
  },
  {
   "cell_type": "code",
   "execution_count": 77,
   "metadata": {
    "ExecuteTime": {
     "end_time": "2025-03-13T10:20:59.831869Z",
     "start_time": "2025-03-13T10:20:59.812625Z"
    }
   },
   "outputs": [
    {
     "name": "stdout",
     "output_type": "stream",
     "text": [
      "Gauss: 23.0\n",
      "Laplace: 23.0\n",
      "Numpy: 23.0\n",
      "Gauss: [0.5330939621251561, -0.10296870913421075, 0.027354404665123514, 0.015065810022752448, 0.008294860937644541, 0.042369719831517966, 0.0020475465567599206, 0.05927969443361422, 0.04716087392488084, 0.013578485886865835]\n",
      "Numpy: [0.5330939621251561, -0.10296870913421054, 0.02735440466512201, 0.015065810022752039, 0.008294860937644425, 0.04236971983152079, 0.0020475465567604775, 0.059279694433614014, 0.047160873924882454, 0.013578485886865976]\n"
     ]
    }
   ],
   "source": [
    "def is_even(n: int) -> float:\n",
    "    if n%2==0:\n",
    "        return 1.0\n",
    "    else:\n",
    "        return -1.0\n",
    "    \n",
    "    \n",
    "import numpy as np\n",
    "\n",
    "\n",
    "def det_laplace(mat: np.ndarray) -> float:\n",
    "    if not (mat.ndim == 2 and mat.shape[0] == mat.shape[1]):\n",
    "        raise ValueError(\"The matrix is not a square matrix! (laplace)\")\n",
    "    if mat.shape == (1,1):\n",
    "        return float(mat[(0,0)])\n",
    "    result = 0\n",
    "    for i in range(mat.shape[0]):\n",
    "        mat_i = mat[1:,:]\n",
    "        mat_i = np.concatenate((mat_i[:, :i], mat_i[:, (i+1):]), axis=1)\n",
    "        result += mat[0][i] * det_laplace(mat_i) * is_even(i)\n",
    "    return result\n",
    "\n",
    "def det_gauss(mat_input: np.ndarray) -> float:\n",
    "    def to_float(x) -> float:\n",
    "        return float(x) \n",
    "    to_float = np.vectorize(to_float)\n",
    "    mat = to_float(mat_input)\n",
    "    if not (mat.ndim == 2 and mat.shape[0] == mat.shape[1]):\n",
    "        raise ValueError(\"The matrix is not a square matrix! (gauss)\")\n",
    "    coef = 1\n",
    "    n = mat.shape[0]\n",
    "    for col in range(n):\n",
    "        if mat[col,col] == 0:\n",
    "            coef = coef * (-1)\n",
    "            for row in range(col,n):\n",
    "                if mat[row,col] != 0:\n",
    "                    #we swap the ith row with the jth row\n",
    "                    for k in range(col, n):\n",
    "                        swap_aid = mat[col,k]\n",
    "                        mat[col,k] = mat[row,k]\n",
    "                        mat[row,k] = swap_aid\n",
    "                    break\n",
    "            else:\n",
    "                return 0\n",
    "        #pivoting:\n",
    "        p = mat[col,col]\n",
    "        for row in range(col+1,n):\n",
    "            p_c = mat[row,col]\n",
    "            ratio = p_c/p\n",
    "            mat[row, :] = mat[row, :] - (ratio*mat[col, :])\n",
    "    result = 1\n",
    "    for i in range(n):\n",
    "        result *= mat[i,i]\n",
    "    return result*coef\n",
    "\n",
    "def np_det(mat_input: np.ndarray) -> float:\n",
    "    return np.linalg.det(mat_input)\n",
    "\n",
    "if __name__ == \"__main__\":\n",
    "    mat_example = np.array([[1,2,1],\n",
    "                            [0,3,4],\n",
    "                            [3,1,4]])\n",
    "    print(f\"Gauss: {det_gauss(mat_example)}\")\n",
    "    print(f\"Laplace: {det_laplace(mat_example)}\")\n",
    "    print(f\"Numpy: {np_det(mat_example)}\")\n",
    "    \n",
    "#comparison:\n",
    "if __name__ == \"__main__\":\n",
    "    x = [np.random.rand(20,20) for i in range(10)]\n",
    "\n",
    "    res_gauss = [det_gauss(i) for i in x]\n",
    "    print(f\"Gauss: {res_gauss}\")\n",
    "    \"\"\" \n",
    "    res_laplace = [det_laplace(i) for i in x]\n",
    "    print(f\"Laplace: {res_laplace}\")\n",
    "    \"\"\"\n",
    "    res_np = [np_det(i) for i in x]\n",
    "    print(f\"Numpy: {res_np}\")\n",
    "    \n",
    "    \n",
    "    \n",
    "\n",
    "    "
   ]
  },
  {
   "cell_type": "markdown",
   "metadata": {},
   "source": [
    "Zad 7. Napisz funkcję, która zwróci wszystkie podzbiory danego zbioru. "
   ]
  },
  {
   "cell_type": "code",
   "execution_count": 78,
   "metadata": {
    "ExecuteTime": {
     "end_time": "2025-03-13T10:21:01.188221Z",
     "start_time": "2025-03-13T10:21:01.168205Z"
    }
   },
   "outputs": [
    {
     "name": "stdout",
     "output_type": "stream",
     "text": [
      "[[], [1], [2], [1, 2], [123], [1, 123], [2, 123], [1, 2, 123], ['meow'], [1, 'meow'], [2, 'meow'], [1, 2, 'meow'], [123, 'meow'], [1, 123, 'meow'], [2, 123, 'meow'], [1, 2, 123, 'meow']]\n"
     ]
    }
   ],
   "source": [
    "def subsets(a: set) -> list:\n",
    "    n = len(a)\n",
    "    my_list = list(a)\n",
    "    result = [[]]*(2**n)\n",
    "    for itr in range(2**n):\n",
    "        aid = []\n",
    "        _itr = itr\n",
    "        for i in range(n):\n",
    "            if _itr%2==1:\n",
    "                aid.append(my_list[i])\n",
    "            _itr //= 2\n",
    "        result[itr] = aid\n",
    "    return result\n",
    "\n",
    "if __name__ == \"__main__\":\n",
    "    set_1 = {\"meow\", 1, 2, 123}\n",
    "    print(subsets(set_1))\n",
    "            \n",
    "        \n",
    "        "
   ]
  }
 ],
 "metadata": {
  "kernelspec": {
   "display_name": "ml",
   "language": "python",
   "name": "python3"
  },
  "language_info": {
   "codemirror_mode": {
    "name": "ipython",
    "version": 3
   },
   "file_extension": ".py",
   "mimetype": "text/x-python",
   "name": "python",
   "nbconvert_exporter": "python",
   "pygments_lexer": "ipython3",
   "version": "3.10.13"
  }
 },
 "nbformat": 4,
 "nbformat_minor": 2
}
