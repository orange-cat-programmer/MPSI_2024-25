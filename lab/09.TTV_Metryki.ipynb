{
 "cells": [
  {
   "cell_type": "markdown",
   "id": "d7c76a77-c536-4b0d-9817-3a45f48f2c8a",
   "metadata": {},
   "source": [
    "<div style=\"text-align: center;font-size: 30px;\"><b>Podział na test, train i valid. Metryki oceny modelu.</b></div>"
   ]
  },
  {
   "cell_type": "markdown",
   "id": "a6a125d0-7b69-4d44-93ac-d5861b0548d5",
   "metadata": {},
   "source": [
    "<h1>1. Jak dzielić dane testowe?</h1>\n",
    "\n",
    "<p>&#8594; Nie zajmujemy się tym sami. W Pythonie wkorzystujemy do tego funkcję z sklearn.</p>"
   ]
  },
  {
   "cell_type": "code",
   "execution_count": 1,
   "id": "db1d9b25-2a33-4157-b86d-c9d1856d9064",
   "metadata": {
    "ExecuteTime": {
     "end_time": "2025-04-09T08:45:05.278870Z",
     "start_time": "2025-04-09T08:45:03.933487Z"
    }
   },
   "outputs": [],
   "source": [
    "from sklearn.model_selection import train_test_split"
   ]
  },
  {
   "cell_type": "markdown",
   "id": "6338567b-28ee-4472-b968-573110c49a9f",
   "metadata": {},
   "source": [
    "Zadanie nie jest trudne. Zbiór wszystkich danych dzielimy na trzy rozdzielne podzbiory:\n",
    "<ul>\n",
    "    <li>Zbiór train - około 70 - 80% wszystkich danych.</li>\n",
    "    <li>Zbiór valid - około 10 - 15% wszystkich danych.</li>\n",
    "    <li>Zbiór test - około 10 - 15% wszystkich danych.</li>\n",
    "</ul>\n",
    "<p style=\"text-align: center; line-height: 1.8; margin: 30px; font-size: 18px; \n",
    "           background-color: red; border-radius: 10px; padding: 15px; box-shadow: 0 4px 8px rgba(0, 0, 0, 0.2);\">\n",
    "    <b>SPOSÓB PODZIELENIA DANYCH NA GRUPY MA DUŻY WPŁYW NA WYNIKI OTRZYMANE Z MODELU</b>\n",
    "</p>\n",
    "Najkrócej mówiąc, każdy zbiór powinien zgodnie reprezentować populacje.\n",
    "\n",
    "Przykład podziału danych przy użyciu funkcji <font color=\"#008c1c\">test_train_split</font>"
   ]
  },
  {
   "cell_type": "code",
   "execution_count": 2,
   "id": "910d61ad-b019-482b-83ad-c989bfba83eb",
   "metadata": {
    "ExecuteTime": {
     "end_time": "2025-04-09T08:45:05.293872Z",
     "start_time": "2025-04-09T08:45:05.280870Z"
    }
   },
   "outputs": [],
   "source": [
    "import numpy as np\n",
    "datasetX = np.random.normal(0,1,1000)\n",
    "X_train, X_test= train_test_split(datasetX, random_state=1,  test_size=0.2)"
   ]
  },
  {
   "cell_type": "markdown",
   "id": "0515ad9c-98f8-495c-8950-758dacc413cd",
   "metadata": {},
   "source": [
    "Argumentami funkcji są:\n",
    "<ul>\n",
    "    <li>datasetX - dowolny zbiór lub kilka zbiorów</li>\n",
    "    <li>random_state - pozwala odtowrzyć losowy podział zbioru danych, czyli \"seed\" w oparciu o który przydzielamy wartości do zbiorów</li>\n",
    "    <li>test_size - jak sama nazwa wskazuje</li>\n",
    "</ul>"
   ]
  },
  {
   "cell_type": "code",
   "execution_count": 3,
   "id": "43a70e32-323f-46c2-8740-e829a26d1454",
   "metadata": {
    "ExecuteTime": {
     "end_time": "2025-04-09T08:45:05.309886Z",
     "start_time": "2025-04-09T08:45:05.294870Z"
    }
   },
   "outputs": [],
   "source": [
    "#przykłąd wywołania funkcji train_test_split z kilkoma zbiorami\n",
    "datasetX = np.random.normal(0,1,1000)\n",
    "datasetY = np.random.normal(0,1,1000)\n",
    "datasetZ = np.random.normal(0,1,1000)\n",
    "X_train, X_test, Y_train, Y_test, Z_train, Z_test = train_test_split(datasetX,datasetY,datasetZ, random_state=1,  test_size=0.1) "
   ]
  },
  {
   "cell_type": "markdown",
   "id": "d5d7a1c2-a6c9-46b8-81af-2a7bd215c4bf",
   "metadata": {},
   "source": [
    "Warte uwagi jest to, że zbiór valid musimy sobie wyodrębnić sami, na przykład ponownie stosując funkcję <font color=\"#008c1c\"> train_test_split</font>"
   ]
  },
  {
   "cell_type": "code",
   "execution_count": 4,
   "id": "30f19248-628e-4176-8a4a-686d19b1ab36",
   "metadata": {
    "ExecuteTime": {
     "end_time": "2025-04-09T08:45:05.325869Z",
     "start_time": "2025-04-09T08:45:05.311870Z"
    }
   },
   "outputs": [],
   "source": [
    "X_train, X_valid = train_test_split(X_train, random_state=1,  test_size=0.1) "
   ]
  },
  {
   "cell_type": "markdown",
   "id": "23885688-0bfe-4f81-a3b3-9b0dd48c8686",
   "metadata": {
    "jp-MarkdownHeadingCollapsed": true
   },
   "source": [
    "<h2> Różnica pomiędzy valid i test.</h2>\n",
    "Uczymy na train, potem patrzymy jak model działa na valid i tak w kółko. <b>Zbioru test używamy tylko raz, pod koniec aby ocenić model.</b>\n",
    "<p style=\"text-align: center; line-height: 1.8; margin: 30px; font-size: 18px; \n",
    "           background-color: red; border-radius: 10px; padding: 15px; box-shadow: 0 4px 8px rgba(0, 0, 0, 0.2);\">\n",
    "    <b>ZBIORU TEST UŻYWAMY TYLKO RAZ NA KOŃCU!!!!</b>\n",
    "</p>"
   ]
  },
  {
   "cell_type": "markdown",
   "id": "5f34b368-27b9-4208-9a9d-e35f196f1e3b",
   "metadata": {},
   "source": [
    "<h1>2. Wykorzystanie danych do trenowania modelu.</h1>\n",
    "<h2>Funkcjonalności bilbioteki sklearn</h2>\n",
    "Zanim przejdziemy dalej chciałym wspomnieć o zawartości bilbioteki <font color=\"#008c1c\">scikit-learn</font>  z których będziemy korzystali w dalszej części noteboka.\n",
    "<h3>Zbiory danych</h3>\n",
    "Gdybyśmy mieli potrzebę użyć zbioru do prezentacji, albo przeprowadzenia obliczeń to możemy skorzystać ze zbiorów wbudowanych w bibliotekę takich jak np. zbiór digits (zbiór cyfr), zbiór iris (kwiat irysu) oraz zbiór wine. Każdy z nich otrzymujemy wywołując podobną komendę:"
   ]
  },
  {
   "cell_type": "code",
   "execution_count": 5,
   "id": "0ddc6ccd-c2af-4ab3-8588-b2d1fecad6b3",
   "metadata": {
    "ExecuteTime": {
     "end_time": "2025-04-09T08:45:07.087968Z",
     "start_time": "2025-04-09T08:45:06.973954Z"
    }
   },
   "outputs": [],
   "source": [
    "from sklearn.datasets import load_digits, load_iris, load_wine\n",
    "data_digits = load_digits()\n",
    "data_iris = load_iris()\n",
    "data_wine = load_wine()"
   ]
  },
  {
   "cell_type": "markdown",
   "id": "0431000d-8213-4664-89a0-8f8e7a6f0a39",
   "metadata": {},
   "source": [
    "Następnie możemy wyłuskać z nich zbiór cech i etykiet jako:"
   ]
  },
  {
   "cell_type": "code",
   "execution_count": 6,
   "id": "40466598-02c0-43c6-b1cd-869bc3685f59",
   "metadata": {
    "ExecuteTime": {
     "end_time": "2025-04-09T08:45:10.127866Z",
     "start_time": "2025-04-09T08:45:10.113803Z"
    }
   },
   "outputs": [],
   "source": [
    "digits_x, digits_y = data_digits.data, data_digits.target\n",
    "iris_x, iris_y = data_iris.data, data_iris.target\n",
    "wine_x, wine_y = data_wine.data, data_wine.target"
   ]
  },
  {
   "cell_type": "markdown",
   "id": "347c5138-f8b0-4730-88d8-b88925b12c3d",
   "metadata": {},
   "source": [
    "Oczywiście w bibliotece jest ich o wiele więcej."
   ]
  },
  {
   "cell_type": "markdown",
   "id": "7d77fcf1-3640-4245-bd67-e96abf05fab7",
   "metadata": {},
   "source": [
    "<h3>Modele</h3>\n",
    "Aby pracować na zaimportowanych danych możemy zaimportować różne modele, takie jak:\n",
    "<ul>\n",
    "    <li>LinearRegression() - regresja liniowa.</li>\n",
    "    <li>DecisionTreeClassifier(seed) - drzewo decyzyjne</li>\n",
    "    <li>RandomForestClassifier()</li>\n",
    "    <li>KNeighborsClassifier(k) - klasyfikator k - najbliższych sąsiadów</li>\n",
    "</ul>\n",
    "Oczywiście wcześniej je importując:"
   ]
  },
  {
   "cell_type": "code",
   "execution_count": 7,
   "id": "e9e0b82a-b39e-432e-b479-3ecfa83af834",
   "metadata": {
    "ExecuteTime": {
     "end_time": "2025-04-09T08:45:14.172001Z",
     "start_time": "2025-04-09T08:45:13.973986Z"
    }
   },
   "outputs": [],
   "source": [
    "from sklearn.linear_model import LinearRegression\n",
    "from sklearn.tree import DecisionTreeClassifier\n",
    "from sklearn.ensemble import RandomForestClassifier\n",
    "from sklearn.neighbors import KNeighborsClassifier"
   ]
  },
  {
   "cell_type": "markdown",
   "id": "d4582685-1e00-42b3-b498-40520cb7df04",
   "metadata": {},
   "source": [
    "W następujący sposób:"
   ]
  },
  {
   "cell_type": "code",
   "execution_count": 8,
   "id": "397f21e4-17e5-4b95-bca0-6b9241ba98c9",
   "metadata": {
    "ExecuteTime": {
     "end_time": "2025-04-09T08:45:15.441508Z",
     "start_time": "2025-04-09T08:45:15.433509Z"
    }
   },
   "outputs": [],
   "source": [
    "model = RandomForestClassifier()"
   ]
  },
  {
   "cell_type": "markdown",
   "id": "953ee795-bd5b-4d61-bc97-172034069e53",
   "metadata": {},
   "source": [
    "Przykład trenowania modelu:"
   ]
  },
  {
   "cell_type": "code",
   "execution_count": 9,
   "id": "08d6b85b-7b63-4359-b8f6-3aeb6e0153e3",
   "metadata": {
    "ExecuteTime": {
     "end_time": "2025-04-09T08:45:16.905623Z",
     "start_time": "2025-04-09T08:45:16.531512Z"
    }
   },
   "outputs": [
    {
     "name": "stdout",
     "output_type": "stream",
     "text": [
      "0.9805555555555555\n"
     ]
    }
   ],
   "source": [
    "from sklearn.metrics import accuracy_score\n",
    "\n",
    "#tak jak wyżej importujemy sobie dane\n",
    "data_digits = load_digits()\n",
    "\n",
    "#tak jak wyżej dzielimy je sobie na cechy i etykiety\n",
    "digits_x, digits_y = data_digits.data, data_digits.target\n",
    "\n",
    "#importujemy model\n",
    "model = RandomForestClassifier()\n",
    "\n",
    "#dzielimy dane na dane treningowe i testowe\n",
    "digits_train_x, digits_test_x, digits_train_y, digits_test_y =  train_test_split(digits_x,digits_y,random_state = 1, test_size = 0.2)\n",
    "\n",
    "#trenjemy model\n",
    "model.fit(digits_train_x,digits_train_y)\n",
    "\n",
    "#wsad\n",
    "result = model.predict(digits_test_x)\n",
    "\n",
    "print(accuracy_score(digits_test_y,result))"
   ]
  },
  {
   "cell_type": "markdown",
   "id": "171c3b4f-d32c-4ee2-8f9b-67c160d6fa12",
   "metadata": {},
   "source": [
    "<h2>K - fold Cross Validation</h2>\n",
    "Technika polegająca na podzieleniu danych treningowych na k równych części - zwanych foldami - z których jedna zostaje zbiorem walidacyjnym, a cała reszta używana jest do treningu. Schemat jest powtarzany k razy, tak aby każdy zbiór miał okazje być zbiorem walidacyjnym. Na koniec liczymy średnią na podstawie wszystkich iteracji."
   ]
  },
  {
   "cell_type": "code",
   "execution_count": 10,
   "id": "3a17cb08-9c78-4b58-a968-3ba3ee0af830",
   "metadata": {
    "ExecuteTime": {
     "end_time": "2025-04-09T08:46:07.547022Z",
     "start_time": "2025-04-09T08:46:06.899598Z"
    }
   },
   "outputs": [
    {
     "ename": "NameError",
     "evalue": "name 'HTML' is not defined",
     "output_type": "error",
     "traceback": [
      "\u001B[1;31m---------------------------------------------------------------------------\u001B[0m",
      "\u001B[1;31mNameError\u001B[0m                                 Traceback (most recent call last)",
      "Cell \u001B[1;32mIn[10], line 1\u001B[0m\n\u001B[1;32m----> 1\u001B[0m display(\u001B[43mHTML\u001B[49m(table4))\n",
      "\u001B[1;31mNameError\u001B[0m: name 'HTML' is not defined"
     ]
    }
   ],
   "source": [
    "display(HTML(table4))"
   ]
  },
  {
   "cell_type": "markdown",
   "id": "1e37174a-dabf-4bb1-a8e4-69a20885ceba",
   "metadata": {},
   "source": [
    "Możemy przeprowadzić walidację k - fold przy użyciu funkcji z biblioteki sklearn:"
   ]
  },
  {
   "cell_type": "code",
   "execution_count": 11,
   "id": "8e4f84a3-296b-43e5-9f8f-ea93607181f2",
   "metadata": {
    "ExecuteTime": {
     "end_time": "2025-04-09T08:46:17.059673Z",
     "start_time": "2025-04-09T08:46:17.053674Z"
    }
   },
   "outputs": [],
   "source": [
    "from sklearn.model_selection import cross_val_score"
   ]
  },
  {
   "cell_type": "code",
   "execution_count": 12,
   "id": "11c324ad-d1fd-470a-9296-6801b1f2019a",
   "metadata": {
    "ExecuteTime": {
     "end_time": "2025-04-09T08:46:17.634866Z",
     "start_time": "2025-04-09T08:46:17.118793Z"
    }
   },
   "outputs": [
    {
     "name": "stdout",
     "output_type": "stream",
     "text": [
      "[0.96666667 0.96666667 0.93333333 0.93333333 1.        ]\n",
      "0.96\n"
     ]
    }
   ],
   "source": [
    "data_digits = load_iris()\n",
    "\n",
    "iris_x, iris_y = data_iris.data, data_iris.target\n",
    "\n",
    "model = RandomForestClassifier()\n",
    "\n",
    "scores = cross_val_score(model,iris_x, iris_y,cv = 5) #cv = cross validation i oznacza to ile foldów\n",
    "print(scores)\n",
    "print(scores.mean())"
   ]
  },
  {
   "cell_type": "markdown",
   "id": "b848e423-1d39-45ae-b404-43e50d7087ea",
   "metadata": {},
   "source": [
    "<b>Hiperparametrem </b> nazwiemy taki parametr, który musi zostać ustawiony przed rozpoczęciem procesu uczenia modelu. Aby wyznaczyć optymalne hiperparametry możemy skorzystać z <font color=\"#008c1c\">Grid Search</font> lub <font color=\"#008c1c\">Random Search</font>"
   ]
  },
  {
   "cell_type": "markdown",
   "id": "19424ef9-3523-4f86-8410-9436654cd92e",
   "metadata": {},
   "source": [
    "<h2>Grid Search -  Brute Froce</h2>\n",
    "Powiedzmy, że model posiada 3 hiperparametry: $\\eta $, $\\lambda$, $\\theta$. Chcemy wyznaczyć takie spośród nich, które gwarantują najlepsze działanie. Aby to zrobić, możemy zastosować metode Brute Force, to znaczy pogrupować każde z każdym i wybrać tę grupę która gwaranuje najlepsze działanie modelu. Takie podejście w kontekście nauczania maszynowego nosi nazwę Grid Search. "
   ]
  },
  {
   "cell_type": "code",
   "execution_count": 13,
   "id": "5f93ccf5-11df-4419-8fe9-fd0a66d3fb36",
   "metadata": {
    "ExecuteTime": {
     "end_time": "2025-04-09T08:46:30.419847Z",
     "start_time": "2025-04-09T08:46:30.390854Z"
    }
   },
   "outputs": [
    {
     "ename": "NameError",
     "evalue": "name 'SVC' is not defined",
     "output_type": "error",
     "traceback": [
      "\u001B[1;31m---------------------------------------------------------------------------\u001B[0m",
      "\u001B[1;31mNameError\u001B[0m                                 Traceback (most recent call last)",
      "Cell \u001B[1;32mIn[13], line 9\u001B[0m\n\u001B[0;32m      6\u001B[0m X_train, X_test, y_train, y_test \u001B[38;5;241m=\u001B[39m train_test_split(X, y, test_size\u001B[38;5;241m=\u001B[39m\u001B[38;5;241m0.3\u001B[39m, random_state\u001B[38;5;241m=\u001B[39m\u001B[38;5;241m42\u001B[39m)\n\u001B[0;32m      8\u001B[0m \u001B[38;5;66;03m# Definicja modelu SVM\u001B[39;00m\n\u001B[1;32m----> 9\u001B[0m model \u001B[38;5;241m=\u001B[39m \u001B[43mSVC\u001B[49m()\n\u001B[0;32m     11\u001B[0m \u001B[38;5;66;03m# Definicja siatki hiperparametrów\u001B[39;00m\n\u001B[0;32m     12\u001B[0m param_grid \u001B[38;5;241m=\u001B[39m {\n\u001B[0;32m     13\u001B[0m     \u001B[38;5;124m'\u001B[39m\u001B[38;5;124mC\u001B[39m\u001B[38;5;124m'\u001B[39m: [\u001B[38;5;241m0.1\u001B[39m, \u001B[38;5;241m1\u001B[39m, \u001B[38;5;241m10\u001B[39m, \u001B[38;5;241m100\u001B[39m],          \u001B[38;5;66;03m# Współczynnik regularyzacji\u001B[39;00m\n\u001B[0;32m     14\u001B[0m     \u001B[38;5;124m'\u001B[39m\u001B[38;5;124mkernel\u001B[39m\u001B[38;5;124m'\u001B[39m: [\u001B[38;5;124m'\u001B[39m\u001B[38;5;124mlinear\u001B[39m\u001B[38;5;124m'\u001B[39m, \u001B[38;5;124m'\u001B[39m\u001B[38;5;124mrbf\u001B[39m\u001B[38;5;124m'\u001B[39m],     \u001B[38;5;66;03m# Typ jądra\u001B[39;00m\n\u001B[0;32m     15\u001B[0m     \u001B[38;5;124m'\u001B[39m\u001B[38;5;124mgamma\u001B[39m\u001B[38;5;124m'\u001B[39m: [\u001B[38;5;124m'\u001B[39m\u001B[38;5;124mscale\u001B[39m\u001B[38;5;124m'\u001B[39m, \u001B[38;5;124m'\u001B[39m\u001B[38;5;124mauto\u001B[39m\u001B[38;5;124m'\u001B[39m, \u001B[38;5;241m0.1\u001B[39m]  \u001B[38;5;66;03m# Parametr gamma dla jądra 'rbf'\u001B[39;00m\n\u001B[0;32m     16\u001B[0m }\n",
      "\u001B[1;31mNameError\u001B[0m: name 'SVC' is not defined"
     ]
    }
   ],
   "source": [
    "# Wczytanie zbioru danych 'Irysów'\n",
    "data = load_iris()\n",
    "X, y = data.data, data.target\n",
    "\n",
    "# Podział danych na zestawy treningowe i testowe\n",
    "X_train, X_test, y_train, y_test = train_test_split(X, y, test_size=0.3, random_state=42)\n",
    "\n",
    "# Definicja modelu SVM\n",
    "model = SVC()\n",
    "\n",
    "# Definicja siatki hiperparametrów\n",
    "param_grid = {\n",
    "    'C': [0.1, 1, 10, 100],          # Współczynnik regularyzacji\n",
    "    'kernel': ['linear', 'rbf'],     # Typ jądra\n",
    "    'gamma': ['scale', 'auto', 0.1]  # Parametr gamma dla jądra 'rbf'\n",
    "}\n",
    "\n",
    "# Grid Search z 5-fold cross-validation\n",
    "grid_search = GridSearchCV(estimator=model, param_grid=param_grid, cv=5, scoring='accuracy')\n",
    "grid_search.fit(X_train, y_train)\n",
    "\n",
    "# Najlepsze parametry\n",
    "print(\"Najlepsze parametry:\", grid_search.best_params_)\n",
    "\n",
    "# Ocena modelu na danych testowych\n",
    "best_model = grid_search.best_estimator_\n",
    "y_pred = best_model.predict(X_test)\n",
    "print(\"Dokładność na danych testowych:\", accuracy_score(y_test, y_pred))"
   ]
  },
  {
   "cell_type": "markdown",
   "id": "13ba9e33-23d2-41e1-8739-115307f09ec6",
   "metadata": {},
   "source": [
    "<h2>Random Search</h2>\n",
    "Jak powszechnie wiadomo, metoda Brute Force jest niezwykle niewydajna gdy mamy do czynienia z dużą ilością danych, dlatego zamiast sprawdzać każdą kombinację hiperparametrów, możemy wylosować je losowo. Takie podejście nosi nazwę Random Search "
   ]
  },
  {
   "cell_type": "code",
   "execution_count": 243,
   "id": "f00b6c41-b69b-4321-acbf-4fb526c23d34",
   "metadata": {},
   "outputs": [
    {
     "name": "stdout",
     "output_type": "stream",
     "text": [
      "Najlepsze parametry: {'max_depth': 11, 'min_samples_split': 5, 'n_estimators': 142}\n",
      "Najlepszy wynik dokładności: 0.9666666666666668\n"
     ]
    }
   ],
   "source": [
    "from sklearn.model_selection import RandomizedSearchCV\n",
    "from scipy.stats import randint\n",
    "\n",
    "# Wczytanie zbioru danych 'Iris'\n",
    "data = load_iris()\n",
    "X, y = data.data, data.target\n",
    "\n",
    "# Definicja modelu Random Forest\n",
    "model = RandomForestClassifier(random_state=42)\n",
    "\n",
    "# Definicja przestrzeni hiperparametrów (rozstaw parametrów losowych)\n",
    "param_dist = {\n",
    "    'n_estimators': randint(50, 200),      # Losowa liczba drzew w lesie (od 50 do 200)\n",
    "    'max_depth': randint(5, 20),          # Losowa maksymalna głębokość drzewa (od 5 do 20)\n",
    "    'min_samples_split': randint(2, 10),  # Minimalna liczba próbek do podziału w węźle\n",
    "}\n",
    "\n",
    "# Random Search z 10 losowymi kombinacjami i 5-fold cross-validation\n",
    "random_search = RandomizedSearchCV(estimator=model, param_distributions=param_dist, n_iter=10, cv=5, scoring='accuracy', random_state=42)\n",
    "random_search.fit(X, y)\n",
    "\n",
    "# Wyświetlenie najlepszych parametrów i wyniku\n",
    "print(\"Najlepsze parametry:\", random_search.best_params_)\n",
    "print(\"Najlepszy wynik dokładności:\", random_search.best_score_)"
   ]
  },
  {
   "cell_type": "markdown",
   "id": "10bfe8eb-a44d-4ab1-b764-9e6b393d87d0",
   "metadata": {},
   "source": [
    "<h1>3. Metryki oceny modelu.</h1>\n",
    "Aby ocenić model, wyniki z niego dawane układamy w specjalną tabelką zwaną <b>confuse matrix </i>. "
   ]
  },
  {
   "cell_type": "code",
   "execution_count": 251,
   "id": "d5f13e09-e61d-44af-94bd-4c7c0694ae70",
   "metadata": {},
   "outputs": [],
   "source": [
    "from sklearn.metrics import confusion_matrix\n",
    "from sklearn.metrics import ConfusionMatrixDisplay"
   ]
  },
  {
   "cell_type": "markdown",
   "id": "962a8a60-157e-4b0d-9307-b8716cc961d2",
   "metadata": {},
   "source": [
    "Tabelka może mieć różny (zawsze kwadratwy) rozmiar."
   ]
  },
  {
   "cell_type": "code",
   "execution_count": 155,
   "id": "bd1b4e4e-d389-4817-a5f9-11f71216e597",
   "metadata": {},
   "outputs": [
    {
     "name": "stdout",
     "output_type": "stream",
     "text": []
    },
    {
     "data": {
      "image/png": "[encoded data removed]",
      "text/plain": [
       "<Figure size 640x480 with 2 Axes>"
      ]
     },
     "metadata": {},
     "output_type": "display_data"
    }
   ],
   "source": [
    "x_true = [\"kot\",\"ptasznik\",\"słoń\",\"człowiek\",\"mysz\",\"ptasznik\",\"kot\",\"pies\",\"pies\"]\n",
    "x_pred = [\"pies\",\"pies\",\"człowiek\",\"miska\",\"mysz\",\"ptasznik\",\"kot\",\"pies\",\"pies\"]\n",
    "cm = confusion_matrix(x_true, x_pred)\n",
    "\n",
    "# Wyświetlanie macierzy konfuzji\n",
    "disp = ConfusionMatrixDisplay(confusion_matrix=cm)\n",
    "disp.plot()\n",
    "print()"
   ]
  },
  {
   "cell_type": "markdown",
   "id": "55720ab5-fa09-46b6-bfe8-96953a365b77",
   "metadata": {},
   "source": [
    "Natomiast ze względów praktycznych preferujemy tabelkę $  2 \\times 2 $, utworzoną w następującym schemacie:"
   ]
  },
  {
   "cell_type": "code",
   "execution_count": 19,
   "id": "885a2a7a-aa68-4ca2-b4e8-baf67ead731d",
   "metadata": {},
   "outputs": [
    {
     "data": {
      "text/html": [
       "<style type=\"text/css\">\n",
       ".tg  {border-collapse:collapse;border-spacing:0;}\n",
       ".tg td{border-color:black;border-style:solid;border-width:1px;font-family:Arial, sans-serif;font-size:14px;\n",
       "  overflow:hidden;padding:10px 5px;word-break:normal;}\n",
       ".tg th{border-color:black;border-style:solid;border-width:1px;font-family:Arial, sans-serif;font-size:14px;\n",
       "  font-weight:normal;overflow:hidden;padding:10px 5px;word-break:normal;}\n",
       ".tg .tg-abx8{background-color:#c0c0c0;font-weight:bold;text-align:left;vertical-align:top}\n",
       ".tg .tg-k285{background-color:#fd6864;font-weight:bold;text-align:left;vertical-align:top}\n",
       ".tg .tg-zlqz{background-color:#c0c0c0;border-color:inherit;font-weight:bold;text-align:center;vertical-align:top}\n",
       ".tg .tg-51kz{background-color:#009901;border-color:inherit;font-weight:bold;text-align:left;vertical-align:top}\n",
       ".tg .tg-efol{background-color:#c0c0c0;border-color:inherit;font-weight:bold;text-align:center;vertical-align:middle}\n",
       ".tg .tg-jew0{background-color:#fd6864;border-color:inherit;font-weight:bold;text-align:left;vertical-align:top}\n",
       ".tg .tg-0pky{border-color:inherit;text-align:left;vertical-align:top}\n",
       ".tg .tg-yv5q{background-color:#009901;font-weight:bold;text-align:left;vertical-align:top}\n",
       "</style>\n",
       "<table class=\"tg\"><thead>\n",
       "  <tr>\n",
       "    <th class=\"tg-0pky\" colspan=\"2\" rowspan=\"2\"></th>\n",
       "    <th class=\"tg-zlqz\" colspan=\"2\">Wartości przewidziane</th>\n",
       "  </tr>\n",
       "  <tr>\n",
       "    <th class=\"tg-zlqz\">Positive</th>\n",
       "    <th class=\"tg-zlqz\">Negative</th>\n",
       "  </tr></thead>\n",
       "<tbody>\n",
       "  <tr>\n",
       "    <td class=\"tg-efol\" rowspan=\"2\">Wartości <br>oczekiwane</td>\n",
       "    <td class=\"tg-abx8\">Positive</td>\n",
       "    <td class=\"tg-51kz\">True positive (TP)</td>\n",
       "    <td class=\"tg-jew0\">False negative (FN)</td>\n",
       "  </tr>\n",
       "  <tr>\n",
       "    <td class=\"tg-abx8\">Negative</td>\n",
       "    <td class=\"tg-k285\">False positive (FP)</td>\n",
       "    <td class=\"tg-yv5q\">True negative (TN)</td>\n",
       "  </tr>\n",
       "</tbody>\n",
       "</table>"
      ],
      "text/plain": [
       "<IPython.core.display.HTML object>"
      ]
     },
     "metadata": {},
     "output_type": "display_data"
    }
   ],
   "source": [
    "display(HTML(table1))"
   ]
  },
  {
   "cell_type": "markdown",
   "id": "9f40d7c3-d38c-4ef7-b566-471d99a84453",
   "metadata": {},
   "source": [
    "Gdzie:\n",
    "<ul>\n",
    "    <li>True positive, czyli poprawna odpowiedź, że coś jest czymś (widzę ptak, mówię, że ptak).</li>\n",
    "    <li>True negative, czyli poprawna odpowiedź, że coś nie jest czymś (widzę nieptak, mówię, że nieptak).</li>\n",
    "    <li>False positive, czyli niepoprawna odpowiedź, ze coś jest czymś (widzę ptak, mówię, że nieptak).</li>\n",
    "    <li>False negative, czyli niepoprawna odpowiedź, że coś nie jest czymś (widzę nieptak, mówię, że ptak).</li>\n",
    "</ul>\n",
    "Aby korzystać jednak z takiej reprezentacji, nasze zmienne muszą mieć charakter binarny."
   ]
  },
  {
   "cell_type": "code",
   "execution_count": 27,
   "id": "dab4037a-9bc0-4b42-94eb-709ffa3d79f0",
   "metadata": {},
   "outputs": [
    {
     "data": {
      "text/html": [
       "<style type=\"text/css\">\n",
       ".tg  {border-collapse:collapse;border-spacing:0;}\n",
       ".tg td{border-color:black;border-style:solid;border-width:1px;font-family:Arial, sans-serif;font-size:14px;\n",
       "  overflow:hidden;padding:10px 5px;word-break:normal;}\n",
       ".tg th{border-color:black;border-style:solid;border-width:1px;font-family:Arial, sans-serif;font-size:14px;\n",
       "  font-weight:normal;overflow:hidden;padding:10px 5px;word-break:normal;}\n",
       ".tg .tg-yj5y{background-color:#efefef;border-color:inherit;text-align:center;vertical-align:top}\n",
       ".tg .tg-34fe{background-color:#c0c0c0;border-color:inherit;text-align:center;vertical-align:top}\n",
       ".tg .tg-kftd{background-color:#efefef;text-align:left;vertical-align:top}\n",
       ".tg .tg-y6fn{background-color:#c0c0c0;text-align:left;vertical-align:top}\n",
       "</style>\n",
       "<table class=\"tg\"><thead>\n",
       "  <tr>\n",
       "    <th class=\"tg-34fe\">Numer wkładu</th>\n",
       "    <th class=\"tg-34fe\">1</th>\n",
       "    <th class=\"tg-34fe\">2</th>\n",
       "    <th class=\"tg-34fe\">3</th>\n",
       "    <th class=\"tg-34fe\">4</th>\n",
       "    <th class=\"tg-34fe\">5</th>\n",
       "    <th class=\"tg-34fe\">6</th>\n",
       "    <th class=\"tg-34fe\">7</th>\n",
       "    <th class=\"tg-34fe\">8</th>\n",
       "    <th class=\"tg-34fe\">9</th>\n",
       "    <th class=\"tg-y6fn\">10</th>\n",
       "    <th class=\"tg-y6fn\">11</th>\n",
       "    <th class=\"tg-y6fn\">12</th>\n",
       "  </tr></thead>\n",
       "<tbody>\n",
       "  <tr>\n",
       "    <td class=\"tg-34fe\">Wartość oczekiwana</td>\n",
       "    <td class=\"tg-yj5y\">ptak</td>\n",
       "    <td class=\"tg-yj5y\">nieptak</td>\n",
       "    <td class=\"tg-yj5y\">nieptak</td>\n",
       "    <td class=\"tg-yj5y\">nieptak</td>\n",
       "    <td class=\"tg-yj5y\">ptak</td>\n",
       "    <td class=\"tg-yj5y\">ptak</td>\n",
       "    <td class=\"tg-yj5y\">ptak</td>\n",
       "    <td class=\"tg-yj5y\">nieptak</td>\n",
       "    <td class=\"tg-yj5y\">ptak</td>\n",
       "    <td class=\"tg-kftd\">nieptak</td>\n",
       "    <td class=\"tg-kftd\">nieptak</td>\n",
       "    <td class=\"tg-kftd\">nieptak</td>\n",
       "  </tr>\n",
       "  <tr>\n",
       "    <td class=\"tg-34fe\">Wartość zwrócona przez model</td>\n",
       "    <td class=\"tg-yj5y\">ptak</td>\n",
       "    <td class=\"tg-yj5y\">nieptak</td>\n",
       "    <td class=\"tg-yj5y\">ptak</td>\n",
       "    <td class=\"tg-yj5y\">nieptak</td>\n",
       "    <td class=\"tg-yj5y\">nieptak</td>\n",
       "    <td class=\"tg-yj5y\">ptak</td>\n",
       "    <td class=\"tg-yj5y\">ptak</td>\n",
       "    <td class=\"tg-yj5y\">ptak</td>\n",
       "    <td class=\"tg-yj5y\">nieptak</td>\n",
       "    <td class=\"tg-kftd\">nieptak</td>\n",
       "    <td class=\"tg-kftd\">nieptak</td>\n",
       "    <td class=\"tg-kftd\">nieptak</td>\n",
       "  </tr>\n",
       "  <tr>\n",
       "    <td class=\"tg-34fe\">Klasyfikacja jako</td>\n",
       "    <td class=\"tg-yj5y\">TP</td>\n",
       "    <td class=\"tg-yj5y\">TN</td>\n",
       "    <td class=\"tg-yj5y\">FN</td>\n",
       "    <td class=\"tg-yj5y\">TN</td>\n",
       "    <td class=\"tg-yj5y\">FP</td>\n",
       "    <td class=\"tg-yj5y\">TP</td>\n",
       "    <td class=\"tg-yj5y\">TP</td>\n",
       "    <td class=\"tg-yj5y\">FN</td>\n",
       "    <td class=\"tg-yj5y\">FP</td>\n",
       "    <td class=\"tg-kftd\">TN</td>\n",
       "    <td class=\"tg-kftd\">TN</td>\n",
       "    <td class=\"tg-kftd\">TN</td>\n",
       "  </tr>\n",
       "</tbody></table>"
      ],
      "text/plain": [
       "<IPython.core.display.HTML object>"
      ]
     },
     "metadata": {},
     "output_type": "display_data"
    }
   ],
   "source": [
    "display(HTML(table2))"
   ]
  },
  {
   "cell_type": "markdown",
   "id": "693c2df9-8f6e-4583-a6cd-38dde83df218",
   "metadata": {},
   "source": [
    "Na podstawie takiej tabelki konstruujemy macierz."
   ]
  },
  {
   "cell_type": "code",
   "execution_count": 187,
   "id": "3a7698a0-32d5-45e8-9133-32e40face5d6",
   "metadata": {},
   "outputs": [
    {
     "name": "stdout",
     "output_type": "stream",
     "text": []
    },
    {
     "data": {
      "image/png": "[encoded data removed]",
      "text/plain": [
       "<Figure size 640x480 with 2 Axes>"
      ]
     },
     "metadata": {},
     "output_type": "display_data"
    }
   ],
   "source": [
    "x_true = [\"ptak\",\"nieptak\",\"nieptak\",\"nieptak\",\"ptak\",\"ptak\",\"ptak\",\"nieptak\",\"ptak\",\"nieptak\",\"nieptak\",\"nieptak\"]\n",
    "x_pred =  [\"ptak\",\"nieptak\",\"ptak\",\"nieptak\",\"nieptak\",\"ptak\",\"ptak\",\"ptak\",\"nieptak\",\"nieptak\",\"nieptak\",\"nieptak\"]\n",
    "disp = ConfusionMatrixDisplay(confusion_matrix=confusion_matrix(x_true,x_pred))\n",
    "disp.plot()\n",
    "print()"
   ]
  },
  {
   "cell_type": "markdown",
   "id": "cf6d6e0a-520f-4764-936d-2c3d58040d74",
   "metadata": {},
   "source": [
    "Majć dane w takim formacie, łatwo jest nam obliczyć przydatne parametry."
   ]
  },
  {
   "cell_type": "markdown",
   "id": "73d75292-111a-497f-b8ba-0dd71ce01e7d",
   "metadata": {},
   "source": [
    "<h2> Accuracy - dokładność </h2>"
   ]
  },
  {
   "cell_type": "markdown",
   "id": "6c0aaf87-ecc5-43c9-b03f-254f5a6d6aea",
   "metadata": {},
   "source": [
    "Dokładność liczymy jako: $$A = \\frac{TP+TN}{TP+TN+FP+FN}$$ Czyli jest to po prostu wskaźnik mówiący jak często dostajemy od modelu poprawną odpowiedź."
   ]
  },
  {
   "cell_type": "markdown",
   "id": "8511f717-5fe1-4600-890f-f5932fb321c5",
   "metadata": {},
   "source": [
    "<h2>Precision - precyzja </h2>"
   ]
  },
  {
   "cell_type": "markdown",
   "id": "0edfeebb-1a54-45aa-aa82-81eabbf3ad0f",
   "metadata": {},
   "source": [
    "Precyzję wyraża się: $$P = \\frac{TP}{TP+FP}$$ Informuje jak często model myli przypadki negatywne z pozytywnymi."
   ]
  },
  {
   "cell_type": "markdown",
   "id": "6aadc205-7fc8-4c69-a700-210ef94e54f2",
   "metadata": {},
   "source": [
    "<h2> Recall - czułość </h2>\n",
    "$$R = \\frac{TP}{TP+FN}$$\n",
    "Wysoka czułość informuje, że model rzadko pomija przypadki pozytywne."
   ]
  },
  {
   "cell_type": "markdown",
   "id": "1d1b2ca5-db3f-4d12-b8a6-9e10cdc06d7f",
   "metadata": {},
   "source": [
    "<h2> F1 - Score </h2>\n",
    "$$F1 = 2\\cdot \\frac{P\\cdot R}{P + R}$$ Wskaźnik przydatny gdy chcielibyśmy znaleźć w modelu równowagę pomiędzy precyzją i czułością."
   ]
  },
  {
   "cell_type": "markdown",
   "id": "15347372-f594-48c4-a238-8ebb9079629c",
   "metadata": {},
   "source": [
    "<h1>4. Zadania.</h1>\n",
    "<b>Zadanie 1.</b> Do poniższej tabelki dopisz klasyfikacje przypadku do jednego z typów TP, TN, FP, FN."
   ]
  },
  {
   "cell_type": "code",
   "execution_count": 33,
   "id": "f69c8092-701c-4eb8-9164-ec6b59871c42",
   "metadata": {},
   "outputs": [
    {
     "data": {
      "text/html": [
       "<style type=\"text/css\">\n",
       ".tg  {border-collapse:collapse;border-spacing:0;}\n",
       ".tg td{border-color:black;border-style:solid;border-width:1px;font-family:Arial, sans-serif;font-size:14px;\n",
       "  overflow:hidden;padding:10px 5px;word-break:normal;}\n",
       ".tg th{border-color:black;border-style:solid;border-width:1px;font-family:Arial, sans-serif;font-size:14px;\n",
       "  font-weight:normal;overflow:hidden;padding:10px 5px;word-break:normal;}\n",
       ".tg .tg-7fle{background-color:#efefef;font-weight:bold;text-align:center;vertical-align:top}\n",
       ".tg .tg-u1yq{background-color:#c0c0c0;font-weight:bold;text-align:center;vertical-align:top}\n",
       "</style>\n",
       "<table class=\"tg\"><thead>\n",
       "  <tr>\n",
       "    <th class=\"tg-u1yq\">Numer wkładu</th>\n",
       "    <th class=\"tg-u1yq\">1</th>\n",
       "    <th class=\"tg-u1yq\">2</th>\n",
       "    <th class=\"tg-u1yq\">3</th>\n",
       "    <th class=\"tg-u1yq\">4</th>\n",
       "    <th class=\"tg-u1yq\">5</th>\n",
       "    <th class=\"tg-u1yq\">6</th>\n",
       "    <th class=\"tg-u1yq\">7</th>\n",
       "    <th class=\"tg-u1yq\">8</th>\n",
       "    <th class=\"tg-u1yq\">9</th>\n",
       "    <th class=\"tg-u1yq\">10</th>\n",
       "    <th class=\"tg-u1yq\">11</th>\n",
       "    <th class=\"tg-u1yq\">12</th>\n",
       "    <th class=\"tg-u1yq\">13</th>\n",
       "    <th class=\"tg-u1yq\">14</th>\n",
       "    <th class=\"tg-u1yq\">15</th>\n",
       "    <th class=\"tg-u1yq\">16</th>\n",
       "  </tr></thead>\n",
       "<tbody>\n",
       "  <tr>\n",
       "    <td class=\"tg-u1yq\">Wartość oczekiwana</td>\n",
       "    <td class=\"tg-7fle\">kot</td>\n",
       "    <td class=\"tg-7fle\">niekot</td>\n",
       "    <td class=\"tg-7fle\">niekot</td>\n",
       "    <td class=\"tg-7fle\">niekot</td>\n",
       "    <td class=\"tg-7fle\">kot</td>\n",
       "    <td class=\"tg-7fle\">kot</td>\n",
       "    <td class=\"tg-7fle\">kot</td>\n",
       "    <td class=\"tg-7fle\">kot</td>\n",
       "    <td class=\"tg-7fle\">kot</td>\n",
       "    <td class=\"tg-7fle\">niekot</td>\n",
       "    <td class=\"tg-7fle\">niekot</td>\n",
       "    <td class=\"tg-7fle\">kot</td>\n",
       "    <td class=\"tg-7fle\">niekot</td>\n",
       "    <td class=\"tg-7fle\">niekot</td>\n",
       "    <td class=\"tg-7fle\">kot</td>\n",
       "    <td class=\"tg-7fle\">niekot</td>\n",
       "  </tr>\n",
       "  <tr>\n",
       "    <td class=\"tg-u1yq\">Wartość zwrócona przez model</td>\n",
       "    <td class=\"tg-7fle\">kot</td>\n",
       "    <td class=\"tg-7fle\">niekot</td>\n",
       "    <td class=\"tg-7fle\">kot</td>\n",
       "    <td class=\"tg-7fle\">niekot</td>\n",
       "    <td class=\"tg-7fle\">niekot</td>\n",
       "    <td class=\"tg-7fle\">kot</td>\n",
       "    <td class=\"tg-7fle\">kot</td>\n",
       "    <td class=\"tg-7fle\">kot</td>\n",
       "    <td class=\"tg-7fle\">kot</td>\n",
       "    <td class=\"tg-7fle\">kot</td>\n",
       "    <td class=\"tg-7fle\">niekot</td>\n",
       "    <td class=\"tg-7fle\">niekot</td>\n",
       "    <td class=\"tg-7fle\">kot</td>\n",
       "    <td class=\"tg-7fle\">kot</td>\n",
       "    <td class=\"tg-7fle\">niekot</td>\n",
       "    <td class=\"tg-7fle\">niekot</td>\n",
       "  </tr>\n",
       "</tbody></table>"
      ],
      "text/plain": [
       "<IPython.core.display.HTML object>"
      ]
     },
     "metadata": {},
     "output_type": "display_data"
    }
   ],
   "source": [
    "display(HTML(table3))"
   ]
  },
  {
   "cell_type": "markdown",
   "id": "5d9aca23-bcbf-4d5d-a398-d1b97b44f550",
   "metadata": {},
   "source": [
    "<b>Zadanie 2.</b> Na podstawie poniższej macierzy pomyłek oblicz współczynniki A, P oraz R."
   ]
  },
  {
   "cell_type": "code",
   "execution_count": 275,
   "id": "3bae2bdc-d1b1-41d4-8816-091583c201c2",
   "metadata": {
    "jupyter": {
     "source_hidden": true
    }
   },
   "outputs": [
    {
     "name": "stdout",
     "output_type": "stream",
     "text": []
    },
    {
     "data": {
      "image/png": "[encoded data removed]",
      "text/plain": [
       "<Figure size 640x480 with 2 Axes>"
      ]
     },
     "metadata": {},
     "output_type": "display_data"
    }
   ],
   "source": [
    "x_true = [1,0,0,1,1,1,0,0,0,0,1,1,1,1,1,0,0,0,1,0,1,0]\n",
    "x_pred =  [0,1,0,1,1,1,0,1,0,1,1,1,0,1,0,1,1,0,0,0,1,1]\n",
    "disp = ConfusionMatrixDisplay(confusion_matrix=confusion_matrix(x_true,x_pred))\n",
    "disp.plot()\n",
    "print()"
   ]
  },
  {
   "cell_type": "markdown",
   "id": "4b18b269-d8dc-4ca0-9ffe-bb7a77f37277",
   "metadata": {},
   "source": [
    "<b>Zadanie 3.</b>Metodą Grid Search znaleźć optymalne wartości hiperparametrów dla algorytmu <font color=\"#008c1c\">Gradient Boosting</font> . Rozpatrujemy jedynie hiperparametry takie jak:\n",
    "<ul></ul>\n",
    "<li>n_estimators: wartości od 50 do 500.</li>\n",
    "<li>learning_rate: wartości od 0.01 do 1.0.</li>\n",
    "<li>max_depth: wartości od 3 do 10.</li>\n",
    "</ul>\n",
    "Aby móc korzystać z algorytmu Gradient Boosting należy go uprzednio zaimportować z:"
   ]
  },
  {
   "cell_type": "code",
   "execution_count": 280,
   "id": "cf5eaa83-dde7-4604-b24f-6a08c1c0686c",
   "metadata": {},
   "outputs": [],
   "source": [
    "from sklearn.ensemble import GradientBoostingClassifier"
   ]
  },
  {
   "cell_type": "markdown",
   "id": "e0c41e79-0ca4-4c84-8804-d6779f1608c9",
   "metadata": {},
   "source": [
    "Model algorytmu można pozyskać jako:"
   ]
  },
  {
   "cell_type": "code",
   "execution_count": 286,
   "id": "5cd42429-7ce2-48ce-8347-9d4238433efb",
   "metadata": {},
   "outputs": [],
   "source": [
    "model = GradientBoostingClassifier(random_state = 1)"
   ]
  },
  {
   "cell_type": "markdown",
   "id": "f5d95770-385c-4ccf-9756-d2a47e988134",
   "metadata": {},
   "source": [
    "Aby móc porównać wyniki, ziarno algorytmu zostawmy ustawione na 1."
   ]
  },
  {
   "cell_type": "markdown",
   "id": "0a99202f-b737-4e41-b23e-ba8f840119a8",
   "metadata": {},
   "source": [
    "<b>Zadanie 4.</b> Zaimplementuj funkcje <font color=\"#008c1c\">cross_val_score</font> o następującym nagłówku:"
   ]
  },
  {
   "cell_type": "code",
   "execution_count": 298,
   "id": "806a429b-8129-4520-b041-1573a4f8eae2",
   "metadata": {},
   "outputs": [],
   "source": [
    "def cros_val_score(x: np.ndarray, y: np.ndarray, cv: int) -> list:\n",
    "    pass"
   ]
  },
  {
   "cell_type": "markdown",
   "id": "446861db-5bba-43f7-9e15-dcf988bfe673",
   "metadata": {},
   "source": [
    "Gdzie $x$ to tablica cech, $y$ tablica etykiet, a $cv$ to liczba foldów. Zwrócona lista powinna jako swoje elementy zawierać <font color=\"#008c1c\">accuracy_score</font> dla poszczególnych foldów. Funkcja powinna realizować to samo co funckja <font color=\"#008c1c\">cross_val_score</font> z bilbioteki <font color=\"#008c1c\">sklearn</font>."
   ]
  },
  {
   "cell_type": "code",
   "execution_count": 69,
   "id": "58bbee67-a115-40cb-8bd1-5767aaced452",
   "metadata": {
    "jupyter": {
     "source_hidden": true
    }
   },
   "outputs": [],
   "source": [
    "from IPython.display import display, HTML\n",
    "table3 = '''<style type=\"text/css\">\n",
    ".tg  {border-collapse:collapse;border-spacing:0;}\n",
    ".tg td{border-color:black;border-style:solid;border-width:1px;font-family:Arial, sans-serif;font-size:14px;\n",
    "  overflow:hidden;padding:10px 5px;word-break:normal;}\n",
    ".tg th{border-color:black;border-style:solid;border-width:1px;font-family:Arial, sans-serif;font-size:14px;\n",
    "  font-weight:normal;overflow:hidden;padding:10px 5px;word-break:normal;}\n",
    ".tg .tg-7fle{background-color:#efefef;font-weight:bold;text-align:center;vertical-align:top}\n",
    ".tg .tg-u1yq{background-color:#c0c0c0;font-weight:bold;text-align:center;vertical-align:top}\n",
    "</style>\n",
    "<table class=\"tg\"><thead>\n",
    "  <tr>\n",
    "    <th class=\"tg-u1yq\">Numer wkładu</th>\n",
    "    <th class=\"tg-u1yq\">1</th>\n",
    "    <th class=\"tg-u1yq\">2</th>\n",
    "    <th class=\"tg-u1yq\">3</th>\n",
    "    <th class=\"tg-u1yq\">4</th>\n",
    "    <th class=\"tg-u1yq\">5</th>\n",
    "    <th class=\"tg-u1yq\">6</th>\n",
    "    <th class=\"tg-u1yq\">7</th>\n",
    "    <th class=\"tg-u1yq\">8</th>\n",
    "    <th class=\"tg-u1yq\">9</th>\n",
    "    <th class=\"tg-u1yq\">10</th>\n",
    "    <th class=\"tg-u1yq\">11</th>\n",
    "    <th class=\"tg-u1yq\">12</th>\n",
    "    <th class=\"tg-u1yq\">13</th>\n",
    "    <th class=\"tg-u1yq\">14</th>\n",
    "    <th class=\"tg-u1yq\">15</th>\n",
    "    <th class=\"tg-u1yq\">16</th>\n",
    "  </tr></thead>\n",
    "<tbody>\n",
    "  <tr>\n",
    "    <td class=\"tg-u1yq\">Wartość oczekiwana</td>\n",
    "    <td class=\"tg-7fle\">kot</td>\n",
    "    <td class=\"tg-7fle\">niekot</td>\n",
    "    <td class=\"tg-7fle\">niekot</td>\n",
    "    <td class=\"tg-7fle\">niekot</td>\n",
    "    <td class=\"tg-7fle\">kot</td>\n",
    "    <td class=\"tg-7fle\">kot</td>\n",
    "    <td class=\"tg-7fle\">kot</td>\n",
    "    <td class=\"tg-7fle\">kot</td>\n",
    "    <td class=\"tg-7fle\">kot</td>\n",
    "    <td class=\"tg-7fle\">niekot</td>\n",
    "    <td class=\"tg-7fle\">niekot</td>\n",
    "    <td class=\"tg-7fle\">kot</td>\n",
    "    <td class=\"tg-7fle\">niekot</td>\n",
    "    <td class=\"tg-7fle\">niekot</td>\n",
    "    <td class=\"tg-7fle\">kot</td>\n",
    "    <td class=\"tg-7fle\">niekot</td>\n",
    "  </tr>\n",
    "  <tr>\n",
    "    <td class=\"tg-u1yq\">Wartość zwrócona przez model</td>\n",
    "    <td class=\"tg-7fle\">kot</td>\n",
    "    <td class=\"tg-7fle\">niekot</td>\n",
    "    <td class=\"tg-7fle\">kot</td>\n",
    "    <td class=\"tg-7fle\">niekot</td>\n",
    "    <td class=\"tg-7fle\">niekot</td>\n",
    "    <td class=\"tg-7fle\">kot</td>\n",
    "    <td class=\"tg-7fle\">kot</td>\n",
    "    <td class=\"tg-7fle\">kot</td>\n",
    "    <td class=\"tg-7fle\">kot</td>\n",
    "    <td class=\"tg-7fle\">kot</td>\n",
    "    <td class=\"tg-7fle\">niekot</td>\n",
    "    <td class=\"tg-7fle\">niekot</td>\n",
    "    <td class=\"tg-7fle\">kot</td>\n",
    "    <td class=\"tg-7fle\">kot</td>\n",
    "    <td class=\"tg-7fle\">niekot</td>\n",
    "    <td class=\"tg-7fle\">niekot</td>\n",
    "  </tr>\n",
    "</tbody></table>'''\n",
    "\n",
    "table1 = '''<style type=\"text/css\">\n",
    ".tg  {border-collapse:collapse;border-spacing:0;}\n",
    ".tg td{border-color:black;border-style:solid;border-width:1px;font-family:Arial, sans-serif;font-size:14px;\n",
    "  overflow:hidden;padding:10px 5px;word-break:normal;}\n",
    ".tg th{border-color:black;border-style:solid;border-width:1px;font-family:Arial, sans-serif;font-size:14px;\n",
    "  font-weight:normal;overflow:hidden;padding:10px 5px;word-break:normal;}\n",
    ".tg .tg-abx8{background-color:#c0c0c0;font-weight:bold;text-align:left;vertical-align:top}\n",
    ".tg .tg-k285{background-color:#fd6864;font-weight:bold;text-align:left;vertical-align:top}\n",
    ".tg .tg-zlqz{background-color:#c0c0c0;border-color:inherit;font-weight:bold;text-align:center;vertical-align:top}\n",
    ".tg .tg-51kz{background-color:#009901;border-color:inherit;font-weight:bold;text-align:left;vertical-align:top}\n",
    ".tg .tg-efol{background-color:#c0c0c0;border-color:inherit;font-weight:bold;text-align:center;vertical-align:middle}\n",
    ".tg .tg-jew0{background-color:#fd6864;border-color:inherit;font-weight:bold;text-align:left;vertical-align:top}\n",
    ".tg .tg-0pky{border-color:inherit;text-align:left;vertical-align:top}\n",
    ".tg .tg-yv5q{background-color:#009901;font-weight:bold;text-align:left;vertical-align:top}\n",
    "</style>\n",
    "<table class=\"tg\"><thead>\n",
    "  <tr>\n",
    "    <th class=\"tg-0pky\" colspan=\"2\" rowspan=\"2\"></th>\n",
    "    <th class=\"tg-zlqz\" colspan=\"2\">Wartości przewidziane</th>\n",
    "  </tr>\n",
    "  <tr>\n",
    "    <th class=\"tg-zlqz\">Positive</th>\n",
    "    <th class=\"tg-zlqz\">Negative</th>\n",
    "  </tr></thead>\n",
    "<tbody>\n",
    "  <tr>\n",
    "    <td class=\"tg-efol\" rowspan=\"2\">Wartości <br>oczekiwane</td>\n",
    "    <td class=\"tg-abx8\">Positive</td>\n",
    "    <td class=\"tg-51kz\">True positive (TP)</td>\n",
    "    <td class=\"tg-jew0\">False negative (FN)</td>\n",
    "  </tr>\n",
    "  <tr>\n",
    "    <td class=\"tg-abx8\">Negative</td>\n",
    "    <td class=\"tg-k285\">False positive (FP)</td>\n",
    "    <td class=\"tg-yv5q\">True negative (TN)</td>\n",
    "  </tr>\n",
    "</tbody>\n",
    "</table>'''\n",
    "\n",
    "table2 = '''<style type=\"text/css\">\n",
    ".tg  {border-collapse:collapse;border-spacing:0;}\n",
    ".tg td{border-color:black;border-style:solid;border-width:1px;font-family:Arial, sans-serif;font-size:14px;\n",
    "  overflow:hidden;padding:10px 5px;word-break:normal;}\n",
    ".tg th{border-color:black;border-style:solid;border-width:1px;font-family:Arial, sans-serif;font-size:14px;\n",
    "  font-weight:normal;overflow:hidden;padding:10px 5px;word-break:normal;}\n",
    ".tg .tg-yj5y{background-color:#efefef;border-color:inherit;text-align:center;vertical-align:top}\n",
    ".tg .tg-34fe{background-color:#c0c0c0;border-color:inherit;text-align:center;vertical-align:top}\n",
    ".tg .tg-kftd{background-color:#efefef;text-align:left;vertical-align:top}\n",
    ".tg .tg-y6fn{background-color:#c0c0c0;text-align:left;vertical-align:top}\n",
    "</style>\n",
    "<table class=\"tg\"><thead>\n",
    "  <tr>\n",
    "    <th class=\"tg-34fe\">Numer wkładu</th>\n",
    "    <th class=\"tg-34fe\">1</th>\n",
    "    <th class=\"tg-34fe\">2</th>\n",
    "    <th class=\"tg-34fe\">3</th>\n",
    "    <th class=\"tg-34fe\">4</th>\n",
    "    <th class=\"tg-34fe\">5</th>\n",
    "    <th class=\"tg-34fe\">6</th>\n",
    "    <th class=\"tg-34fe\">7</th>\n",
    "    <th class=\"tg-34fe\">8</th>\n",
    "    <th class=\"tg-34fe\">9</th>\n",
    "    <th class=\"tg-y6fn\">10</th>\n",
    "    <th class=\"tg-y6fn\">11</th>\n",
    "    <th class=\"tg-y6fn\">12</th>\n",
    "  </tr></thead>\n",
    "<tbody>\n",
    "  <tr>\n",
    "    <td class=\"tg-34fe\">Wartość oczekiwana</td>\n",
    "    <td class=\"tg-yj5y\">ptak</td>\n",
    "    <td class=\"tg-yj5y\">nieptak</td>\n",
    "    <td class=\"tg-yj5y\">nieptak</td>\n",
    "    <td class=\"tg-yj5y\">nieptak</td>\n",
    "    <td class=\"tg-yj5y\">ptak</td>\n",
    "    <td class=\"tg-yj5y\">ptak</td>\n",
    "    <td class=\"tg-yj5y\">ptak</td>\n",
    "    <td class=\"tg-yj5y\">nieptak</td>\n",
    "    <td class=\"tg-yj5y\">ptak</td>\n",
    "    <td class=\"tg-kftd\">nieptak</td>\n",
    "    <td class=\"tg-kftd\">nieptak</td>\n",
    "    <td class=\"tg-kftd\">nieptak</td>\n",
    "  </tr>\n",
    "  <tr>\n",
    "    <td class=\"tg-34fe\">Wartość zwrócona przez model</td>\n",
    "    <td class=\"tg-yj5y\">ptak</td>\n",
    "    <td class=\"tg-yj5y\">nieptak</td>\n",
    "    <td class=\"tg-yj5y\">ptak</td>\n",
    "    <td class=\"tg-yj5y\">nieptak</td>\n",
    "    <td class=\"tg-yj5y\">nieptak</td>\n",
    "    <td class=\"tg-yj5y\">ptak</td>\n",
    "    <td class=\"tg-yj5y\">ptak</td>\n",
    "    <td class=\"tg-yj5y\">ptak</td>\n",
    "    <td class=\"tg-yj5y\">nieptak</td>\n",
    "    <td class=\"tg-kftd\">nieptak</td>\n",
    "    <td class=\"tg-kftd\">nieptak</td>\n",
    "    <td class=\"tg-kftd\">nieptak</td>\n",
    "  </tr>\n",
    "  <tr>\n",
    "    <td class=\"tg-34fe\">Klasyfikacja jako</td>\n",
    "    <td class=\"tg-yj5y\">TP</td>\n",
    "    <td class=\"tg-yj5y\">TN</td>\n",
    "    <td class=\"tg-yj5y\">FN</td>\n",
    "    <td class=\"tg-yj5y\">TN</td>\n",
    "    <td class=\"tg-yj5y\">FP</td>\n",
    "    <td class=\"tg-yj5y\">TP</td>\n",
    "    <td class=\"tg-yj5y\">TP</td>\n",
    "    <td class=\"tg-yj5y\">FN</td>\n",
    "    <td class=\"tg-yj5y\">FP</td>\n",
    "    <td class=\"tg-kftd\">TN</td>\n",
    "    <td class=\"tg-kftd\">TN</td>\n",
    "    <td class=\"tg-kftd\">TN</td>\n",
    "  </tr>\n",
    "</tbody></table>'''\n",
    "\n",
    "table4 = '''<style type=\"text/css\">\n",
    ".tg  {border-collapse:collapse;border-spacing:0;}\n",
    ".tg td{border-color:black;border-style:solid;border-width:1px;font-family:Arial, sans-serif;font-size:14px;\n",
    "  overflow:hidden;padding:10px 5px;word-break:normal;}\n",
    ".tg th{border-color:black;border-style:solid;border-width:1px;font-family:Arial, sans-serif;font-size:14px;\n",
    "  font-weight:normal;overflow:hidden;padding:10px 5px;word-break:normal;}\n",
    ".tg .tg-kb39{background-color:#3166ff;font-weight:bold;text-align:left;vertical-align:top}\n",
    ".tg .tg-b3sw{background-color:#efefef;font-weight:bold;text-align:left;vertical-align:top}\n",
    ".tg .tg-exyz{background-color:#fffe65;font-weight:bold;text-align:left;vertical-align:top}\n",
    "</style>\n",
    "<table class=\"tg\"><thead>\n",
    "  <tr>\n",
    "    <th class=\"tg-b3sw\">Iteracja 1</th>\n",
    "    <th class=\"tg-exyz\">valid</th>\n",
    "    <th class=\"tg-kb39\">train</th>\n",
    "    <th class=\"tg-kb39\">train</th>\n",
    "    <th class=\"tg-kb39\">train</th>\n",
    "    <th class=\"tg-kb39\">train</th>\n",
    "    <th class=\"tg-kb39\">train</th>\n",
    "  </tr></thead>\n",
    "<tbody>\n",
    "  <tr>\n",
    "    <td class=\"tg-b3sw\">Iteracja 2</td>\n",
    "    <td class=\"tg-kb39\">train</td>\n",
    "    <td class=\"tg-exyz\">valid</td>\n",
    "    <td class=\"tg-kb39\">train</td>\n",
    "    <td class=\"tg-kb39\">train</td>\n",
    "    <td class=\"tg-kb39\">train</td>\n",
    "    <td class=\"tg-kb39\">train</td>\n",
    "  </tr>\n",
    "  <tr>\n",
    "    <td class=\"tg-b3sw\">Iteracja 3</td>\n",
    "    <td class=\"tg-kb39\">train</td>\n",
    "    <td class=\"tg-kb39\">train</td>\n",
    "    <td class=\"tg-exyz\">valid</td>\n",
    "    <td class=\"tg-kb39\">train</td>\n",
    "    <td class=\"tg-kb39\">train</td>\n",
    "    <td class=\"tg-kb39\">train</td>\n",
    "  </tr>\n",
    "  <tr>\n",
    "    <td class=\"tg-b3sw\">Iteracja 4</td>\n",
    "    <td class=\"tg-kb39\">train</td>\n",
    "    <td class=\"tg-kb39\">train</td>\n",
    "    <td class=\"tg-kb39\">train</td>\n",
    "    <td class=\"tg-exyz\">valid</td>\n",
    "    <td class=\"tg-kb39\">train</td>\n",
    "    <td class=\"tg-kb39\">train</td>\n",
    "  </tr>\n",
    "  <tr>\n",
    "    <td class=\"tg-b3sw\">Iteracja 5</td>\n",
    "    <td class=\"tg-kb39\">train</td>\n",
    "    <td class=\"tg-kb39\">train</td>\n",
    "    <td class=\"tg-kb39\">train</td>\n",
    "    <td class=\"tg-kb39\">train</td>\n",
    "    <td class=\"tg-exyz\">valid</td>\n",
    "    <td class=\"tg-kb39\">train</td>\n",
    "  </tr>\n",
    "  <tr>\n",
    "    <td class=\"tg-b3sw\">Iteracja 6</td>\n",
    "    <td class=\"tg-kb39\">train</td>\n",
    "    <td class=\"tg-kb39\">train</td>\n",
    "    <td class=\"tg-kb39\">train</td>\n",
    "    <td class=\"tg-kb39\">train</td>\n",
    "    <td class=\"tg-kb39\">train</td>\n",
    "    <td class=\"tg-exyz\">valid</td>\n",
    "  </tr>\n",
    "</tbody></table>'''"
   ]
  },
  {
   "cell_type": "code",
   "execution_count": null,
   "id": "47404bf0-53bd-4e04-ba55-57bce5427422",
   "metadata": {},
   "outputs": [],
   "source": []
  }
 ],
 "metadata": {
  "kernelspec": {
   "name": "python3",
   "language": "python",
   "display_name": "Python 3 (ipykernel)"
  },
  "language_info": {
   "codemirror_mode": {
    "name": "ipython",
    "version": 3
   },
   "file_extension": ".py",
   "mimetype": "text/x-python",
   "name": "python",
   "nbconvert_exporter": "python",
   "pygments_lexer": "ipython3",
   "version": "3.12.7"
  }
 },
 "nbformat": 4,
 "nbformat_minor": 5
}
