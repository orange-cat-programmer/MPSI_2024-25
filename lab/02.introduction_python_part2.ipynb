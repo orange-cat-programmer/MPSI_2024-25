{
 "cells": [
  {
   "cell_type": "markdown",
   "metadata": {},
   "source": [
    "## Lab 2: Hello Python!\n",
    "\n",
    "Spis treści:\n",
    "1. Pętle, instrukcje warunkowe \n",
    "2. Wykresy\n",
    "3. Funkcje"
   ]
  },
  {
   "cell_type": "markdown",
   "metadata": {},
   "source": [
    "Zad.1. Napisz program, który odwraca cyfry liczby podanej przez użytkownika. Przykładowo, jeśli użytkownik poda 1234, program powinien wypisać 4321. Program nie może używać `str()`, a jedynie operacje matematyczne i pętlę `while`."
   ]
  },
  {
   "cell_type": "code",
   "execution_count": null,
   "metadata": {},
   "outputs": [],
   "source": [
    "# your code"
   ]
  },
  {
   "cell_type": "markdown",
   "metadata": {},
   "source": [
    "Zad.2. Napisz program, który sprawdzi, czy liczba wprowadzone przez użytkownika jest parzysta, czy nieparzysta.\n",
    "Wykorzystaj instrukcję warunkową i pętlę."
   ]
  },
  {
   "cell_type": "code",
   "execution_count": null,
   "metadata": {},
   "outputs": [],
   "source": [
    "# your code"
   ]
  },
  {
   "cell_type": "markdown",
   "metadata": {},
   "source": [
    "Zad.3. Napisz program, który wczyta zdanie od użytkownika i zliczy, ile słów się w nim znajduje.\n",
    "Za słowo uznajemy ciąg znaków oddzielony spacjami. Pamiętaj, aby pętla mogła obsługiwać różne przypadki (np. dodatkowe spacje)."
   ]
  },
  {
   "cell_type": "code",
   "execution_count": null,
   "metadata": {},
   "outputs": [],
   "source": [
    "# your code"
   ]
  },
  {
   "cell_type": "markdown",
   "metadata": {},
   "source": [
    "Zad.4. Napisz program, który wypisze wszystkie liczby pierwsze od 1 do n, gdzie n wprowadza użytkownik.\n",
    "Program powinien użyć pętli i instrukcji warunkowej do sprawdzenia, czy dana liczba jest liczbą pierwszą."
   ]
  },
  {
   "cell_type": "code",
   "execution_count": null,
   "metadata": {},
   "outputs": [],
   "source": [
    "# your code"
   ]
  },
  {
   "cell_type": "markdown",
   "metadata": {},
   "source": [
    "Zad.5. Napisz program, który narysuje wykres funkcji kwadratowej $y = ax^2 + bx +c $, gdzie użytkownik wprowadza wartości dla $a, b$ i $c$. Na osi X weź wartości od -10 do 10."
   ]
  },
  {
   "cell_type": "code",
   "execution_count": null,
   "metadata": {},
   "outputs": [],
   "source": [
    "# your code"
   ]
  },
  {
   "cell_type": "markdown",
   "metadata": {},
   "source": [
    "Zad.6. Napisz funkcję, która dla danego wektora $x$ narysuje wykres $f(x) = 2\\sin(x)$. Zadbaj o czytelność wykresu (opis osi, legenda, tytuł wykresu). Użyj funkcji: plot, xlabel, ylabel, title, legend."
   ]
  },
  {
   "cell_type": "code",
   "execution_count": null,
   "metadata": {},
   "outputs": [],
   "source": [
    "# your code"
   ]
  },
  {
   "cell_type": "markdown",
   "metadata": {},
   "source": [
    "Zad. 7. Narysuj okrąg w układzie współrzędnych biegunowych o zadanym środku $(x0, y0)$ i promieniu $r$."
   ]
  },
  {
   "cell_type": "code",
   "execution_count": null,
   "metadata": {},
   "outputs": [],
   "source": [
    "# your code"
   ]
  },
  {
   "cell_type": "markdown",
   "metadata": {},
   "source": [
    "Zad.8. \n",
    "\n",
    "1. Zdefiniuj funkcję $ f(x) = \\sin(x) $.\n",
    "2. Zdefiniuj funkcję $ g(x) = x - \\frac{x^3}{3!} + \\frac{x^5}{5!} $, będącą przybliżeniem $ \\sin(x) $ (rozwinięcie Taylora).\n",
    "3. Narysuj obie funkcje na jednym wykresie w przedziale $ x \\in [-2\\pi, 2\\pi] $.\n",
    "4. Użyj `matplotlib` do rysowania wykresów, wyróżniając obie funkcje różnymi kolorami i stylami linii.\n"
   ]
  },
  {
   "cell_type": "code",
   "execution_count": null,
   "metadata": {},
   "outputs": [],
   "source": [
    "# your code"
   ]
  },
  {
   "cell_type": "markdown",
   "metadata": {},
   "source": [
    "Zad 9. Napisz program w Pythonie, który znajduje wszystkie liczby naturalne od 1 do 1000, które spełniają jednocześnie następujące warunki:\n",
    "\n",
    "- Są liczbami pierwszymi.\n",
    "- Ich cyfry w systemie dziesiętnym tworzą rosnący ciąg arytmetyczny.\n",
    "- Liczba cyfr tej liczby jest liczbą pierwszą.\n",
    "- Suma cyfr tej liczby jest podzielna przez liczbę jej cyfr.\n",
    "- Program powinien zwrócić listę takich liczb."
   ]
  },
  {
   "cell_type": "code",
   "execution_count": 1,
   "metadata": {},
   "outputs": [],
   "source": [
    "# your code"
   ]
  },
  {
   "cell_type": "markdown",
   "metadata": {},
   "source": [
    "Zad. 10. Zaimplementuj funkcję `tajemnicza_funkcja(n: int) -> int`, która dla dowolnej liczby naturalnej $n$ spełnia następujące warunki:\n",
    "\n",
    "1. Funkcja zwraca liczbę, która jest iloczynem wszystkich unikalnych dzielników pierwszych liczby $n$.\n",
    "2. Jeśli $n$ jest liczbą pierwszą, funkcja zwraca $2n+1.$\n",
    "3. Jeśli $n$ jest potęgą liczby pierwszej, funkcja zwraca $n+$ najmniejszy dzielnik większy od 1.\n",
    "4. Jeśli $n$ jest liczbą doskonałą, funkcja zwraca sumę cyfr $n$ pomnożoną przez największy dzielnik $n$ mniejszy od $n$.\n"
   ]
  },
  {
   "cell_type": "code",
   "execution_count": null,
   "metadata": {},
   "outputs": [],
   "source": [
    "# your code"
   ]
  }
 ],
 "metadata": {
  "kernelspec": {
   "display_name": "ml",
   "language": "python",
   "name": "python3"
  },
  "language_info": {
   "codemirror_mode": {
    "name": "ipython",
    "version": 3
   },
   "file_extension": ".py",
   "mimetype": "text/x-python",
   "name": "python",
   "nbconvert_exporter": "python",
   "pygments_lexer": "ipython3",
   "version": "3.10.13"
  }
 },
 "nbformat": 4,
 "nbformat_minor": 2
}
