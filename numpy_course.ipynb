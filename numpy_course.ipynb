{
 "cells": [
  {
   "cell_type": "code",
   "execution_count": 35,
   "id": "initial_id",
   "metadata": {
    "collapsed": true,
    "ExecuteTime": {
     "end_time": "2025-03-04T23:36:44.318739Z",
     "start_time": "2025-03-04T23:36:44.308745Z"
    }
   },
   "outputs": [],
   "source": [
    "import numpy as np"
   ]
  },
  {
   "cell_type": "code",
   "outputs": [
    {
     "name": "stdout",
     "output_type": "stream",
     "text": [
      "[1 2 3 4 5 6]\n"
     ]
    }
   ],
   "source": [
    "a = np.arange(start=1, stop=7, step=1, dtype=int)\n",
    "print(a)"
   ],
   "metadata": {
    "collapsed": false,
    "ExecuteTime": {
     "end_time": "2025-03-04T23:36:42.565418Z",
     "start_time": "2025-03-04T23:36:42.544407Z"
    }
   },
   "id": "858158651ed104ca",
   "execution_count": 34
  },
  {
   "cell_type": "code",
   "outputs": [
    {
     "name": "stdout",
     "output_type": "stream",
     "text": [
      "1.0310645020574e-311\n",
      "0\n",
      "0.0\n",
      "1\n",
      "5e-324\n",
      "2\n"
     ]
    }
   ],
   "source": [
    "v = np.empty(3)\n",
    "for itr in np.ndindex(v.shape):\n",
    "    print(v[itr])\n",
    "    print(itr[0])"
   ],
   "metadata": {
    "collapsed": false,
    "ExecuteTime": {
     "end_time": "2025-03-04T23:36:28.255471Z",
     "start_time": "2025-03-04T23:36:28.239470Z"
    }
   },
   "id": "9e300431c27f1a9d",
   "execution_count": 33
  },
  {
   "cell_type": "code",
   "outputs": [
    {
     "name": "stdout",
     "output_type": "stream",
     "text": [
      "14\n"
     ]
    }
   ],
   "source": [
    "v = np.array([1,2,3])\n",
    "w = np.array([1,2,3])\n",
    "print(v.dot(w))"
   ],
   "metadata": {
    "collapsed": false,
    "ExecuteTime": {
     "end_time": "2025-03-04T23:36:23.051686Z",
     "start_time": "2025-03-04T23:36:23.032683Z"
    }
   },
   "id": "6327d270f7734e2e",
   "execution_count": 32
  },
  {
   "cell_type": "code",
   "outputs": [
    {
     "name": "stdout",
     "output_type": "stream",
     "text": [
      "['bread', 'soy milk', 'eggs', 'cheese']\n"
     ]
    }
   ],
   "source": [
    "shopping_list = [\"bread\", \"milk\", \"eggs\", \"butter\"]\n",
    "shopping_list.append(\"cheese\")\n",
    "shopping_list = [obj for obj in shopping_list if obj != \"butter\"]\n",
    "arr = np.array(shopping_list)\n",
    "def f(x):\n",
    "    if x==\"milk\":\n",
    "        return \"soy milk\"\n",
    "    else:\n",
    "        return x\n",
    "f = np.vectorize(f)\n",
    "arr = f(arr)\n",
    "shopping_list = list(arr)\n",
    "print(shopping_list)"
   ],
   "metadata": {
    "collapsed": false,
    "ExecuteTime": {
     "end_time": "2025-03-04T23:36:19.313085Z",
     "start_time": "2025-03-04T23:36:19.303999Z"
    }
   },
   "id": "442b5957a537f275",
   "execution_count": 31
  },
  {
   "cell_type": "code",
   "outputs": [
    {
     "name": "stdout",
     "output_type": "stream",
     "text": [
      "['bread', 'soy milk', 'eggs', 'cheese']\n"
     ]
    }
   ],
   "source": [
    "shopping_list = [\"bread\", \"milk\", \"eggs\", \"butter\"]\n",
    "shopping_list.append(\"cheese\")\n",
    "shopping_list = [obj for obj in shopping_list if obj != \"butter\"]\n",
    "dict_1 = {'milk':'soy milk'}\n",
    "shopping_list = list(map(lambda x: dict_1.get(x,x), shopping_list))\n",
    "print(shopping_list)"
   ],
   "metadata": {
    "collapsed": false,
    "ExecuteTime": {
     "end_time": "2025-03-04T23:36:18.096702Z",
     "start_time": "2025-03-04T23:36:18.079518Z"
    }
   },
   "id": "3b906cadd47e0d78",
   "execution_count": 30
  },
  {
   "cell_type": "code",
   "outputs": [
    {
     "name": "stdout",
     "output_type": "stream",
     "text": [
      "2\n"
     ]
    }
   ],
   "source": [
    "d = dict([(1,2), (2,3)])\n",
    "print(d[1])"
   ],
   "metadata": {
    "collapsed": false,
    "ExecuteTime": {
     "end_time": "2025-03-04T23:36:16.068739Z",
     "start_time": "2025-03-04T23:36:16.062738Z"
    }
   },
   "id": "e54aa78220fcd6d2",
   "execution_count": 29
  }
 ],
 "metadata": {
  "kernelspec": {
   "display_name": "Python 3",
   "language": "python",
   "name": "python3"
  },
  "language_info": {
   "codemirror_mode": {
    "name": "ipython",
    "version": 2
   },
   "file_extension": ".py",
   "mimetype": "text/x-python",
   "name": "python",
   "nbconvert_exporter": "python",
   "pygments_lexer": "ipython2",
   "version": "2.7.6"
  }
 },
 "nbformat": 4,
 "nbformat_minor": 5
}
