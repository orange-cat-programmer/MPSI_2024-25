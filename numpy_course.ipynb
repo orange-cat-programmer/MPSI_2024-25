{
 "cells": [
  {
   "cell_type": "code",
   "execution_count": 3,
   "id": "initial_id",
   "metadata": {
    "collapsed": true,
    "ExecuteTime": {
     "end_time": "2025-03-05T20:22:25.168835Z",
     "start_time": "2025-03-05T20:22:24.925670Z"
    }
   },
   "outputs": [],
   "source": [
    "import numpy as np"
   ]
  },
  {
   "cell_type": "code",
   "outputs": [
    {
     "name": "stdout",
     "output_type": "stream",
     "text": [
      "[1 2 3 4 5 6]\n"
     ]
    }
   ],
   "source": [
    "a = np.arange(start=1, stop=7, step=1, dtype=int)\n",
    "print(a)"
   ],
   "metadata": {
    "collapsed": false,
    "ExecuteTime": {
     "end_time": "2025-03-04T23:36:42.565418Z",
     "start_time": "2025-03-04T23:36:42.544407Z"
    }
   },
   "id": "858158651ed104ca",
   "execution_count": 34
  },
  {
   "cell_type": "code",
   "outputs": [
    {
     "name": "stdout",
     "output_type": "stream",
     "text": [
      "1.0310645020574e-311\n",
      "0\n",
      "0.0\n",
      "1\n",
      "5e-324\n",
      "2\n"
     ]
    }
   ],
   "source": [
    "v = np.empty(3)\n",
    "for itr in np.ndindex(v.shape):\n",
    "    print(v[itr])\n",
    "    print(itr[0])"
   ],
   "metadata": {
    "collapsed": false,
    "ExecuteTime": {
     "end_time": "2025-03-04T23:36:28.255471Z",
     "start_time": "2025-03-04T23:36:28.239470Z"
    }
   },
   "id": "9e300431c27f1a9d",
   "execution_count": 33
  },
  {
   "cell_type": "code",
   "outputs": [
    {
     "name": "stdout",
     "output_type": "stream",
     "text": [
      "14\n"
     ]
    }
   ],
   "source": [
    "v = np.array([1,2,3])\n",
    "w = np.array([1,2,3])\n",
    "print(v.dot(w))"
   ],
   "metadata": {
    "collapsed": false,
    "ExecuteTime": {
     "end_time": "2025-03-04T23:36:23.051686Z",
     "start_time": "2025-03-04T23:36:23.032683Z"
    }
   },
   "id": "6327d270f7734e2e",
   "execution_count": 32
  },
  {
   "cell_type": "code",
   "outputs": [
    {
     "name": "stdout",
     "output_type": "stream",
     "text": [
      "['bread', 'soy milk', 'eggs', 'cheese']\n"
     ]
    }
   ],
   "source": [
    "shopping_list = [\"bread\", \"milk\", \"eggs\", \"butter\"]\n",
    "shopping_list.append(\"cheese\")\n",
    "shopping_list = [obj for obj in shopping_list if obj != \"butter\"]\n",
    "arr = np.array(shopping_list)\n",
    "def f(x):\n",
    "    if x==\"milk\":\n",
    "        return \"soy milk\"\n",
    "    else:\n",
    "        return x\n",
    "f = np.vectorize(f)\n",
    "arr = f(arr)\n",
    "shopping_list = list(arr)\n",
    "print(shopping_list)"
   ],
   "metadata": {
    "collapsed": false,
    "ExecuteTime": {
     "end_time": "2025-03-04T23:36:19.313085Z",
     "start_time": "2025-03-04T23:36:19.303999Z"
    }
   },
   "id": "442b5957a537f275",
   "execution_count": 31
  },
  {
   "cell_type": "code",
   "outputs": [
    {
     "name": "stdout",
     "output_type": "stream",
     "text": [
      "['bread', 'soy milk', 'eggs', 'cheese']\n"
     ]
    }
   ],
   "source": [
    "shopping_list = [\"bread\", \"milk\", \"eggs\", \"butter\"]\n",
    "shopping_list.append(\"cheese\")\n",
    "shopping_list = [obj for obj in shopping_list if obj != \"butter\"]\n",
    "dict_1 = {'milk':'soy milk'}\n",
    "shopping_list = list(map(lambda x: dict_1.get(x,x), shopping_list))\n",
    "print(shopping_list)"
   ],
   "metadata": {
    "collapsed": false,
    "ExecuteTime": {
     "end_time": "2025-03-04T23:36:18.096702Z",
     "start_time": "2025-03-04T23:36:18.079518Z"
    }
   },
   "id": "3b906cadd47e0d78",
   "execution_count": 30
  },
  {
   "cell_type": "code",
   "outputs": [
    {
     "name": "stdout",
     "output_type": "stream",
     "text": [
      "2\n"
     ]
    }
   ],
   "source": [
    "d = dict([(1,2), (2,3)])\n",
    "print(d[1])"
   ],
   "metadata": {
    "collapsed": false,
    "ExecuteTime": {
     "end_time": "2025-03-04T23:36:16.068739Z",
     "start_time": "2025-03-04T23:36:16.062738Z"
    }
   },
   "id": "e54aa78220fcd6d2",
   "execution_count": 29
  },
  {
   "cell_type": "code",
   "outputs": [
    {
     "name": "stdout",
     "output_type": "stream",
     "text": [
      "[1 2 3 4 5 6]\n"
     ]
    }
   ],
   "source": [
    "a = np.arange(1,7,1,dtype=int)\n",
    "print(a)"
   ],
   "metadata": {
    "collapsed": false,
    "ExecuteTime": {
     "end_time": "2025-03-05T20:23:08.211894Z",
     "start_time": "2025-03-05T20:23:08.196918Z"
    }
   },
   "id": "cf315bc2b4b85bd4",
   "execution_count": 7
  },
  {
   "cell_type": "code",
   "outputs": [
    {
     "name": "stdout",
     "output_type": "stream",
     "text": [
      "[[1]\n",
      " [2]\n",
      " [3]\n",
      " [4]\n",
      " [5]\n",
      " [6]]\n"
     ]
    }
   ],
   "source": [
    "b = np.expand_dims(a, axis=1)\n",
    "print(b)"
   ],
   "metadata": {
    "collapsed": false,
    "ExecuteTime": {
     "end_time": "2025-03-05T20:40:31.588254Z",
     "start_time": "2025-03-05T20:40:31.584253Z"
    }
   },
   "id": "c072853201b839c",
   "execution_count": 10
  },
  {
   "cell_type": "code",
   "outputs": [
    {
     "name": "stdout",
     "output_type": "stream",
     "text": [
      "1806215066128\n",
      "[[13 14 15 16]]\n",
      "[[ 1  2  3  4]\n",
      " [ 5  6  7  8]\n",
      " [ 9 10 11 12]\n",
      " [13 14 15 16]]\n",
      "1806214725328\n"
     ]
    }
   ],
   "source": [
    "a = np.array([[1,2,3,4],[5,6,7,8],[9,10,11,12]])\n",
    "print(id(a))\n",
    "b = np.array([13,14,15,16])\n",
    "b = np.expand_dims(b, axis=0)\n",
    "print(b)\n",
    "a = np.concatenate((a,b),axis = 0)\n",
    "print(a)\n",
    "print(id(a))"
   ],
   "metadata": {
    "collapsed": false,
    "ExecuteTime": {
     "end_time": "2025-03-05T20:52:20.082350Z",
     "start_time": "2025-03-05T20:52:20.061318Z"
    }
   },
   "id": "3f020722b46a22fb",
   "execution_count": 17
  },
  {
   "cell_type": "code",
   "outputs": [
    {
     "name": "stdout",
     "output_type": "stream",
     "text": [
      "[[ 1  2  3  4 10 11 12 13 14 15 16]]\n"
     ]
    }
   ],
   "source": [
    "c = a[(a>=10) | (a<5)]\n",
    "c = np.expand_dims(c,axis = 0)\n",
    "print(c)"
   ],
   "metadata": {
    "collapsed": false,
    "ExecuteTime": {
     "end_time": "2025-03-05T20:54:52.172111Z",
     "start_time": "2025-03-05T20:54:52.153045Z"
    }
   },
   "id": "b35de9b484c6a441",
   "execution_count": 25
  },
  {
   "cell_type": "code",
   "outputs": [
    {
     "name": "stdout",
     "output_type": "stream",
     "text": [
      "[[False False False False]\n",
      " [ True  True  True  True]\n",
      " [ True  True  True  True]\n",
      " [ True  True  True  True]]\n"
     ]
    }
   ],
   "source": [
    "def five_up(x):\n",
    "    if x>=5:\n",
    "        return True\n",
    "    else:\n",
    "        return False\n",
    "five_up = np.vectorize(five_up)\n",
    "print(five_up(a))"
   ],
   "metadata": {
    "collapsed": false,
    "ExecuteTime": {
     "end_time": "2025-03-05T20:56:20.108167Z",
     "start_time": "2025-03-05T20:56:20.090633Z"
    }
   },
   "id": "7b9fce3d4f173265",
   "execution_count": 26
  },
  {
   "cell_type": "code",
   "outputs": [
    {
     "name": "stdout",
     "output_type": "stream",
     "text": [
      "[2]\n"
     ]
    }
   ],
   "source": [
    "arr_1 = np.array([1,2,3])\n",
    "arr_2 = np.array([False, True, False])\n",
    "arr_3 = arr_1[arr_2]\n",
    "print(arr_3)"
   ],
   "metadata": {
    "collapsed": false,
    "ExecuteTime": {
     "end_time": "2025-03-05T20:57:43.911748Z",
     "start_time": "2025-03-05T20:57:43.895546Z"
    }
   },
   "id": "61ca18ed477c53d0",
   "execution_count": 28
  },
  {
   "cell_type": "code",
   "outputs": [
    {
     "name": "stdout",
     "output_type": "stream",
     "text": [
      "[[3 4 5]\n",
      " [4 5 6]]\n",
      "(array([0, 1, 1], dtype=int64), array([2, 1, 2], dtype=int64))\n"
     ]
    }
   ],
   "source": [
    "example = np.empty((2,3), dtype=int)\n",
    "for itr in np.ndindex(example.shape):\n",
    "    example[itr] = sum(itr)+3\n",
    "print(example)\n",
    "non_zero = np.nonzero(five_up(example))\n",
    "print(non_zero)"
   ],
   "metadata": {
    "collapsed": false,
    "ExecuteTime": {
     "end_time": "2025-03-05T21:08:19.502312Z",
     "start_time": "2025-03-05T21:08:19.487737Z"
    }
   },
   "id": "c4c3c0eae6e0b88d",
   "execution_count": 33
  },
  {
   "cell_type": "code",
   "outputs": [
    {
     "name": "stdout",
     "output_type": "stream",
     "text": [
      "(0, 2)\n",
      "(1, 1)\n",
      "(1, 2)\n",
      "[5 5 6]\n"
     ]
    }
   ],
   "source": [
    "list_of_coordinates = list(zip(non_zero[0], non_zero[1]))\n",
    "for coord in list_of_coordinates:\n",
    "    print(coord)\n",
    "print(example[non_zero])"
   ],
   "metadata": {
    "collapsed": false,
    "ExecuteTime": {
     "end_time": "2025-03-05T21:09:55.487994Z",
     "start_time": "2025-03-05T21:09:55.468883Z"
    }
   },
   "id": "9ebb86633cd3d269",
   "execution_count": 36
  },
  {
   "cell_type": "code",
   "outputs": [
    {
     "name": "stdout",
     "output_type": "stream",
     "text": [
      "[[1 1 3 3]\n",
      " [2 2 4 4]]\n"
     ]
    }
   ],
   "source": [
    "a1 = np.array([[1,1], [2,2]])\n",
    "a2 = np.array([[3,3],[4,4]])\n",
    "a3 = np.concatenate((a1,a2),axis=1)\n",
    "print(a3)"
   ],
   "metadata": {
    "collapsed": false,
    "ExecuteTime": {
     "end_time": "2025-03-05T21:17:42.957278Z",
     "start_time": "2025-03-05T21:17:42.939669Z"
    }
   },
   "id": "5af5801160f24dd",
   "execution_count": 43
  },
  {
   "cell_type": "markdown",
   "source": [
    "dla miauczki ♥"
   ],
   "metadata": {
    "collapsed": false
   },
   "id": "60e4f18f6aee16b1"
  },
  {
   "cell_type": "code",
   "outputs": [
    {
     "name": "stdout",
     "output_type": "stream",
     "text": [
      "9.32392550506268\n",
      "9.323925505062679\n"
     ]
    }
   ],
   "source": [
    "a_random = np.random.normal(loc=0.0, scale=10, size=100)\n",
    "print(np.std(a_random))\n",
    "print(((sum((a_random-np.mean(a_random))*(a_random-np.mean(a_random)))/100)**0.5))"
   ],
   "metadata": {
    "collapsed": false,
    "ExecuteTime": {
     "end_time": "2025-03-05T22:47:45.302776Z",
     "start_time": "2025-03-05T22:47:45.289768Z"
    }
   },
   "id": "1d6ac3cd2b40a785",
   "execution_count": 59
  },
  {
   "cell_type": "code",
   "outputs": [
    {
     "name": "stdout",
     "output_type": "stream",
     "text": [
      "47.6\n"
     ]
    }
   ],
   "source": [
    "meow = np.random.randint(low=1, high=100, size=(4,5))\n",
    "print(np.mean(meow))"
   ],
   "metadata": {
    "collapsed": false,
    "ExecuteTime": {
     "end_time": "2025-03-05T23:02:06.240809Z",
     "start_time": "2025-03-05T23:02:06.229700Z"
    }
   },
   "id": "51d126d953fe1c8",
   "execution_count": 70
  },
  {
   "cell_type": "code",
   "outputs": [
    {
     "name": "stdout",
     "output_type": "stream",
     "text": [
      "2\n"
     ]
    }
   ],
   "source": [
    "print(meow.ndim)"
   ],
   "metadata": {
    "collapsed": false,
    "ExecuteTime": {
     "end_time": "2025-03-05T23:14:01.428750Z",
     "start_time": "2025-03-05T23:14:01.414840Z"
    }
   },
   "id": "3d6dcc6684319348",
   "execution_count": 73
  },
  {
   "cell_type": "code",
   "outputs": [],
   "source": [
    "import matplotlib.pyplot as plt"
   ],
   "metadata": {
    "collapsed": false,
    "ExecuteTime": {
     "end_time": "2025-03-05T23:24:24.847501Z",
     "start_time": "2025-03-05T23:24:24.123927Z"
    }
   },
   "id": "97e5ea97c94bab4d",
   "execution_count": 74
  },
  {
   "cell_type": "code",
   "outputs": [
    {
     "name": "stdout",
     "output_type": "stream",
     "text": [
      "1.0101010101010102\n"
     ]
    },
    {
     "data": {
      "text/plain": "<Figure size 640x480 with 1 Axes>",
      "image/png": "[encoded data removed]"
     },
     "metadata": {},
     "output_type": "display_data"
    }
   ],
   "source": [
    "x = np.linspace(0,100,100)\n",
    "y = np.square(np.sin(x)) + 1\n",
    "plt.plot(x,y,'o')\n",
    "print(x[1])"
   ],
   "metadata": {
    "collapsed": false,
    "ExecuteTime": {
     "end_time": "2025-03-05T23:27:42.250067Z",
     "start_time": "2025-03-05T23:27:42.154874Z"
    }
   },
   "id": "822fd0f9157d2497",
   "execution_count": 81
  }
 ],
 "metadata": {
  "kernelspec": {
   "display_name": "Python 3",
   "language": "python",
   "name": "python3"
  },
  "language_info": {
   "codemirror_mode": {
    "name": "ipython",
    "version": 2
   },
   "file_extension": ".py",
   "mimetype": "text/x-python",
   "name": "python",
   "nbconvert_exporter": "python",
   "pygments_lexer": "ipython2",
   "version": "2.7.6"
  }
 },
 "nbformat": 4,
 "nbformat_minor": 5
}
