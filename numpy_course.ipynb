{
 "cells": [
  {
   "cell_type": "code",
   "execution_count": 1,
   "id": "initial_id",
   "metadata": {
    "collapsed": true,
    "ExecuteTime": {
     "end_time": "2025-03-04T22:38:13.029766Z",
     "start_time": "2025-03-04T22:38:12.879541Z"
    }
   },
   "outputs": [],
   "source": [
    "import numpy as np"
   ]
  },
  {
   "cell_type": "code",
   "outputs": [
    {
     "name": "stdout",
     "output_type": "stream",
     "text": [
      "[1 2 3 4 5 6]\n"
     ]
    }
   ],
   "source": [
    "a = np.arange(start=1, stop=7, step=1, dtype=int)\n",
    "print(a)"
   ],
   "metadata": {
    "collapsed": false,
    "ExecuteTime": {
     "end_time": "2025-03-02T14:23:49.300790Z",
     "start_time": "2025-03-02T14:23:49.283608Z"
    }
   },
   "id": "858158651ed104ca",
   "execution_count": 7
  },
  {
   "cell_type": "code",
   "outputs": [
    {
     "name": "stdout",
     "output_type": "stream",
     "text": [
      "[1]\n"
     ]
    }
   ],
   "source": [
    "b = a[:3:6]\n",
    "print(b)"
   ],
   "metadata": {
    "collapsed": false,
    "ExecuteTime": {
     "end_time": "2025-03-02T14:24:38.831697Z",
     "start_time": "2025-03-02T14:24:38.820706Z"
    }
   },
   "id": "811673c7d9e9f2a0",
   "execution_count": 9
  },
  {
   "cell_type": "code",
   "outputs": [
    {
     "name": "stdout",
     "output_type": "stream",
     "text": [
      "1.0310645020574e-311\n",
      "0\n",
      "0.0\n",
      "1\n",
      "5e-324\n",
      "2\n"
     ]
    }
   ],
   "source": [
    "v = np.empty(3)\n",
    "for itr in np.ndindex(v.shape):\n",
    "    print(v[itr])\n",
    "    print(itr[0])"
   ],
   "metadata": {
    "collapsed": false,
    "ExecuteTime": {
     "end_time": "2025-03-04T22:39:43.105173Z",
     "start_time": "2025-03-04T22:39:43.086169Z"
    }
   },
   "id": "9e300431c27f1a9d",
   "execution_count": 6
  },
  {
   "cell_type": "code",
   "outputs": [
    {
     "name": "stdout",
     "output_type": "stream",
     "text": [
      "14\n"
     ]
    }
   ],
   "source": [
    "v = np.array([1,2,3])\n",
    "w = np.array([1,2,3])\n",
    "print(v.dot(w))"
   ],
   "metadata": {
    "collapsed": false,
    "ExecuteTime": {
     "end_time": "2025-03-04T22:45:13.283193Z",
     "start_time": "2025-03-04T22:45:13.271210Z"
    }
   },
   "id": "6327d270f7734e2e",
   "execution_count": 12
  },
  {
   "cell_type": "code",
   "outputs": [
    {
     "name": "stdout",
     "output_type": "stream",
     "text": [
      "['bread', 'soy milk', 'eggs', 'cheese']\n"
     ]
    }
   ],
   "source": [
    "shopping_list = [\"bread\", \"milk\", \"eggs\", \"butter\"]\n",
    "shopping_list.append(\"cheese\")\n",
    "shopping_list = [obj for obj in shopping_list if obj != \"butter\"]\n",
    "arr = np.array(shopping_list)\n",
    "def f(x):\n",
    "    if x==\"milk\":\n",
    "        return \"soy milk\"\n",
    "    else:\n",
    "        return x\n",
    "f = np.vectorize(f)\n",
    "arr = f(arr)\n",
    "shopping_list = list(arr)\n",
    "print(shopping_list)"
   ],
   "metadata": {
    "collapsed": false,
    "ExecuteTime": {
     "end_time": "2025-03-04T23:32:04.203609Z",
     "start_time": "2025-03-04T23:32:04.191612Z"
    }
   },
   "id": "442b5957a537f275",
   "execution_count": 22
  },
  {
   "cell_type": "code",
   "outputs": [
    {
     "name": "stdout",
     "output_type": "stream",
     "text": [
      "['bread', 'soy milk', 'eggs', 'cheese']\n"
     ]
    }
   ],
   "source": [
    "shopping_list = [\"bread\", \"milk\", \"eggs\", \"butter\"]\n",
    "shopping_list.append(\"cheese\")\n",
    "shopping_list = [obj for obj in shopping_list if obj != \"butter\"]\n",
    "dict_1 = {'milk':'soy milk'}\n",
    "shopping_list = list(map(lambda x: dict_1.get(x,x), shopping_list))\n",
    "print(shopping_list)"
   ],
   "metadata": {
    "collapsed": false,
    "ExecuteTime": {
     "end_time": "2025-03-04T23:23:40.942880Z",
     "start_time": "2025-03-04T23:23:40.931880Z"
    }
   },
   "id": "3b906cadd47e0d78",
   "execution_count": 18
  },
  {
   "cell_type": "code",
   "outputs": [
    {
     "name": "stdout",
     "output_type": "stream",
     "text": [
      "2\n"
     ]
    }
   ],
   "source": [
    "del dict \n",
    "d = dict([(1,2), (2,3)])\n",
    "print(d[1])"
   ],
   "metadata": {
    "collapsed": false,
    "ExecuteTime": {
     "end_time": "2025-03-04T23:26:59.131824Z",
     "start_time": "2025-03-04T23:26:59.126822Z"
    }
   },
   "id": "e54aa78220fcd6d2",
   "execution_count": 21
  },
  {
   "cell_type": "code",
   "outputs": [],
   "source": [],
   "metadata": {
    "collapsed": false
   },
   "id": "2d4c9d78921a2d4a"
  }
 ],
 "metadata": {
  "kernelspec": {
   "display_name": "Python 3",
   "language": "python",
   "name": "python3"
  },
  "language_info": {
   "codemirror_mode": {
    "name": "ipython",
    "version": 2
   },
   "file_extension": ".py",
   "mimetype": "text/x-python",
   "name": "python",
   "nbconvert_exporter": "python",
   "pygments_lexer": "ipython2",
   "version": "2.7.6"
  }
 },
 "nbformat": 4,
 "nbformat_minor": 5
}
