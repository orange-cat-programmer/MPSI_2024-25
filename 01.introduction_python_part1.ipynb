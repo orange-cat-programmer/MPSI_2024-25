{
 "cells": [
  {
   "cell_type": "markdown",
   "metadata": {},
   "source": [
    "## Lab 1: Hello Python!\n",
    "\n",
    "Spis treści:\n",
    "1. Operacje arytmetyczne \n",
    "2. Wektory i zmienne\n",
    "3. Mutowalne i niemutowalne typy danych"
   ]
  },
  {
   "cell_type": "markdown",
   "metadata": {},
   "source": [
    "### 1. Operacje arytmetyczne"
   ]
  },
  {
   "cell_type": "code",
   "execution_count": 1,
   "metadata": {
    "ExecuteTime": {
     "end_time": "2025-03-04T22:19:59.217419Z",
     "start_time": "2025-03-04T22:19:59.201021Z"
    }
   },
   "outputs": [
    {
     "name": "stdout",
     "output_type": "stream",
     "text": [
      "14\n",
      "144\n",
      "6.0\n",
      "-12\n",
      "2\n",
      "2\n",
      "3\n"
     ]
    }
   ],
   "source": [
    "a = 12\n",
    "b = 2\n",
    "\n",
    "print(a + b)\n",
    "print(a**b)\n",
    "print(a/b)\n",
    "print(a * (-1))\n",
    "print(round(b+0.3))\n",
    "print(round(b+0.5))\n",
    "print(round(b+0.8))"
   ]
  },
  {
   "cell_type": "markdown",
   "metadata": {},
   "source": [
    "Podstawowy pradnik/instruktaż korzystania z biblioteki Numpy: https://numpy.org/devdocs/user/absolute_beginners.html"
   ]
  },
  {
   "cell_type": "code",
   "execution_count": null,
   "metadata": {},
   "outputs": [],
   "source": [
    "import numpy as np \n",
    "#Examples: \n",
    "# mathematical constants\n",
    "print(np.pi)\n",
    "print(np.e)\n",
    "\n",
    "# trignometric functions\n",
    "angle = np.pi/4\n",
    "print(np.sin(angle))\n",
    "print(np.cos(angle))\n",
    "print(np.tan(angle))\n",
    "\n",
    "#metrices\n",
    "simple_matrix = np.array([[1,2,3],\n",
    "                          [4,5,6],\n",
    "                          [7,8,9]])\n",
    "print(simple_matrix.shape)\n",
    "\n"
   ]
  },
  {
   "cell_type": "markdown",
   "metadata": {},
   "source": [
    "Zad.1. Napisz program, który prosi użytkownika o podanie promienia koła, a następnie oblicza i wyświetla jego pole."
   ]
  },
  {
   "cell_type": "code",
   "execution_count": null,
   "metadata": {},
   "outputs": [],
   "source": [
    "import numpy as np\n",
    "radius = float(input(\"Enter the radius:\"))\n",
    "area = radius * radius * np.pi \n",
    "print(f\"The area of the disk is {area}\")"
   ]
  },
  {
   "cell_type": "markdown",
   "metadata": {},
   "source": [
    "Zad.2. Napisz program, który prosi użytkownika o podanie liczby i sprawdza, czy jest ona parzysta czy nieparzysta."
   ]
  },
  {
   "cell_type": "code",
   "execution_count": null,
   "metadata": {},
   "outputs": [],
   "source": [
    "number = int(input(\"Enter an integer number:\"))\n",
    "test = number%2==0\n",
    "if test:\n",
    "    print(\"The number is even\")\n",
    "else:\n",
    "    print(\"The number is odd\")"
   ]
  },
  {
   "cell_type": "markdown",
   "metadata": {},
   "source": [
    "Zad.3. Napisz program, który pobiera liczbę od użytkownika i wypisuje jej tabliczkę mnożenia od 1 do 10."
   ]
  },
  {
   "cell_type": "code",
   "execution_count": null,
   "metadata": {},
   "outputs": [],
   "source": [
    "number = int(input(\"Enter an integer number:\"))\n",
    "for i in range (1,11):\n",
    "    print(number*i)"
   ]
  },
  {
   "cell_type": "markdown",
   "metadata": {},
   "source": [
    "Zad.4. Napisz program, który oblicza wartość funkcji złożonej $ f(g(x)) $, gdzie:\n",
    "- $f(x) = \\sin(x) $\n",
    "- $ g(x) = x^2 - 4x + 3 $\n",
    "\n",
    "Wynik zwracaj z dokładnością do 4 miejsc po przecinku. "
   ]
  },
  {
   "cell_type": "code",
   "execution_count": null,
   "metadata": {},
   "outputs": [],
   "source": [
    "def g(x: float) -> float:\n",
    "    return x*x - 4*x + 3\n",
    "def f(x: float) -> float:\n",
    "    return np.sin(x)\n",
    "def h(x: float) -> float:\n",
    "    return f(g(x))\n",
    "x = float(input(\"Enter a number:\"))\n",
    "result = h(x)\n",
    "print(\"{:.4f}\".format(result))\n",
    "#alternatively print(f\"{result:.4f}\")\n",
    "#or print(round(result,4))\n",
    "    "
   ]
  },
  {
   "cell_type": "markdown",
   "metadata": {},
   "source": [
    "### 2. Wektory i zmienne"
   ]
  },
  {
   "cell_type": "code",
   "execution_count": null,
   "metadata": {},
   "outputs": [],
   "source": [
    "various_types = 5, 5.0, 3j, True\n",
    "number_int, number_float, number_imaginary, boolean_var = various_types\n",
    "print(type(number_int), type(number_float), type(number_imaginary), type(boolean_var))"
   ]
  },
  {
   "cell_type": "code",
   "execution_count": null,
   "metadata": {},
   "outputs": [],
   "source": [
    "my_name = \"Magda\"\n",
    "print(type(my_name))\n",
    "\n",
    "mix = (\"abc\", 1, 2.5) # tuples are useful when want to return couple of expressions\n",
    "print(type(mix))"
   ]
  },
  {
   "cell_type": "markdown",
   "metadata": {},
   "source": [
    "Zad.5. Napisz program, który realizuje następujące operacje na wektorach i zmiennych:\n",
    "\n",
    "1. **Reprezentacja wektora**: Stwórz wektor $ \\mathbf{v} = (x_1, x_2, x_3, x_4) $, gdzie wartości $ x_1, x_2, x_3, x_4 $ są zadane przez użytkownika.\n",
    "   \n",
    "2. **Przemnożenie przez skalar**: Pomnóż wektor przez skalar $ k $, który również jest podany przez użytkownika.\n",
    "\n",
    "3. **Dodawanie wektorów**: Stwórz drugi wektor $ \\mathbf{w} = (y_1, y_2, y_3, y_4) $, gdzie wartości $ y_1, y_2, y_3, y_4 $ są podane przez użytkownika. Dodaj wektor $ \\mathbf{v} $ i $ \\mathbf{w} $ (element po elemencie).\n",
    "\n",
    "4. **Iloczyn skalarny**: Oblicz iloczyn skalarny wektorów $ \\mathbf{v} $ i $ \\mathbf{w} $.\n",
    "\n",
    "5. **Norma wektora**: Oblicz normę (długość) wektora $ \\mathbf{v} $.\n",
    "\n",
    "6. **Wyświetlanie wyników**: Wyświetl wyniki każdej operacji w formie czytelnej dla użytkownika.\n"
   ]
  },
  {
   "cell_type": "code",
   "execution_count": null,
   "metadata": {},
   "outputs": [],
   "source": [
    "v = np.empty(4, dtype=float)\n",
    "for itr in np.ndindex(v.shape):\n",
    "    v[itr] = float(input(f\"Enter coordinate {itr[0]}\"))\n",
    "k = float(input(\"Enter a scalar:\"))\n",
    "print(f\"Wynik mnozenia przez skalar {k} wynosi {k*v}\")\n",
    "w = np.empty(4, dtype=float)\n",
    "for itr in np.ndindex(w.shape):\n",
    "    w[itr] = float(input(f\"Enter coordinate {itr[0]}\"))\n",
    "sum_vec = w+v\n",
    "print(f\"Suma wektorow {v} oraz {w} wynosi {sum_vec}\")\n",
    "dot_vec = np.dot(w,v)\n",
    "print(f\"Iloczyn skalarny wektorow wynosi {dot_vec}\")\n",
    "norm_vec = np.linalg.norm(v)\n",
    "print(f\"Norma wektora v wynosi {norm_vec}\")\n"
   ]
  },
  {
   "cell_type": "markdown",
   "metadata": {},
   "source": [
    "### 3. Mutowalne i niemutowalne typy danych"
   ]
  },
  {
   "cell_type": "markdown",
   "metadata": {},
   "source": [
    "W Pythonie typy danych można podzielić na **mutowalne** (mutable) i **niemutowalne** (immutable).  \n",
    "- **Mutowalne** – ich zawartość można zmieniać po utworzeniu. Przykłady: `list`, `dict`, `set`.\n",
    "- **Niemutowalne** – raz utworzone, nie mogą być zmienione. Przykłady: `int`, `float`, `str`, `tuple`.\n"
   ]
  },
  {
   "cell_type": "code",
   "execution_count": null,
   "metadata": {},
   "outputs": [],
   "source": [
    "# Przykład 1: liczby są niemutowalne\n",
    "x = 10\n",
    "print(id(x))  # ID obiektu przed zmianą\n",
    "x += 5\n",
    "print(id(x))  # ID obiektu po zmianie (jest inne)\n"
   ]
  },
  {
   "cell_type": "code",
   "execution_count": null,
   "metadata": {},
   "outputs": [],
   "source": [
    "# Przykład 2: stringi są niemutowalne\n",
    "s = \"Hello\"\n",
    "print(id(s))\n",
    "s += \" World\"\n",
    "print(id(s))  # Nowy obiekt\n"
   ]
  },
  {
   "cell_type": "code",
   "execution_count": null,
   "metadata": {},
   "outputs": [],
   "source": [
    "# Przykład 3: krotki (tuple) są niemutowalne\n",
    "t = (1, 2, 3)\n",
    "print(id(t))\n",
    "t += (4,)  # Tworzy nową krotkę\n",
    "print(id(t))  # Inny obiekt"
   ]
  },
  {
   "cell_type": "code",
   "execution_count": null,
   "metadata": {},
   "outputs": [],
   "source": [
    "# Przykład 4: listy są mutowalne\n",
    "lst = [1, 2, 3]\n",
    "print(id(lst))  # ID przed zmianą\n",
    "lst.append(4)\n",
    "print(id(lst))  # ID po zmianie (takie samo)"
   ]
  },
  {
   "cell_type": "code",
   "execution_count": null,
   "metadata": {},
   "outputs": [],
   "source": [
    "# Przykład 5: słowniki (dict) są mutowalne\n",
    "d = {\"a\": 1, \"b\": 2}\n",
    "print(id(d))\n",
    "d[\"c\"] = 3\n",
    "print(id(d))  # ID pozostaje to samo"
   ]
  },
  {
   "cell_type": "code",
   "execution_count": null,
   "metadata": {},
   "outputs": [],
   "source": [
    "# Przykład 6: zbiory (set) są mutowalne\n",
    "s = {1, 2, 3}\n",
    "print(id(s))\n",
    "s.add(4)\n",
    "print(id(s))  # ID się nie zmienia"
   ]
  },
  {
   "cell_type": "markdown",
   "metadata": {},
   "source": [
    "Zad.6. Stwórz listę zakupów, w której znjadą się: chleb, mleko, jajka, masło. Dodaj do listy produkt \"ser\". Usuń \"masło\".\n",
    "Zamień \"mleko\" na \"mleko sojowe\". Wypisz zmodyfikowaną listę."
   ]
  },
  {
   "cell_type": "code",
   "execution_count": null,
   "metadata": {},
   "outputs": [],
   "source": [
    "shopping_list = [\"bread\", \"milk\", \"eggs\", \"butter\"]\n",
    "shopping_list.append(\"cheese\")\n",
    "shopping_list = [obj for obj in shopping_list if obj != \"butter\"]\n",
    "#alternatively shopping.list.remove(\"butter\")\n",
    "milk_index = shopping_list.index(\"milk\")\n",
    "shopping_list[milk_index] = \"soy milk\"\n",
    "print(shopping_list)"
   ]
  },
  {
   "cell_type": "markdown",
   "metadata": {},
   "source": [
    "Zad.7. Stwórz krotkę dni_tygodnia zawierającą nazwy dni tygodnia. Spróbuj zmienić \"czwartek\" na \"czwartek(tłusty czwartek)\". Co się stanie?\n",
    "Jak można zmodyfikować tę krotkę, skoro jest niemutowalna?"
   ]
  },
  {
   "cell_type": "code",
   "execution_count": null,
   "metadata": {},
   "outputs": [],
   "source": [
    "dni_tygodnia = (\"monday\", \"tuesday\", \"wednesday\", \"thursday\", \"friday\", \"saturday\", \"sunday\")\n",
    "d = {\"thursday\" : \"Fat Thursday\"}\n",
    "dni_tygodnia = tuple(map(lambda x: d.get(x,x), dni_tygodnia))\n",
    "print(dni_tygodnia)"
   ]
  },
  {
   "cell_type": "markdown",
   "metadata": {},
   "source": [
    "Zad.8. W pokerze gracze tworzą najlepszy możliwy układ, łącząc swoje dwie karty z pięcioma kartami wspólnymi. Stwórz symulację gry w pokera, gdzie ręka gracza (dwie karty) będzie krotką (niemutowalna), a flop (3 pierwsze karty wspólne) listą (mutowalną). Dodaj dwie kolejne karty do flopa, posortuj je i sprawdź najlepszy możliwy układ.\n",
    "\n",
    "reka_gracza = ((\"K\", \"♥\"), (\"8\", \"♦\"))\n",
    "\n",
    "flop = [(\"A\", \"♥\"), (\"D\", \"♥\"), (\"10\", \"♥\")]\n",
    "\n",
    "\n",
    "Przeprowadź następujące operacje w podanej kolejności:\n",
    "1. Do kart wspólnych dochodzi czwarta karta – Dodaj \"3♠\" do listy flop.\n",
    "2. Do kart wspólnych dochodzi piąta karta – Dodaj \"J♥\" do listy flop.\n",
    "3. Połącz rękę gracza i flop w jedną listę.\n",
    "4. Posortuj karty w kolejności rosnącej według wartości pokerowej (as najwyżej).\n",
    "5. Wybierz 5 najlepszych kart spośród 7 dostępnych. \n",
    "5. Wypisz rękę gracza i wszystkie wspólne karty. "
   ]
  },
  {
   "cell_type": "code",
   "execution_count": null,
   "metadata": {},
   "outputs": [],
   "source": [
    "# your code "
   ]
  }
 ],
 "metadata": {
  "kernelspec": {
   "display_name": "ml",
   "language": "python",
   "name": "python3"
  },
  "language_info": {
   "codemirror_mode": {
    "name": "ipython",
    "version": 3
   },
   "file_extension": ".py",
   "mimetype": "text/x-python",
   "name": "python",
   "nbconvert_exporter": "python",
   "pygments_lexer": "ipython3",
   "version": "3.10.13"
  }
 },
 "nbformat": 4,
 "nbformat_minor": 2
}
