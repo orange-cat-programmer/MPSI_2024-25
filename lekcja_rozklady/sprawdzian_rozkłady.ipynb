{
 "cells": [
  {
   "cell_type": "markdown",
   "source": [
    "Zadanie 1.\n",
    "-\n",
    "Wygeneruj *numpy* tablicę składającą z $100000$ danych z rozkładu dwumiennego z parametrami $p = \\frac{1}{3}$, $n = 10000$. Następnie zmodyfikuj te dane tak, aby ich średnia była równa zero oraz ich wariancja była równa $1$. Stwórz histogram z wygenerowanymi danymi. Histogram powinien:\n",
    "- być znormalizowany\n",
    "- mieć czarną obwódkę\n",
    "- mieć fioletowy kolor\n",
    "- mieć 60 przedziałów równej długości\n",
    "- mieć dobrze opisane osie.\n",
    "Następnie nanieś na __ten sam__ wykres funkcję gęstości rozkładu normalnego (`scipy.stats.norm.pdf`)."
   ],
   "metadata": {
    "collapsed": false
   },
   "id": "7907f3c52200b010"
  },
  {
   "cell_type": "markdown",
   "source": [
    "Zadanie 2.\n",
    "-\n",
    "Wygeneruj dane (_numpy_ tablica z $10000$ wartości) z rozkładu Cauchy'ego. Następnie oblicz ich wariancję oraz średnią. Korzystając z funkcji `np.percentile(data, value)` oblicz 5. oraz 95. percentyl wygenerowanych danych. Następnie wygeneruj histogram z otrzymanych danych, które __znajdują się pomiędzy percentylami__ tak aby na osi poziomej pokazywał tylko wartości pomiędzy powyższymi percentylami (użyj parametru _range_). Następnie, korzystając z `seaborn.kdeplot` nanieś wykres szacunkowej funkcji gęstości na ten histogram. Następnie wygeneruj jeszcze $2$ analogiczne wykresy, ale tym razem odpowiednio zmniejsz/zwiększ parametr _bandwidth_."
   ],
   "metadata": {
    "collapsed": false
   },
   "id": "5965e21ff306d61b"
  },
  {
   "cell_type": "markdown",
   "source": [
    "Zadanie 3.\n",
    "-\n",
    "Twoim zadaniem będzie eksperymentalne stwierdzenie, która z gier jest średnio bardziej opłacalna. W grze __A__ rzucasz symetryczną sześcienną kostką, sumując ze sobą kolejne wyniki rzutów. Jeśli kiedykolwiek wyrzucisz $1$, przegrywasz grę i nic nie wygrywasz. Możesz zatrzymać grę w dowolnym momencie i (jeśli nie wyrzuciłeś $1$) odebrać aktualną sumę w dollarach.\n",
    "W grze __B__ rzucasz kostką z ośmioma ścianami tak długo, jak ciąg wyników jest rosnący. Następnie sumujesz wyrazy z tego _rosnącego_ ciągu i to jest twoja wygrana. __Uwaga:__ Zalecana strategia w grze __A__ to kontynuować rzuty kostką do momentu, w którym twoja suma przekroczy $20$. _(jeśli wystarczy czasu)_ Nanieś na jeden wykres wyniki z $1000$ symulacji obu gier, aby dokonać graficznego porównania. Narysuj również histogramy z obu gier, aby porównać kształty ich dystrybucji.\n"
   ],
   "metadata": {
    "collapsed": false
   },
   "id": "39ab549aee4be215"
  },
  {
   "cell_type": "code",
   "outputs": [],
   "source": [],
   "metadata": {
    "collapsed": false
   },
   "id": "ad026c7fb1deac00"
  }
 ],
 "metadata": {
  "kernelspec": {
   "display_name": "Python 3",
   "language": "python",
   "name": "python3"
  },
  "language_info": {
   "codemirror_mode": {
    "name": "ipython",
    "version": 2
   },
   "file_extension": ".py",
   "mimetype": "text/x-python",
   "name": "python",
   "nbconvert_exporter": "python",
   "pygments_lexer": "ipython2",
   "version": "2.7.6"
  }
 },
 "nbformat": 4,
 "nbformat_minor": 5
}
